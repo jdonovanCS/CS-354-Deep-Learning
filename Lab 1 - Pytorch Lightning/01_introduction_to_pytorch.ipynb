{
 "cells": [
  {
   "cell_type": "markdown",
   "id": "c1ca2a69",
   "metadata": {
    "id": "c1ca2a69",
    "papermill": {
     "duration": 0.179789,
     "end_time": "2021-12-04T15:53:22.277549",
     "exception": false,
     "start_time": "2021-12-04T15:53:22.097760",
     "status": "completed"
    },
    "tags": []
   },
   "source": [
    "\n",
    "# Tutorial 1: Introduction to PyTorch\n",
    "\n",
    "* **Author:** Phillip Lippe\n",
    "* **License:** CC BY-SA\n",
    "* **Generated:** 2021-12-04T16:52:44.026092\n",
    "\n",
    "This tutorial will give a short introduction to PyTorch basics, and get you setup for writing your own neural networks.\n",
    "This notebook is part of a lecture series on Deep Learning at the University of Amsterdam.\n",
    "The full list of tutorials can be found at https://uvadlc-notebooks.rtfd.io.\n",
    "\n",
    "\n",
    "---\n",
    "Open in [![Open In Colab](data:image/png;base64,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){height=\"20px\" width=\"117px\"}](https://colab.research.google.com/github/PytorchLightning/lightning-tutorials/blob/publication/.notebooks/course_UvA-DL/01-introduction-to-pytorch.ipynb)\n",
    "\n",
    "Give us a ⭐ [on Github](https://www.github.com/PytorchLightning/pytorch-lightning/)\n",
    "| Check out [the documentation](https://pytorch-lightning.readthedocs.io/en/latest/)\n",
    "| Join us [on Slack](https://join.slack.com/t/pytorch-lightning/shared_invite/zt-pw5v393p-qRaDgEk24~EjiZNBpSQFgQ)"
   ]
  },
  {
   "cell_type": "markdown",
   "id": "8387d057",
   "metadata": {
    "id": "8387d057",
    "papermill": {
     "duration": 0.177673,
     "end_time": "2021-12-04T15:53:22.631831",
     "exception": false,
     "start_time": "2021-12-04T15:53:22.454158",
     "status": "completed"
    },
    "tags": []
   },
   "source": [
    "## Setup\n",
    "This notebook requires some packages besides pytorch-lightning."
   ]
  },
  {
   "cell_type": "code",
   "execution_count": 1,
   "id": "9d8201a6",
   "metadata": {
    "execution": {
     "iopub.execute_input": "2021-12-04T15:53:22.994731Z",
     "iopub.status.busy": "2021-12-04T15:53:22.994231Z",
     "iopub.status.idle": "2021-12-04T15:53:25.459580Z",
     "shell.execute_reply": "2021-12-04T15:53:25.459996Z"
    },
    "id": "9d8201a6",
    "lines_to_next_cell": 0,
    "papermill": {
     "duration": 2.651811,
     "end_time": "2021-12-04T15:53:25.460282",
     "exception": false,
     "start_time": "2021-12-04T15:53:22.808471",
     "status": "completed"
    },
    "tags": []
   },
   "outputs": [],
   "source": [
    "# ! pip install --quiet \"torchmetrics>=0.3\" \"matplotlib\" \"torch>=1.6, <1.9\" \"pytorch-lightning>=1.3\""
   ]
  },
  {
   "cell_type": "markdown",
   "id": "3ef762bf",
   "metadata": {
    "id": "3ef762bf",
    "papermill": {
     "duration": 0.180076,
     "end_time": "2021-12-04T15:53:25.821045",
     "exception": false,
     "start_time": "2021-12-04T15:53:25.640969",
     "status": "completed"
    },
    "tags": []
   },
   "source": [
    "<div class=\"center-wrapper\"><div class=\"video-wrapper\"><iframe src=\"https://www.youtube.com/embed/wnKZZgFQY-E\" title=\"YouTube video player\" frameborder=\"0\" allow=\"accelerometer; autoplay; clipboard-write; encrypted-media; gyroscope; picture-in-picture\" allowfullscreen></iframe></div></div>\n",
    "Welcome to our PyTorch tutorial for the Deep Learning course 2020 at the University of Amsterdam!\n",
    "The following notebook is meant to give a short introduction to PyTorch basics, and get you setup for writing your own neural networks.\n",
    "PyTorch is an open source machine learning framework that allows you to write your own neural networks and optimize them efficiently.\n",
    "However, PyTorch is not the only framework of its kind.\n",
    "Alternatives to PyTorch include [TensorFlow](https://www.tensorflow.org/), [JAX](https://github.com/google/jax) and [Caffe](http://caffe.berkeleyvision.org/).\n",
    "We choose to teach PyTorch at the University of Amsterdam because it is well established, has a huge developer community (originally developed by Facebook), is very flexible and especially used in research.\n",
    "Many current papers publish their code in PyTorch, and thus it is good to be familiar with PyTorch as well.\n",
    "Meanwhile, TensorFlow (developed by Google) is usually known for being a production-grade deep learning library.\n",
    "Still, if you know one machine learning framework in depth, it is very easy to learn another one because many of them use the same concepts and ideas.\n",
    "For instance, TensorFlow's version 2 was heavily inspired by the most popular features of PyTorch, making the frameworks even more similar.\n",
    "If you are already familiar with PyTorch and have created your own neural network projects, feel free to just skim this notebook.\n",
    "\n",
    "We are of course not the first ones to create a PyTorch tutorial.\n",
    "There are many great tutorials online, including the [\"60-min blitz\"](https://pytorch.org/tutorials/beginner/deep_learning_60min_blitz.html) on the official [PyTorch website](https://pytorch.org/tutorials/).\n",
    "Yet, we choose to create our own tutorial which is designed to give you the basics particularly necessary for the practicals, but still understand how PyTorch works under the hood.\n",
    "Over the next few weeks, we will also keep exploring new PyTorch features in the series of Jupyter notebook tutorials about deep learning.\n",
    "\n",
    "We will use a set of standard libraries that are often used in machine learning projects.\n",
    "If you are running this notebook on Google Colab, all libraries should be pre-installed.\n",
    "If you are running this notebook locally, make sure you have installed our `dl2020` environment ([link](https://github.com/uvadlc/uvadlc_practicals_2020/blob/master/environment.yml)) and have activated it."
   ]
  },
  {
   "cell_type": "code",
   "execution_count": 2,
   "id": "fd4e9d73",
   "metadata": {
    "execution": {
     "iopub.execute_input": "2021-12-04T15:53:26.189594Z",
     "iopub.status.busy": "2021-12-04T15:53:26.189116Z",
     "iopub.status.idle": "2021-12-04T15:53:27.107430Z",
     "shell.execute_reply": "2021-12-04T15:53:27.107817Z"
    },
    "id": "fd4e9d73",
    "outputId": "aec94230-0648-4e29-9ca8-81326e5eb8ca",
    "papermill": {
     "duration": 1.106304,
     "end_time": "2021-12-04T15:53:27.107981",
     "exception": false,
     "start_time": "2021-12-04T15:53:26.001677",
     "status": "completed"
    },
    "tags": []
   },
   "outputs": [
    {
     "name": "stderr",
     "output_type": "stream",
     "text": [
      "C:\\Users\\Jordan\\AppData\\Local\\Temp/ipykernel_19936/1478853830.py:14: DeprecationWarning: `set_matplotlib_formats` is deprecated since IPython 7.23, directly use `matplotlib_inline.backend_inline.set_matplotlib_formats()`\n",
      "  set_matplotlib_formats(\"svg\", \"pdf\")\n"
     ]
    },
    {
     "name": "stdout",
     "output_type": "stream",
     "text": [
      "1.10.2+cu113\n",
      "11.3\n",
      "True\n"
     ]
    }
   ],
   "source": [
    "import time\n",
    "\n",
    "import matplotlib.pyplot as plt\n",
    "import numpy as np\n",
    "import torch\n",
    "import torch.nn as nn\n",
    "import torch.utils.data as data\n",
    "\n",
    "%matplotlib inline\n",
    "from IPython.display import set_matplotlib_formats\n",
    "from matplotlib.colors import to_rgba\n",
    "from tqdm.notebook import tqdm  # Progress bar\n",
    "\n",
    "set_matplotlib_formats(\"svg\", \"pdf\")\n",
    "\n",
    "import pytorch_lightning as pl\n",
    "\n",
    "print(torch.__version__)\n",
    "print(torch.version.cuda)\n",
    "print(torch.cuda.is_available())"
   ]
  },
  {
   "cell_type": "markdown",
   "id": "e6ab2b50",
   "metadata": {
    "id": "e6ab2b50",
    "papermill": {
     "duration": 0.177291,
     "end_time": "2021-12-04T15:53:27.467274",
     "exception": false,
     "start_time": "2021-12-04T15:53:27.289983",
     "status": "completed"
    },
    "tags": []
   },
   "source": [
    "## The Basics of PyTorch\n",
    "\n",
    "We will start with reviewing the very basic concepts of PyTorch.\n",
    "As a prerequisite, we recommend to be familiar with the `numpy` package as most machine learning frameworks are based on very similar concepts.\n",
    "If you are not familiar with numpy yet, don't worry: here is a [tutorial](https://numpy.org/devdocs/user/quickstart.html) to go through.\n",
    "\n",
    "So, let's start with importing PyTorch.\n",
    "The package is called `torch`, based on its original framework [Torch](http://torch.ch/).\n",
    "As a first step, we can check its version:"
   ]
  },
  {
   "cell_type": "code",
   "execution_count": 3,
   "id": "11531bd1",
   "metadata": {
    "execution": {
     "iopub.execute_input": "2021-12-04T15:53:27.828703Z",
     "iopub.status.busy": "2021-12-04T15:53:27.828236Z",
     "iopub.status.idle": "2021-12-04T15:53:27.830237Z",
     "shell.execute_reply": "2021-12-04T15:53:27.830613Z"
    },
    "id": "11531bd1",
    "outputId": "a572f95e-2ad9-495b-fe8b-cf8761a47d54",
    "papermill": {
     "duration": 0.186067,
     "end_time": "2021-12-04T15:53:27.830761",
     "exception": false,
     "start_time": "2021-12-04T15:53:27.644694",
     "status": "completed"
    },
    "tags": []
   },
   "outputs": [
    {
     "name": "stdout",
     "output_type": "stream",
     "text": [
      "Using torch 1.10.2+cu113\n"
     ]
    }
   ],
   "source": [
    "print(\"Using torch\", torch.__version__)"
   ]
  },
  {
   "cell_type": "markdown",
   "id": "09c6bc8c",
   "metadata": {
    "id": "09c6bc8c",
    "papermill": {
     "duration": 0.180813,
     "end_time": "2021-12-04T15:53:28.192377",
     "exception": false,
     "start_time": "2021-12-04T15:53:28.011564",
     "status": "completed"
    },
    "tags": []
   },
   "source": [
    "At the time of writing this tutorial (mid of August 2021), the current stable version is 1.9.\n",
    "You should therefore see the output `Using torch 1.9.0`, eventually with some extension for the CUDA version on Colab.\n",
    "In case you use the `dl2020` environment, you should see `Using torch 1.6.0` since the environment was provided in October 2020.\n",
    "It is recommended to update the PyTorch version to the newest one.\n",
    "If you see a lower version number than 1.6, make sure you have installed the correct the environment, or ask one of your TAs.\n",
    "In case PyTorch 1.10 or newer will be published during the time of the course, don't worry.\n",
    "The interface between PyTorch versions doesn't change too much, and hence all code should also be runnable with newer versions.\n",
    "\n",
    "As in every machine learning framework, PyTorch provides functions that are stochastic like generating random numbers.\n",
    "However, a very good practice is to setup your code to be reproducible with the exact same random numbers.\n",
    "This is why we set a seed below."
   ]
  },
  {
   "cell_type": "code",
   "execution_count": 4,
   "id": "541190c5",
   "metadata": {
    "execution": {
     "iopub.execute_input": "2021-12-04T15:53:28.555309Z",
     "iopub.status.busy": "2021-12-04T15:53:28.554820Z",
     "iopub.status.idle": "2021-12-04T15:53:28.559934Z",
     "shell.execute_reply": "2021-12-04T15:53:28.560320Z"
    },
    "id": "541190c5",
    "outputId": "5e35e0b0-5cb7-44fa-f724-af1144e00833",
    "papermill": {
     "duration": 0.188101,
     "end_time": "2021-12-04T15:53:28.560451",
     "exception": false,
     "start_time": "2021-12-04T15:53:28.372350",
     "status": "completed"
    },
    "tags": []
   },
   "outputs": [
    {
     "data": {
      "text/plain": [
       "<torch._C.Generator at 0x1cb21f6d850>"
      ]
     },
     "execution_count": 4,
     "metadata": {},
     "output_type": "execute_result"
    }
   ],
   "source": [
    "torch.manual_seed(42)  # Setting the seed"
   ]
  },
  {
   "cell_type": "markdown",
   "id": "07432939",
   "metadata": {
    "id": "07432939",
    "papermill": {
     "duration": 0.179782,
     "end_time": "2021-12-04T15:53:28.920061",
     "exception": false,
     "start_time": "2021-12-04T15:53:28.740279",
     "status": "completed"
    },
    "tags": []
   },
   "source": [
    "### Tensors\n",
    "\n",
    "Tensors are the PyTorch equivalent to Numpy arrays, with the addition to also have support for GPU acceleration (more on that later).\n",
    "The name \"tensor\" is a generalization of concepts you already know.\n",
    "For instance, a vector is a 1-D tensor, and a matrix a 2-D tensor.\n",
    "When working with neural networks, we will use tensors of various shapes and number of dimensions.\n",
    "\n",
    "Most common functions you know from numpy can be used on tensors as well.\n",
    "Actually, since numpy arrays are so similar to tensors, we can convert most tensors to numpy arrays (and back) but we don't need it too often.\n",
    "\n",
    "#### Initialization\n",
    "\n",
    "Let's first start by looking at different ways of creating a tensor.\n",
    "There are many possible options, the most simple one is to call\n",
    "`torch.Tensor` passing the desired shape as input argument:"
   ]
  },
  {
   "cell_type": "code",
   "execution_count": 5,
   "id": "9a7c7abb",
   "metadata": {
    "execution": {
     "iopub.execute_input": "2021-12-04T15:53:29.290240Z",
     "iopub.status.busy": "2021-12-04T15:53:29.289779Z",
     "iopub.status.idle": "2021-12-04T15:53:29.293533Z",
     "shell.execute_reply": "2021-12-04T15:53:29.293096Z"
    },
    "id": "9a7c7abb",
    "outputId": "ff32bb03-4c58-470f-be94-c043e5493c28",
    "papermill": {
     "duration": 0.186675,
     "end_time": "2021-12-04T15:53:29.293645",
     "exception": false,
     "start_time": "2021-12-04T15:53:29.106970",
     "status": "completed"
    },
    "tags": []
   },
   "outputs": [
    {
     "name": "stdout",
     "output_type": "stream",
     "text": [
      "tensor([[[0.0000e+00, 0.0000e+00, 4.7166e-15, 6.4320e-43],\n",
      "         [4.7171e-15, 6.4320e-43, 4.7171e-15, 6.4320e-43],\n",
      "         [1.4125e-14, 4.5916e-41, 1.4125e-14, 4.5916e-41]],\n",
      "\n",
      "        [[1.4125e-14, 4.5916e-41, 1.4125e-14, 4.5916e-41],\n",
      "         [1.4125e-14, 4.5916e-41, 1.4125e-14, 4.5916e-41],\n",
      "         [1.4125e-14, 4.5916e-41, 1.4013e-45, 0.0000e+00]]])\n"
     ]
    }
   ],
   "source": [
    "x = torch.Tensor(2, 3, 4)\n",
    "print(x)"
   ]
  },
  {
   "cell_type": "markdown",
   "id": "c3259cdd",
   "metadata": {
    "id": "c3259cdd",
    "papermill": {
     "duration": 0.182347,
     "end_time": "2021-12-04T15:53:29.658142",
     "exception": false,
     "start_time": "2021-12-04T15:53:29.475795",
     "status": "completed"
    },
    "tags": []
   },
   "source": [
    "The function `torch.Tensor` allocates memory for the desired tensor, but reuses any values that have already been in the memory.\n",
    "To directly assign values to the tensor during initialization, there are many alternatives including:\n",
    "\n",
    "* `torch.zeros`: Creates a tensor filled with zeros\n",
    "* `torch.ones`: Creates a tensor filled with ones\n",
    "* `torch.rand`: Creates a tensor with random values uniformly sampled between 0 and 1\n",
    "* `torch.randn`: Creates a tensor with random values sampled from a normal distribution with mean 0 and variance 1\n",
    "* `torch.arange`: Creates a tensor containing the values $N,N+1,N+2,...,M$\n",
    "* `torch.Tensor` (input list): Creates a tensor from the list elements you provide"
   ]
  },
  {
   "cell_type": "code",
   "execution_count": 6,
   "id": "d7d674fc",
   "metadata": {
    "execution": {
     "iopub.execute_input": "2021-12-04T15:53:30.029266Z",
     "iopub.status.busy": "2021-12-04T15:53:30.028795Z",
     "iopub.status.idle": "2021-12-04T15:53:30.031289Z",
     "shell.execute_reply": "2021-12-04T15:53:30.031670Z"
    },
    "id": "d7d674fc",
    "outputId": "2f81fa93-12fb-409c-a79c-12ad46d4650b",
    "papermill": {
     "duration": 0.18988,
     "end_time": "2021-12-04T15:53:30.031801",
     "exception": false,
     "start_time": "2021-12-04T15:53:29.841921",
     "status": "completed"
    },
    "tags": []
   },
   "outputs": [
    {
     "name": "stdout",
     "output_type": "stream",
     "text": [
      "tensor([[1., 2.],\n",
      "        [3., 4.]])\n"
     ]
    }
   ],
   "source": [
    "# Create a tensor from a (nested) list\n",
    "x = torch.Tensor([[1, 2], [3, 4]])\n",
    "print(x)"
   ]
  },
  {
   "cell_type": "code",
   "execution_count": 7,
   "id": "2267c81e",
   "metadata": {
    "execution": {
     "iopub.execute_input": "2021-12-04T15:53:30.409461Z",
     "iopub.status.busy": "2021-12-04T15:53:30.408988Z",
     "iopub.status.idle": "2021-12-04T15:53:30.411852Z",
     "shell.execute_reply": "2021-12-04T15:53:30.412236Z"
    },
    "id": "2267c81e",
    "outputId": "c97bd07f-a7c8-4d5d-d960-f966397d653a",
    "papermill": {
     "duration": 0.192911,
     "end_time": "2021-12-04T15:53:30.412364",
     "exception": false,
     "start_time": "2021-12-04T15:53:30.219453",
     "status": "completed"
    },
    "tags": []
   },
   "outputs": [
    {
     "name": "stdout",
     "output_type": "stream",
     "text": [
      "tensor([[[0.8823, 0.9150, 0.3829, 0.9593],\n",
      "         [0.3904, 0.6009, 0.2566, 0.7936],\n",
      "         [0.9408, 0.1332, 0.9346, 0.5936]],\n",
      "\n",
      "        [[0.8694, 0.5677, 0.7411, 0.4294],\n",
      "         [0.8854, 0.5739, 0.2666, 0.6274],\n",
      "         [0.2696, 0.4414, 0.2969, 0.8317]]])\n"
     ]
    }
   ],
   "source": [
    "# Create a tensor with random values between 0 and 1 with the shape [2, 3, 4]\n",
    "x = torch.rand(2, 3, 4)\n",
    "print(x)"
   ]
  },
  {
   "cell_type": "markdown",
   "id": "f11f5cfd",
   "metadata": {
    "id": "f11f5cfd",
    "papermill": {
     "duration": 0.184187,
     "end_time": "2021-12-04T15:53:30.778847",
     "exception": false,
     "start_time": "2021-12-04T15:53:30.594660",
     "status": "completed"
    },
    "tags": []
   },
   "source": [
    "You can obtain the shape of a tensor in the same way as in numpy (`x.shape`), or using the `.size` method:"
   ]
  },
  {
   "cell_type": "code",
   "execution_count": 8,
   "id": "217f784e",
   "metadata": {
    "execution": {
     "iopub.execute_input": "2021-12-04T15:53:31.151326Z",
     "iopub.status.busy": "2021-12-04T15:53:31.150840Z",
     "iopub.status.idle": "2021-12-04T15:53:31.153313Z",
     "shell.execute_reply": "2021-12-04T15:53:31.153693Z"
    },
    "id": "217f784e",
    "outputId": "4d3bcdf2-0450-4090-a5ef-c40491216dc4",
    "papermill": {
     "duration": 0.191823,
     "end_time": "2021-12-04T15:53:31.153829",
     "exception": false,
     "start_time": "2021-12-04T15:53:30.962006",
     "status": "completed"
    },
    "tags": []
   },
   "outputs": [
    {
     "name": "stdout",
     "output_type": "stream",
     "text": [
      "Shape: torch.Size([2, 3, 4])\n",
      "Size: torch.Size([2, 3, 4])\n",
      "Size: 2 3 4\n"
     ]
    }
   ],
   "source": [
    "shape = x.shape\n",
    "print(\"Shape:\", x.shape)\n",
    "\n",
    "size = x.size()\n",
    "print(\"Size:\", size)\n",
    "\n",
    "dim1, dim2, dim3 = x.size()\n",
    "print(\"Size:\", dim1, dim2, dim3)"
   ]
  },
  {
   "cell_type": "markdown",
   "id": "692ea692",
   "metadata": {
    "id": "692ea692",
    "papermill": {
     "duration": 0.18425,
     "end_time": "2021-12-04T15:53:31.521916",
     "exception": false,
     "start_time": "2021-12-04T15:53:31.337666",
     "status": "completed"
    },
    "tags": []
   },
   "source": [
    "#### Tensor to Numpy, and Numpy to Tensor\n",
    "\n",
    "Tensors can be converted to numpy arrays, and numpy arrays back to tensors.\n",
    "To transform a numpy array into a tensor, we can use the function `torch.from_numpy`:"
   ]
  },
  {
   "cell_type": "code",
   "execution_count": 9,
   "id": "52c87663",
   "metadata": {
    "execution": {
     "iopub.execute_input": "2021-12-04T15:53:31.897321Z",
     "iopub.status.busy": "2021-12-04T15:53:31.896848Z",
     "iopub.status.idle": "2021-12-04T15:53:31.899783Z",
     "shell.execute_reply": "2021-12-04T15:53:31.899380Z"
    },
    "id": "52c87663",
    "outputId": "514fb1e9-1be1-4b3e-8f24-bac6e2455a57",
    "papermill": {
     "duration": 0.193907,
     "end_time": "2021-12-04T15:53:31.899893",
     "exception": false,
     "start_time": "2021-12-04T15:53:31.705986",
     "status": "completed"
    },
    "tags": []
   },
   "outputs": [
    {
     "name": "stdout",
     "output_type": "stream",
     "text": [
      "Numpy array: [[1 2]\n",
      " [3 4]]\n",
      "PyTorch tensor: tensor([[1, 2],\n",
      "        [3, 4]], dtype=torch.int32)\n"
     ]
    }
   ],
   "source": [
    "np_arr = np.array([[1, 2], [3, 4]])\n",
    "tensor = torch.from_numpy(np_arr)\n",
    "\n",
    "print(\"Numpy array:\", np_arr)\n",
    "print(\"PyTorch tensor:\", tensor)"
   ]
  },
  {
   "cell_type": "markdown",
   "id": "fe3837cb",
   "metadata": {
    "id": "fe3837cb",
    "papermill": {
     "duration": 0.183323,
     "end_time": "2021-12-04T15:53:32.270124",
     "exception": false,
     "start_time": "2021-12-04T15:53:32.086801",
     "status": "completed"
    },
    "tags": []
   },
   "source": [
    "To transform a PyTorch tensor back to a numpy array, we can use the function `.numpy()` on tensors:"
   ]
  },
  {
   "cell_type": "code",
   "execution_count": 10,
   "id": "4a036f09",
   "metadata": {
    "execution": {
     "iopub.execute_input": "2021-12-04T15:53:32.645038Z",
     "iopub.status.busy": "2021-12-04T15:53:32.644564Z",
     "iopub.status.idle": "2021-12-04T15:53:32.647718Z",
     "shell.execute_reply": "2021-12-04T15:53:32.647247Z"
    },
    "id": "4a036f09",
    "outputId": "372c3af9-4801-4779-8fe5-e8902fe71b39",
    "papermill": {
     "duration": 0.193847,
     "end_time": "2021-12-04T15:53:32.647829",
     "exception": false,
     "start_time": "2021-12-04T15:53:32.453982",
     "status": "completed"
    },
    "tags": []
   },
   "outputs": [
    {
     "name": "stdout",
     "output_type": "stream",
     "text": [
      "PyTorch tensor: tensor([0, 1, 2, 3])\n",
      "Numpy array: [0 1 2 3]\n"
     ]
    }
   ],
   "source": [
    "tensor = torch.arange(4)\n",
    "np_arr = tensor.numpy()\n",
    "\n",
    "print(\"PyTorch tensor:\", tensor)\n",
    "print(\"Numpy array:\", np_arr)"
   ]
  },
  {
   "cell_type": "markdown",
   "id": "7ed5a7da",
   "metadata": {
    "id": "7ed5a7da",
    "papermill": {
     "duration": 0.184638,
     "end_time": "2021-12-04T15:53:33.016987",
     "exception": false,
     "start_time": "2021-12-04T15:53:32.832349",
     "status": "completed"
    },
    "tags": []
   },
   "source": [
    "The conversion of tensors to numpy require the tensor to be on the CPU, and not the GPU (more on GPU support in a later section).\n",
    "In case you have a tensor on GPU, you need to call `.cpu()` on the tensor beforehand.\n",
    "Hence, you get a line like `np_arr = tensor.cpu().numpy()`."
   ]
  },
  {
   "cell_type": "markdown",
   "id": "e8e882b6",
   "metadata": {
    "id": "e8e882b6",
    "papermill": {
     "duration": 0.183883,
     "end_time": "2021-12-04T15:53:33.386141",
     "exception": false,
     "start_time": "2021-12-04T15:53:33.202258",
     "status": "completed"
    },
    "tags": []
   },
   "source": [
    "#### Operations\n",
    "\n",
    "Most operations that exist in numpy, also exist in PyTorch.\n",
    "A full list of operations can be found in the [PyTorch documentation](https://pytorch.org/docs/stable/tensors.html#), but we will review the most important ones here.\n",
    "\n",
    "The simplest operation is to add two tensors:"
   ]
  },
  {
   "cell_type": "code",
   "execution_count": 11,
   "id": "a66afde2",
   "metadata": {
    "execution": {
     "iopub.execute_input": "2021-12-04T15:53:33.763575Z",
     "iopub.status.busy": "2021-12-04T15:53:33.763098Z",
     "iopub.status.idle": "2021-12-04T15:53:33.768208Z",
     "shell.execute_reply": "2021-12-04T15:53:33.767800Z"
    },
    "id": "a66afde2",
    "outputId": "4982467f-ab97-43ec-a4d6-f19c07d7d56c",
    "papermill": {
     "duration": 0.195513,
     "end_time": "2021-12-04T15:53:33.768317",
     "exception": false,
     "start_time": "2021-12-04T15:53:33.572804",
     "status": "completed"
    },
    "tags": []
   },
   "outputs": [
    {
     "name": "stdout",
     "output_type": "stream",
     "text": [
      "X1 tensor([[0.1053, 0.2695, 0.3588],\n",
      "        [0.1994, 0.5472, 0.0062]])\n",
      "X2 tensor([[0.9516, 0.0753, 0.8860],\n",
      "        [0.5832, 0.3376, 0.8090]])\n",
      "Y tensor([[1.0569, 0.3448, 1.2448],\n",
      "        [0.7826, 0.8848, 0.8151]])\n"
     ]
    }
   ],
   "source": [
    "x1 = torch.rand(2, 3)\n",
    "x2 = torch.rand(2, 3)\n",
    "y = x1 + x2\n",
    "\n",
    "print(\"X1\", x1)\n",
    "print(\"X2\", x2)\n",
    "print(\"Y\", y)"
   ]
  },
  {
   "cell_type": "markdown",
   "id": "3510743a",
   "metadata": {
    "id": "3510743a",
    "papermill": {
     "duration": 0.188609,
     "end_time": "2021-12-04T15:53:34.145802",
     "exception": false,
     "start_time": "2021-12-04T15:53:33.957193",
     "status": "completed"
    },
    "tags": []
   },
   "source": [
    "Calling `x1 + x2` creates a new tensor containing the sum of the two inputs.\n",
    "However, we can also use in-place operations that are applied directly on the memory of a tensor.\n",
    "We therefore change the values of `x2` without the chance to re-accessing the values of `x2` before the operation.\n",
    "An example is shown below:"
   ]
  },
  {
   "cell_type": "code",
   "execution_count": 12,
   "id": "93e2d0e2",
   "metadata": {
    "execution": {
     "iopub.execute_input": "2021-12-04T15:53:34.523641Z",
     "iopub.status.busy": "2021-12-04T15:53:34.523169Z",
     "iopub.status.idle": "2021-12-04T15:53:34.528393Z",
     "shell.execute_reply": "2021-12-04T15:53:34.528008Z"
    },
    "id": "93e2d0e2",
    "outputId": "f922acc7-faf4-40df-c39b-31897f8c2f46",
    "papermill": {
     "duration": 0.195416,
     "end_time": "2021-12-04T15:53:34.528506",
     "exception": false,
     "start_time": "2021-12-04T15:53:34.333090",
     "status": "completed"
    },
    "tags": []
   },
   "outputs": [
    {
     "name": "stdout",
     "output_type": "stream",
     "text": [
      "X1 (before) tensor([[0.5779, 0.9040, 0.5547],\n",
      "        [0.3423, 0.6343, 0.3644]])\n",
      "X2 (before) tensor([[0.7104, 0.9464, 0.7890],\n",
      "        [0.2814, 0.7886, 0.5895]])\n",
      "X1 (after) tensor([[0.5779, 0.9040, 0.5547],\n",
      "        [0.3423, 0.6343, 0.3644]])\n",
      "X2 (after) tensor([[1.2884, 1.8504, 1.3437],\n",
      "        [0.6237, 1.4230, 0.9539]])\n"
     ]
    }
   ],
   "source": [
    "x1 = torch.rand(2, 3)\n",
    "x2 = torch.rand(2, 3)\n",
    "print(\"X1 (before)\", x1)\n",
    "print(\"X2 (before)\", x2)\n",
    "\n",
    "x2.add_(x1)\n",
    "print(\"X1 (after)\", x1)\n",
    "print(\"X2 (after)\", x2)"
   ]
  },
  {
   "cell_type": "markdown",
   "id": "acae6209",
   "metadata": {
    "id": "acae6209",
    "papermill": {
     "duration": 0.189916,
     "end_time": "2021-12-04T15:53:34.905098",
     "exception": false,
     "start_time": "2021-12-04T15:53:34.715182",
     "status": "completed"
    },
    "tags": []
   },
   "source": [
    "In-place operations are usually marked with a underscore postfix (e.g. \"add_\" instead of \"add\").\n",
    "\n",
    "Another common operation aims at changing the shape of a tensor.\n",
    "A tensor of size (2,3) can be re-organized to any other shape with the same number of elements (e.g. a tensor of size (6), or (3,2), ...).\n",
    "In PyTorch, this operation is called `view`:"
   ]
  },
  {
   "cell_type": "code",
   "execution_count": 13,
   "id": "12e785e2",
   "metadata": {
    "execution": {
     "iopub.execute_input": "2021-12-04T15:53:35.283833Z",
     "iopub.status.busy": "2021-12-04T15:53:35.283366Z",
     "iopub.status.idle": "2021-12-04T15:53:35.285936Z",
     "shell.execute_reply": "2021-12-04T15:53:35.290804Z"
    },
    "id": "12e785e2",
    "outputId": "0a0a7775-213b-46cf-8874-ffdbaed5e796",
    "papermill": {
     "duration": 0.19887,
     "end_time": "2021-12-04T15:53:35.290937",
     "exception": false,
     "start_time": "2021-12-04T15:53:35.092067",
     "status": "completed"
    },
    "tags": []
   },
   "outputs": [
    {
     "name": "stdout",
     "output_type": "stream",
     "text": [
      "X tensor([0, 1, 2, 3, 4, 5])\n"
     ]
    }
   ],
   "source": [
    "x = torch.arange(6)\n",
    "print(\"X\", x)"
   ]
  },
  {
   "cell_type": "code",
   "execution_count": 14,
   "id": "68681255",
   "metadata": {
    "execution": {
     "iopub.execute_input": "2021-12-04T15:53:35.669862Z",
     "iopub.status.busy": "2021-12-04T15:53:35.669397Z",
     "iopub.status.idle": "2021-12-04T15:53:35.672118Z",
     "shell.execute_reply": "2021-12-04T15:53:35.671721Z"
    },
    "id": "68681255",
    "outputId": "4435f881-4bbb-4554-b63b-d6e1f812a7bf",
    "papermill": {
     "duration": 0.193577,
     "end_time": "2021-12-04T15:53:35.672223",
     "exception": false,
     "start_time": "2021-12-04T15:53:35.478646",
     "status": "completed"
    },
    "tags": []
   },
   "outputs": [
    {
     "name": "stdout",
     "output_type": "stream",
     "text": [
      "X tensor([[0, 1, 2],\n",
      "        [3, 4, 5]])\n"
     ]
    }
   ],
   "source": [
    "x = x.view(2, 3)\n",
    "print(\"X\", x)"
   ]
  },
  {
   "cell_type": "code",
   "execution_count": 15,
   "id": "b87c271d",
   "metadata": {
    "execution": {
     "iopub.execute_input": "2021-12-04T15:53:36.053012Z",
     "iopub.status.busy": "2021-12-04T15:53:36.052549Z",
     "iopub.status.idle": "2021-12-04T15:53:36.055288Z",
     "shell.execute_reply": "2021-12-04T15:53:36.054885Z"
    },
    "id": "b87c271d",
    "outputId": "4a260d02-3db9-4757-f160-d017f99e05fb",
    "papermill": {
     "duration": 0.195401,
     "end_time": "2021-12-04T15:53:36.055396",
     "exception": false,
     "start_time": "2021-12-04T15:53:35.859995",
     "status": "completed"
    },
    "tags": []
   },
   "outputs": [
    {
     "name": "stdout",
     "output_type": "stream",
     "text": [
      "X tensor([[0, 3],\n",
      "        [1, 4],\n",
      "        [2, 5]])\n"
     ]
    }
   ],
   "source": [
    "x = x.permute(1, 0)  # Swapping dimension 0 and 1\n",
    "print(\"X\", x)"
   ]
  },
  {
   "cell_type": "markdown",
   "id": "b45990ab",
   "metadata": {
    "id": "b45990ab",
    "papermill": {
     "duration": 0.191632,
     "end_time": "2021-12-04T15:53:36.435435",
     "exception": false,
     "start_time": "2021-12-04T15:53:36.243803",
     "status": "completed"
    },
    "tags": []
   },
   "source": [
    "Other commonly used operations include matrix multiplications, which are essential for neural networks.\n",
    "Quite often, we have an input vector $\\mathbf{x}$, which is transformed using a learned weight matrix $\\mathbf{W}$.\n",
    "There are multiple ways and functions to perform matrix multiplication, some of which we list below:\n",
    "\n",
    "* `torch.matmul`: Performs the matrix product over two tensors, where the specific behavior depends on the dimensions.\n",
    "If both inputs are matrices (2-dimensional tensors), it performs the standard matrix product.\n",
    "For higher dimensional inputs, the function supports broadcasting (for details see the [documentation](https://pytorch.org/docs/stable/generated/torch.matmul.html?highlight=matmul#torch.matmul)).\n",
    "Can also be written as `a @ b`, similar to numpy.\n",
    "* `torch.mm`: Performs the matrix product over two matrices, but doesn't support broadcasting (see [documentation](https://pytorch.org/docs/stable/generated/torch.mm.html?highlight=torch%20mm#torch.mm))\n",
    "* `torch.bmm`: Performs the matrix product with a support batch dimension.\n",
    "If the first tensor $T$ is of shape ($b\\times n\\times m$), and the second tensor $R$ ($b\\times m\\times p$), the output $O$ is of shape ($b\\times n\\times p$), and has been calculated by performing $b$ matrix multiplications of the submatrices of $T$ and $R$: $O_i = T_i @ R_i$\n",
    "* `torch.einsum`: Performs matrix multiplications and more (i.e. sums of products) using the Einstein summation convention.\n",
    "Explanation of the Einstein sum can be found in assignment 1.\n",
    "\n",
    "Usually, we use `torch.matmul` or `torch.bmm`. We can try a matrix multiplication with `torch.matmul` below."
   ]
  },
  {
   "cell_type": "code",
   "execution_count": 16,
   "id": "913092b1",
   "metadata": {
    "execution": {
     "iopub.execute_input": "2021-12-04T15:53:36.816103Z",
     "iopub.status.busy": "2021-12-04T15:53:36.815637Z",
     "iopub.status.idle": "2021-12-04T15:53:36.818033Z",
     "shell.execute_reply": "2021-12-04T15:53:36.818409Z"
    },
    "id": "913092b1",
    "outputId": "41a178ed-9cd4-4aad-fefa-2a9d183f34ff",
    "papermill": {
     "duration": 0.195078,
     "end_time": "2021-12-04T15:53:36.818538",
     "exception": false,
     "start_time": "2021-12-04T15:53:36.623460",
     "status": "completed"
    },
    "tags": []
   },
   "outputs": [
    {
     "name": "stdout",
     "output_type": "stream",
     "text": [
      "X tensor([[0, 1, 2],\n",
      "        [3, 4, 5]])\n"
     ]
    }
   ],
   "source": [
    "x = torch.arange(6)\n",
    "x = x.view(2, 3)\n",
    "print(\"X\", x)"
   ]
  },
  {
   "cell_type": "code",
   "execution_count": 17,
   "id": "aed345cb",
   "metadata": {
    "execution": {
     "iopub.execute_input": "2021-12-04T15:53:37.208721Z",
     "iopub.status.busy": "2021-12-04T15:53:37.208252Z",
     "iopub.status.idle": "2021-12-04T15:53:37.212000Z",
     "shell.execute_reply": "2021-12-04T15:53:37.211600Z"
    },
    "id": "aed345cb",
    "outputId": "d12746d4-a409-4356-baea-3307389d9101",
    "papermill": {
     "duration": 0.199386,
     "end_time": "2021-12-04T15:53:37.212109",
     "exception": false,
     "start_time": "2021-12-04T15:53:37.012723",
     "status": "completed"
    },
    "tags": []
   },
   "outputs": [
    {
     "name": "stdout",
     "output_type": "stream",
     "text": [
      "W tensor([[0, 1, 2],\n",
      "        [3, 4, 5],\n",
      "        [6, 7, 8]])\n"
     ]
    }
   ],
   "source": [
    "W = torch.arange(9).view(3, 3)  # We can also stack multiple operations in a single line\n",
    "print(\"W\", W)"
   ]
  },
  {
   "cell_type": "code",
   "execution_count": 18,
   "id": "ba15bb65",
   "metadata": {
    "execution": {
     "iopub.execute_input": "2021-12-04T15:53:37.596703Z",
     "iopub.status.busy": "2021-12-04T15:53:37.596239Z",
     "iopub.status.idle": "2021-12-04T15:53:37.599133Z",
     "shell.execute_reply": "2021-12-04T15:53:37.598757Z"
    },
    "id": "ba15bb65",
    "outputId": "b9a9a703-bede-4620-a065-8beb3ba19803",
    "papermill": {
     "duration": 0.197023,
     "end_time": "2021-12-04T15:53:37.599245",
     "exception": false,
     "start_time": "2021-12-04T15:53:37.402222",
     "status": "completed"
    },
    "tags": []
   },
   "outputs": [
    {
     "name": "stdout",
     "output_type": "stream",
     "text": [
      "h tensor([[15, 18, 21],\n",
      "        [42, 54, 66]])\n"
     ]
    }
   ],
   "source": [
    "h = torch.matmul(x, W)  # Verify the result by calculating it by hand too!\n",
    "print(\"h\", h)"
   ]
  },
  {
   "cell_type": "markdown",
   "id": "e2969a0e",
   "metadata": {
    "id": "e2969a0e",
    "papermill": {
     "duration": 0.191191,
     "end_time": "2021-12-04T15:53:37.983302",
     "exception": false,
     "start_time": "2021-12-04T15:53:37.792111",
     "status": "completed"
    },
    "tags": []
   },
   "source": [
    "#### Indexing\n",
    "\n",
    "We often have the situation where we need to select a part of a tensor.\n",
    "Indexing works just like in numpy, so let's try it:"
   ]
  },
  {
   "cell_type": "code",
   "execution_count": 19,
   "id": "9eabb311",
   "metadata": {
    "execution": {
     "iopub.execute_input": "2021-12-04T15:53:38.371801Z",
     "iopub.status.busy": "2021-12-04T15:53:38.371341Z",
     "iopub.status.idle": "2021-12-04T15:53:38.373967Z",
     "shell.execute_reply": "2021-12-04T15:53:38.374339Z"
    },
    "id": "9eabb311",
    "outputId": "eaaf345b-2d09-4297-ff5e-5265d0a6f057",
    "papermill": {
     "duration": 0.198334,
     "end_time": "2021-12-04T15:53:38.374469",
     "exception": false,
     "start_time": "2021-12-04T15:53:38.176135",
     "status": "completed"
    },
    "tags": []
   },
   "outputs": [
    {
     "name": "stdout",
     "output_type": "stream",
     "text": [
      "X tensor([[ 0,  1,  2,  3],\n",
      "        [ 4,  5,  6,  7],\n",
      "        [ 8,  9, 10, 11]])\n"
     ]
    }
   ],
   "source": [
    "x = torch.arange(12).view(3, 4)\n",
    "print(\"X\", x)"
   ]
  },
  {
   "cell_type": "code",
   "execution_count": 20,
   "id": "9e961958",
   "metadata": {
    "execution": {
     "iopub.execute_input": "2021-12-04T15:53:38.762589Z",
     "iopub.status.busy": "2021-12-04T15:53:38.762126Z",
     "iopub.status.idle": "2021-12-04T15:53:38.764774Z",
     "shell.execute_reply": "2021-12-04T15:53:38.764396Z"
    },
    "id": "9e961958",
    "outputId": "541b1d00-579c-40ee-e84b-8723cf96ffbe",
    "papermill": {
     "duration": 0.199401,
     "end_time": "2021-12-04T15:53:38.764881",
     "exception": false,
     "start_time": "2021-12-04T15:53:38.565480",
     "status": "completed"
    },
    "tags": []
   },
   "outputs": [
    {
     "name": "stdout",
     "output_type": "stream",
     "text": [
      "tensor([1, 5, 9])\n"
     ]
    }
   ],
   "source": [
    "print(x[:, 1])  # Second column"
   ]
  },
  {
   "cell_type": "code",
   "execution_count": 21,
   "id": "8df1b8d5",
   "metadata": {
    "execution": {
     "iopub.execute_input": "2021-12-04T15:53:39.158549Z",
     "iopub.status.busy": "2021-12-04T15:53:39.158081Z",
     "iopub.status.idle": "2021-12-04T15:53:39.160695Z",
     "shell.execute_reply": "2021-12-04T15:53:39.160291Z"
    },
    "id": "8df1b8d5",
    "outputId": "ef235886-6af9-4d28-9759-69f8bbc5042a",
    "papermill": {
     "duration": 0.199565,
     "end_time": "2021-12-04T15:53:39.160802",
     "exception": false,
     "start_time": "2021-12-04T15:53:38.961237",
     "status": "completed"
    },
    "tags": []
   },
   "outputs": [
    {
     "name": "stdout",
     "output_type": "stream",
     "text": [
      "tensor([0, 1, 2, 3])\n"
     ]
    }
   ],
   "source": [
    "print(x[0])  # First row"
   ]
  },
  {
   "cell_type": "code",
   "execution_count": 22,
   "id": "91fda3e0",
   "metadata": {
    "execution": {
     "iopub.execute_input": "2021-12-04T15:53:39.553851Z",
     "iopub.status.busy": "2021-12-04T15:53:39.553387Z",
     "iopub.status.idle": "2021-12-04T15:53:39.555977Z",
     "shell.execute_reply": "2021-12-04T15:53:39.555511Z"
    },
    "id": "91fda3e0",
    "outputId": "7e669537-59fc-4c65-f00c-80a47377eeb7",
    "papermill": {
     "duration": 0.201859,
     "end_time": "2021-12-04T15:53:39.556086",
     "exception": false,
     "start_time": "2021-12-04T15:53:39.354227",
     "status": "completed"
    },
    "tags": []
   },
   "outputs": [
    {
     "name": "stdout",
     "output_type": "stream",
     "text": [
      "tensor([3, 7])\n"
     ]
    }
   ],
   "source": [
    "print(x[:2, -1])  # First two rows, last column"
   ]
  },
  {
   "cell_type": "code",
   "execution_count": 23,
   "id": "a9cf47ae",
   "metadata": {
    "execution": {
     "iopub.execute_input": "2021-12-04T15:53:39.949800Z",
     "iopub.status.busy": "2021-12-04T15:53:39.949338Z",
     "iopub.status.idle": "2021-12-04T15:53:39.951698Z",
     "shell.execute_reply": "2021-12-04T15:53:39.952071Z"
    },
    "id": "a9cf47ae",
    "outputId": "699f15a5-08d1-40ba-d14b-23ee41c076d0",
    "papermill": {
     "duration": 0.201325,
     "end_time": "2021-12-04T15:53:39.952202",
     "exception": false,
     "start_time": "2021-12-04T15:53:39.750877",
     "status": "completed"
    },
    "tags": []
   },
   "outputs": [
    {
     "name": "stdout",
     "output_type": "stream",
     "text": [
      "tensor([[ 4,  5,  6,  7],\n",
      "        [ 8,  9, 10, 11]])\n"
     ]
    }
   ],
   "source": [
    "print(x[1:3, :])  # Middle two rows"
   ]
  },
  {
   "cell_type": "markdown",
   "id": "9fea92c8",
   "metadata": {
    "id": "9fea92c8",
    "papermill": {
     "duration": 0.198501,
     "end_time": "2021-12-04T15:53:40.352499",
     "exception": false,
     "start_time": "2021-12-04T15:53:40.153998",
     "status": "completed"
    },
    "tags": []
   },
   "source": [
    "### Dynamic Computation Graph and Backpropagation\n",
    "\n",
    "One of the main reasons for using PyTorch in Deep Learning projects is that we can automatically get **gradients/derivatives** of functions that we define.\n",
    "We will mainly use PyTorch for implementing neural networks, and they are just fancy functions.\n",
    "If we use weight matrices in our function that we want to learn, then those are called the **parameters** or simply the **weights**.\n",
    "\n",
    "If our neural network would output a single scalar value, we would talk about taking the **derivative**, but you will see that quite often we will have **multiple** output variables (\"values\"); in that case we talk about **gradients**.\n",
    "It's a more general term.\n",
    "\n",
    "Given an input $\\mathbf{x}$, we define our function by **manipulating** that input, usually by matrix-multiplications with weight matrices and additions with so-called bias vectors.\n",
    "As we manipulate our input, we are automatically creating a **computational graph**.\n",
    "This graph shows how to arrive at our output from our input.\n",
    "PyTorch is a **define-by-run** framework; this means that we can just do our manipulations, and PyTorch will keep track of that graph for us.\n",
    "Thus, we create a dynamic computation graph along the way.\n",
    "\n",
    "So, to recap: the only thing we have to do is to compute the **output**, and then we can ask PyTorch to automatically get the **gradients**.\n",
    "\n",
    "> **Note:  Why do we want gradients?\n",
    "** Consider that we have defined a function, a neural net, that is supposed to compute a certain output $y$ for an input vector $\\mathbf{x}$.\n",
    "We then define an **error measure** that tells us how wrong our network is; how bad it is in predicting output $y$ from input $\\mathbf{x}$.\n",
    "Based on this error measure, we can use the gradients to **update** the weights $\\mathbf{W}$ that were responsible for the output, so that the next time we present input $\\mathbf{x}$ to our network, the output will be closer to what we want.\n",
    "\n",
    "The first thing we have to do is to specify which tensors require gradients.\n",
    "By default, when we create a tensor, it does not require gradients."
   ]
  },
  {
   "cell_type": "code",
   "execution_count": 24,
   "id": "c2cc2ed7",
   "metadata": {
    "execution": {
     "iopub.execute_input": "2021-12-04T15:53:40.750883Z",
     "iopub.status.busy": "2021-12-04T15:53:40.750396Z",
     "iopub.status.idle": "2021-12-04T15:53:40.752681Z",
     "shell.execute_reply": "2021-12-04T15:53:40.752209Z"
    },
    "id": "c2cc2ed7",
    "outputId": "c8951e59-7395-4d49-f1e9-c74ed56bdb0b",
    "papermill": {
     "duration": 0.203425,
     "end_time": "2021-12-04T15:53:40.752790",
     "exception": false,
     "start_time": "2021-12-04T15:53:40.549365",
     "status": "completed"
    },
    "tags": []
   },
   "outputs": [
    {
     "name": "stdout",
     "output_type": "stream",
     "text": [
      "False\n"
     ]
    }
   ],
   "source": [
    "x = torch.ones((3,))\n",
    "print(x.requires_grad)"
   ]
  },
  {
   "cell_type": "markdown",
   "id": "95fb29d4",
   "metadata": {
    "id": "95fb29d4",
    "papermill": {
     "duration": 0.202898,
     "end_time": "2021-12-04T15:53:41.153550",
     "exception": false,
     "start_time": "2021-12-04T15:53:40.950652",
     "status": "completed"
    },
    "tags": []
   },
   "source": [
    "We can change this for an existing tensor using the function `requires_grad_()` (underscore indicating that this is a in-place operation).\n",
    "Alternatively, when creating a tensor, you can pass the argument\n",
    "`requires_grad=True` to most initializers we have seen above."
   ]
  },
  {
   "cell_type": "code",
   "execution_count": 25,
   "id": "7c78f25f",
   "metadata": {
    "execution": {
     "iopub.execute_input": "2021-12-04T15:53:41.555039Z",
     "iopub.status.busy": "2021-12-04T15:53:41.554541Z",
     "iopub.status.idle": "2021-12-04T15:53:41.556872Z",
     "shell.execute_reply": "2021-12-04T15:53:41.556397Z"
    },
    "id": "7c78f25f",
    "outputId": "a1d02fa1-3845-4b0c-87c4-c3f9c8b41544",
    "papermill": {
     "duration": 0.20518,
     "end_time": "2021-12-04T15:53:41.556986",
     "exception": false,
     "start_time": "2021-12-04T15:53:41.351806",
     "status": "completed"
    },
    "tags": []
   },
   "outputs": [
    {
     "name": "stdout",
     "output_type": "stream",
     "text": [
      "True\n"
     ]
    }
   ],
   "source": [
    "x.requires_grad_(True)\n",
    "print(x.requires_grad)"
   ]
  },
  {
   "cell_type": "markdown",
   "id": "20803bcc",
   "metadata": {
    "id": "20803bcc",
    "papermill": {
     "duration": 0.196387,
     "end_time": "2021-12-04T15:53:41.950177",
     "exception": false,
     "start_time": "2021-12-04T15:53:41.753790",
     "status": "completed"
    },
    "tags": []
   },
   "source": [
    "In order to get familiar with the concept of a computation graph, we will create one for the following function:\n",
    "\n",
    "$$y = \\frac{1}{|x|}\\sum_i \\left[(x_i + 2)^2 + 3\\right]$$\n",
    "\n",
    "You could imagine that $x$ are our parameters, and we want to optimize (either maximize or minimize) the output $y$.\n",
    "For this, we want to obtain the gradients $\\partial y / \\partial \\mathbf{x}$.\n",
    "For our example, we'll use $\\mathbf{x}=[0,1,2]$ as our input."
   ]
  },
  {
   "cell_type": "code",
   "execution_count": 26,
   "id": "1736b0d5",
   "metadata": {
    "execution": {
     "iopub.execute_input": "2021-12-04T15:53:42.353546Z",
     "iopub.status.busy": "2021-12-04T15:53:42.353077Z",
     "iopub.status.idle": "2021-12-04T15:53:42.355812Z",
     "shell.execute_reply": "2021-12-04T15:53:42.356193Z"
    },
    "id": "1736b0d5",
    "outputId": "0f27d32a-2282-4c5a-ab9a-5660487fe8c5",
    "papermill": {
     "duration": 0.206211,
     "end_time": "2021-12-04T15:53:42.356325",
     "exception": false,
     "start_time": "2021-12-04T15:53:42.150114",
     "status": "completed"
    },
    "tags": []
   },
   "outputs": [
    {
     "name": "stdout",
     "output_type": "stream",
     "text": [
      "X tensor([0., 1., 2.], requires_grad=True)\n"
     ]
    }
   ],
   "source": [
    "x = torch.arange(3, dtype=torch.float32, requires_grad=True)  # Only float tensors can have gradients\n",
    "print(\"X\", x)"
   ]
  },
  {
   "cell_type": "markdown",
   "id": "cf511f52",
   "metadata": {
    "id": "cf511f52",
    "papermill": {
     "duration": 0.200601,
     "end_time": "2021-12-04T15:53:42.755512",
     "exception": false,
     "start_time": "2021-12-04T15:53:42.554911",
     "status": "completed"
    },
    "tags": []
   },
   "source": [
    "Now let's build the computation graph step by step.\n",
    "You can combine multiple operations in a single line, but we will\n",
    "separate them here to get a better understanding of how each operation\n",
    "is added to the computation graph."
   ]
  },
  {
   "cell_type": "code",
   "execution_count": 27,
   "id": "fbcee41c",
   "metadata": {
    "execution": {
     "iopub.execute_input": "2021-12-04T15:53:43.160150Z",
     "iopub.status.busy": "2021-12-04T15:53:43.159591Z",
     "iopub.status.idle": "2021-12-04T15:53:43.163509Z",
     "shell.execute_reply": "2021-12-04T15:53:43.163027Z"
    },
    "id": "fbcee41c",
    "outputId": "dbd6cf4e-f206-4ce0-c99c-cc5778c0d4f3",
    "papermill": {
     "duration": 0.209982,
     "end_time": "2021-12-04T15:53:43.163620",
     "exception": false,
     "start_time": "2021-12-04T15:53:42.953638",
     "status": "completed"
    },
    "tags": []
   },
   "outputs": [
    {
     "name": "stdout",
     "output_type": "stream",
     "text": [
      "Y tensor(12.6667, grad_fn=<MeanBackward0>)\n"
     ]
    }
   ],
   "source": [
    "a = x + 2\n",
    "b = a ** 2\n",
    "c = b + 3\n",
    "y = c.mean()\n",
    "print(\"Y\", y)"
   ]
  },
  {
   "cell_type": "markdown",
   "id": "c012a822",
   "metadata": {
    "id": "c012a822",
    "papermill": {
     "duration": 0.201708,
     "end_time": "2021-12-04T15:53:43.567654",
     "exception": false,
     "start_time": "2021-12-04T15:53:43.365946",
     "status": "completed"
    },
    "tags": []
   },
   "source": [
    "Using the statements above, we have created a computation graph that looks similar to the figure below:\n",
    "\n",
    "<center style=\"width: 100%\"><img src=\"https://github.com/PyTorchLightning/lightning-tutorials/raw/main/course_UvA-DL/01-introduction-to-pytorch/pytorch_computation_graph.svg\" width=\"200px\"></center>\n",
    "\n",
    "We calculate $a$ based on the inputs $x$ and the constant $2$, $b$ is $a$ squared, and so on.\n",
    "The visualization is an abstraction of the dependencies between inputs and outputs of the operations we have applied.\n",
    "Each node of the computation graph has automatically defined a function for calculating the gradients with respect to its inputs, `grad_fn`.\n",
    "You can see this when we printed the output tensor $y$.\n",
    "This is why the computation graph is usually visualized in the reverse direction (arrows point from the result to the inputs).\n",
    "We can perform backpropagation on the computation graph by calling the\n",
    "function `backward()` on the last output, which effectively calculates\n",
    "the gradients for each tensor that has the property\n",
    "`requires_grad=True`:"
   ]
  },
  {
   "cell_type": "code",
   "execution_count": 28,
   "id": "3afeb787",
   "metadata": {
    "execution": {
     "iopub.execute_input": "2021-12-04T15:53:43.969958Z",
     "iopub.status.busy": "2021-12-04T15:53:43.969494Z",
     "iopub.status.idle": "2021-12-04T15:53:44.203064Z",
     "shell.execute_reply": "2021-12-04T15:53:44.203439Z"
    },
    "id": "3afeb787",
    "papermill": {
     "duration": 0.436371,
     "end_time": "2021-12-04T15:53:44.203621",
     "exception": false,
     "start_time": "2021-12-04T15:53:43.767250",
     "status": "completed"
    },
    "tags": []
   },
   "outputs": [],
   "source": [
    "y.backward()"
   ]
  },
  {
   "cell_type": "markdown",
   "id": "6b048147",
   "metadata": {
    "id": "6b048147",
    "papermill": {
     "duration": 0.198366,
     "end_time": "2021-12-04T15:53:44.603913",
     "exception": false,
     "start_time": "2021-12-04T15:53:44.405547",
     "status": "completed"
    },
    "tags": []
   },
   "source": [
    "`x.grad` will now contain the gradient $\\partial y/ \\partial \\mathcal{x}$, and this gradient indicates how a change in $\\mathbf{x}$ will affect output $y$ given the current input $\\mathbf{x}=[0,1,2]$:"
   ]
  },
  {
   "cell_type": "code",
   "execution_count": 29,
   "id": "2a36cc4c",
   "metadata": {
    "execution": {
     "iopub.execute_input": "2021-12-04T15:53:45.011258Z",
     "iopub.status.busy": "2021-12-04T15:53:45.010791Z",
     "iopub.status.idle": "2021-12-04T15:53:45.013643Z",
     "shell.execute_reply": "2021-12-04T15:53:45.013258Z"
    },
    "id": "2a36cc4c",
    "outputId": "61eb28d9-07b6-4881-d27f-7161be96b3d7",
    "papermill": {
     "duration": 0.210613,
     "end_time": "2021-12-04T15:53:45.013754",
     "exception": false,
     "start_time": "2021-12-04T15:53:44.803141",
     "status": "completed"
    },
    "tags": []
   },
   "outputs": [
    {
     "name": "stdout",
     "output_type": "stream",
     "text": [
      "tensor([1.3333, 2.0000, 2.6667])\n"
     ]
    }
   ],
   "source": [
    "print(x.grad)"
   ]
  },
  {
   "cell_type": "markdown",
   "id": "01673131",
   "metadata": {
    "id": "01673131",
    "papermill": {
     "duration": 0.200204,
     "end_time": "2021-12-04T15:53:45.415831",
     "exception": false,
     "start_time": "2021-12-04T15:53:45.215627",
     "status": "completed"
    },
    "tags": []
   },
   "source": [
    "We can also verify these gradients by hand.\n",
    "We will calculate the gradients using the chain rule, in the same way as PyTorch did it:\n",
    "\n",
    "$$\\frac{\\partial y}{\\partial x_i} = \\frac{\\partial y}{\\partial c_i}\\frac{\\partial c_i}{\\partial b_i}\\frac{\\partial b_i}{\\partial a_i}\\frac{\\partial a_i}{\\partial x_i}$$\n",
    "\n",
    "Note that we have simplified this equation to index notation, and by using the fact that all operation besides the mean do not combine the elements in the tensor.\n",
    "The partial derivatives are:\n",
    "\n",
    "$$\n",
    "\\frac{\\partial a_i}{\\partial x_i} = 1,\\hspace{1cm}\n",
    "\\frac{\\partial b_i}{\\partial a_i} = 2\\cdot a_i\\hspace{1cm}\n",
    "\\frac{\\partial c_i}{\\partial b_i} = 1\\hspace{1cm}\n",
    "\\frac{\\partial y}{\\partial c_i} = \\frac{1}{3}\n",
    "$$\n",
    "\n",
    "Hence, with the input being $\\mathbf{x}=[0,1,2]$, our gradients are $\\partial y/\\partial \\mathbf{x}=[4/3,2,8/3]$.\n",
    "The previous code cell should have printed the same result."
   ]
  },
  {
   "cell_type": "markdown",
   "id": "7d826bdb",
   "metadata": {
    "id": "7d826bdb",
    "papermill": {
     "duration": 0.198481,
     "end_time": "2021-12-04T15:53:45.813968",
     "exception": false,
     "start_time": "2021-12-04T15:53:45.615487",
     "status": "completed"
    },
    "tags": []
   },
   "source": [
    "### GPU support\n",
    "\n",
    "A crucial feature of PyTorch is the support of GPUs, short for Graphics Processing Unit.\n",
    "A GPU can perform many thousands of small operations in parallel, making it very well suitable for performing large matrix operations in neural networks.\n",
    "When comparing GPUs to CPUs, we can list the following main differences (credit: [Kevin Krewell, 2009](https://blogs.nvidia.com/blog/2009/12/16/whats-the-difference-between-a-cpu-and-a-gpu/))\n",
    "\n",
    "<center style=\"width: 100%\"><img src=\"https://github.com/PyTorchLightning/lightning-tutorials/raw/main/course_UvA-DL/01-introduction-to-pytorch/comparison_CPU_GPU.png\" width=\"700px\"></center>\n",
    "\n",
    "CPUs and GPUs have both different advantages and disadvantages, which is why many computers contain both components and use them for different tasks.\n",
    "In case you are not familiar with GPUs, you can read up more details in this [NVIDIA blog post](https://blogs.nvidia.com/blog/2009/12/16/whats-the-difference-between-a-cpu-and-a-gpu/) or [here](https://www.intel.com/content/www/us/en/products/docs/processors/what-is-a-gpu.html).\n",
    "\n",
    "GPUs can accelerate the training of your network up to a factor of $100$ which is essential for large neural networks.\n",
    "PyTorch implements a lot of functionality for supporting GPUs (mostly those of NVIDIA due to the libraries [CUDA](https://developer.nvidia.com/cuda-zone) and [cuDNN](https://developer.nvidia.com/cudnn)).\n",
    "First, let's check whether you have a GPU available:"
   ]
  },
  {
   "cell_type": "code",
   "execution_count": 30,
   "id": "8fe50089",
   "metadata": {
    "execution": {
     "iopub.execute_input": "2021-12-04T15:53:46.222636Z",
     "iopub.status.busy": "2021-12-04T15:53:46.222150Z",
     "iopub.status.idle": "2021-12-04T15:53:46.224494Z",
     "shell.execute_reply": "2021-12-04T15:53:46.224024Z"
    },
    "id": "8fe50089",
    "outputId": "081459ce-5c7c-4365-fbd9-7e2e40031ade",
    "papermill": {
     "duration": 0.209045,
     "end_time": "2021-12-04T15:53:46.224603",
     "exception": false,
     "start_time": "2021-12-04T15:53:46.015558",
     "status": "completed"
    },
    "tags": []
   },
   "outputs": [
    {
     "name": "stdout",
     "output_type": "stream",
     "text": [
      "Is the GPU available? True\n"
     ]
    }
   ],
   "source": [
    "gpu_avail = torch.cuda.is_available()\n",
    "print(f\"Is the GPU available? {gpu_avail}\")"
   ]
  },
  {
   "cell_type": "markdown",
   "id": "cc6dd1a9",
   "metadata": {
    "id": "cc6dd1a9",
    "papermill": {
     "duration": 0.201657,
     "end_time": "2021-12-04T15:53:46.632585",
     "exception": false,
     "start_time": "2021-12-04T15:53:46.430928",
     "status": "completed"
    },
    "tags": []
   },
   "source": [
    "If you have a GPU on your computer but the command above returns False, make sure you have the correct CUDA-version installed.\n",
    "The `dl2020` environment comes with the CUDA-toolkit 10.1, which is selected for the Lisa supercomputer.\n",
    "Please change it if necessary (CUDA 10.2 is currently common).\n",
    "On Google Colab, make sure that you have selected a GPU in your runtime setup (in the menu, check under `Runtime -> Change runtime type`).\n",
    "\n",
    "By default, all tensors you create are stored on the CPU.\n",
    "We can push a tensor to the GPU by using the function `.to(...)`, or `.cuda()`.\n",
    "However, it is often a good practice to define a `device` object in your code which points to the GPU if you have one, and otherwise to the CPU.\n",
    "Then, you can write your code with respect to this device object, and it allows you to run the same code on both a CPU-only system, and one with a GPU.\n",
    "Let's try it below.\n",
    "We can specify the device as follows:"
   ]
  },
  {
   "cell_type": "code",
   "execution_count": 31,
   "id": "5a3d8e38",
   "metadata": {
    "execution": {
     "iopub.execute_input": "2021-12-04T15:53:47.042732Z",
     "iopub.status.busy": "2021-12-04T15:53:47.042239Z",
     "iopub.status.idle": "2021-12-04T15:53:47.044024Z",
     "shell.execute_reply": "2021-12-04T15:53:47.044398Z"
    },
    "id": "5a3d8e38",
    "outputId": "eda26a65-d01f-4ef2-a59f-d09e58251ea6",
    "papermill": {
     "duration": 0.208184,
     "end_time": "2021-12-04T15:53:47.044529",
     "exception": false,
     "start_time": "2021-12-04T15:53:46.836345",
     "status": "completed"
    },
    "tags": []
   },
   "outputs": [
    {
     "name": "stdout",
     "output_type": "stream",
     "text": [
      "Device cuda\n"
     ]
    }
   ],
   "source": [
    "device = torch.device(\"cuda\") if torch.cuda.is_available() else torch.device(\"cpu\")\n",
    "print(\"Device\", device)"
   ]
  },
  {
   "cell_type": "markdown",
   "id": "83f280ae",
   "metadata": {
    "id": "83f280ae",
    "papermill": {
     "duration": 0.203434,
     "end_time": "2021-12-04T15:53:47.452136",
     "exception": false,
     "start_time": "2021-12-04T15:53:47.248702",
     "status": "completed"
    },
    "tags": []
   },
   "source": [
    "Now let's create a tensor and push it to the device:"
   ]
  },
  {
   "cell_type": "code",
   "execution_count": 32,
   "id": "31cbb86a",
   "metadata": {
    "execution": {
     "iopub.execute_input": "2021-12-04T15:53:47.862514Z",
     "iopub.status.busy": "2021-12-04T15:53:47.862045Z",
     "iopub.status.idle": "2021-12-04T15:53:51.511287Z",
     "shell.execute_reply": "2021-12-04T15:53:51.510793Z"
    },
    "id": "31cbb86a",
    "outputId": "7ced08eb-046c-402e-ffd3-6a1376a3a200",
    "papermill": {
     "duration": 3.856813,
     "end_time": "2021-12-04T15:53:51.511416",
     "exception": false,
     "start_time": "2021-12-04T15:53:47.654603",
     "status": "completed"
    },
    "tags": []
   },
   "outputs": [
    {
     "name": "stdout",
     "output_type": "stream",
     "text": [
      "X tensor([[0., 0., 0.],\n",
      "        [0., 0., 0.]], device='cuda:0')\n"
     ]
    }
   ],
   "source": [
    "x = torch.zeros(2, 3)\n",
    "x = x.to(device)\n",
    "print(\"X\", x)"
   ]
  },
  {
   "cell_type": "markdown",
   "id": "de20fb36",
   "metadata": {
    "id": "de20fb36",
    "papermill": {
     "duration": 0.205639,
     "end_time": "2021-12-04T15:53:51.921267",
     "exception": false,
     "start_time": "2021-12-04T15:53:51.715628",
     "status": "completed"
    },
    "tags": []
   },
   "source": [
    "In case you have a GPU, you should now see the attribute `device='cuda:0'` being printed next to your tensor.\n",
    "The zero next to cuda indicates that this is the zero-th GPU device on your computer.\n",
    "PyTorch also supports multi-GPU systems, but this you will only need once you have very big networks to train (if interested, see the [PyTorch documentation](https://pytorch.org/docs/stable/distributed.html#distributed-basics)).\n",
    "We can also compare the runtime of a large matrix multiplication on the CPU with a operation on the GPU:"
   ]
  },
  {
   "cell_type": "code",
   "execution_count": 33,
   "id": "bbf73c6d",
   "metadata": {
    "execution": {
     "iopub.execute_input": "2021-12-04T15:53:52.333482Z",
     "iopub.status.busy": "2021-12-04T15:53:52.333010Z",
     "iopub.status.idle": "2021-12-04T15:53:52.904067Z",
     "shell.execute_reply": "2021-12-04T15:53:52.904461Z"
    },
    "id": "bbf73c6d",
    "outputId": "e3659e5c-637f-4302-c41d-6ee175fd1e60",
    "papermill": {
     "duration": 0.778998,
     "end_time": "2021-12-04T15:53:52.904626",
     "exception": false,
     "start_time": "2021-12-04T15:53:52.125628",
     "status": "completed"
    },
    "tags": []
   },
   "outputs": [
    {
     "name": "stdout",
     "output_type": "stream",
     "text": [
      "CPU time: 0.42558s\n",
      "GPU time: 0.61450s\n"
     ]
    }
   ],
   "source": [
    "x = torch.randn(5000, 5000)\n",
    "\n",
    "# CPU version\n",
    "start_time = time.time()\n",
    "_ = torch.matmul(x, x)\n",
    "end_time = time.time()\n",
    "print(f\"CPU time: {(end_time - start_time):6.5f}s\")\n",
    "\n",
    "# GPU version\n",
    "if torch.cuda.is_available():\n",
    "    x = x.to(device)\n",
    "    # CUDA is asynchronous, so we need to use different timing functions\n",
    "    start = torch.cuda.Event(enable_timing=True)\n",
    "    end = torch.cuda.Event(enable_timing=True)\n",
    "    start.record()\n",
    "    _ = torch.matmul(x, x)\n",
    "    end.record()\n",
    "    torch.cuda.synchronize()  # Waits for everything to finish running on the GPU\n",
    "    print(f\"GPU time: {0.001 * start.elapsed_time(end):6.5f}s\")  # Milliseconds to seconds"
   ]
  },
  {
   "cell_type": "markdown",
   "id": "b6483a54",
   "metadata": {
    "id": "b6483a54",
    "papermill": {
     "duration": 0.208145,
     "end_time": "2021-12-04T15:53:53.320523",
     "exception": false,
     "start_time": "2021-12-04T15:53:53.112378",
     "status": "completed"
    },
    "tags": []
   },
   "source": [
    "Depending on the size of the operation and the CPU/GPU in your system, the speedup of this operation can be >50x.\n",
    "As `matmul` operations are very common in neural networks, we can already see the great benefit of training a NN on a GPU.\n",
    "The time estimate can be relatively noisy here because we haven't run it for multiple times.\n",
    "Feel free to extend this, but it also takes longer to run.\n",
    "\n",
    "When generating random numbers, the seed between CPU and GPU is not synchronized.\n",
    "Hence, we need to set the seed on the GPU separately to ensure a reproducible code.\n",
    "Note that due to different GPU architectures, running the same code on different GPUs does not guarantee the same random numbers.\n",
    "Still, we don't want that our code gives us a different output every time we run it on the exact same hardware.\n",
    "Hence, we also set the seed on the GPU:"
   ]
  },
  {
   "cell_type": "code",
   "execution_count": 34,
   "id": "119c0085",
   "metadata": {
    "execution": {
     "iopub.execute_input": "2021-12-04T15:53:53.736717Z",
     "iopub.status.busy": "2021-12-04T15:53:53.736247Z",
     "iopub.status.idle": "2021-12-04T15:53:53.737755Z",
     "shell.execute_reply": "2021-12-04T15:53:53.738129Z"
    },
    "id": "119c0085",
    "papermill": {
     "duration": 0.215091,
     "end_time": "2021-12-04T15:53:53.738260",
     "exception": false,
     "start_time": "2021-12-04T15:53:53.523169",
     "status": "completed"
    },
    "tags": []
   },
   "outputs": [],
   "source": [
    "# GPU operations have a separate seed we also want to set\n",
    "if torch.cuda.is_available():\n",
    "    torch.cuda.manual_seed(42)\n",
    "    torch.cuda.manual_seed_all(42)\n",
    "\n",
    "# Additionally, some operations on a GPU are implemented stochastic for efficiency\n",
    "# We want to ensure that all operations are deterministic on GPU (if used) for reproducibility\n",
    "torch.backends.cudnn.determinstic = True\n",
    "torch.backends.cudnn.benchmark = False"
   ]
  },
  {
   "cell_type": "markdown",
   "id": "d3e51727",
   "metadata": {
    "id": "d3e51727",
    "papermill": {
     "duration": 0.201794,
     "end_time": "2021-12-04T15:53:54.143745",
     "exception": false,
     "start_time": "2021-12-04T15:53:53.941951",
     "status": "completed"
    },
    "tags": []
   },
   "source": [
    "## Learning by example: Continuous XOR\n",
    "<div class=\"center-wrapper\"><div class=\"video-wrapper\"><iframe src=\"https://www.youtube.com/embed/schbjeU5X2g\" title=\"YouTube video player\" frameborder=\"0\" allow=\"accelerometer; autoplay; clipboard-write; encrypted-media; gyroscope; picture-in-picture\" allowfullscreen></iframe></div></div>\n",
    "\n",
    "If we want to build a neural network in PyTorch, we could specify all our parameters (weight matrices, bias vectors) using `Tensors` (with `requires_grad=True`), ask PyTorch to calculate the gradients and then adjust the parameters.\n",
    "But things can quickly get cumbersome if we have a lot of parameters.\n",
    "In PyTorch, there is a package called `torch.nn` that makes building neural networks more convenient.\n",
    "\n",
    "We will introduce the libraries and all additional parts you might need to train a neural network in PyTorch, using a simple example classifier on a simple yet well known example: XOR.\n",
    "Given two binary inputs $x_1$ and $x_2$, the label to predict is $1$ if either $x_1$ or $x_2$ is $1$ while the other is $0$, or the label is $0$ in all other cases.\n",
    "The example became famous by the fact that a single neuron, i.e. a linear classifier, cannot learn this simple function.\n",
    "Hence, we will learn how to build a small neural network that can learn this function.\n",
    "To make it a little bit more interesting, we move the XOR into continuous space and introduce some gaussian noise on the binary inputs.\n",
    "Our desired separation of an XOR dataset could look as follows:\n",
    "\n",
    "<center style=\"width: 100%\"><img src=\"https://github.com/PyTorchLightning/lightning-tutorials/raw/main/course_UvA-DL/01-introduction-to-pytorch/continuous_xor.svg\" width=\"350px\"></center>"
   ]
  },
  {
   "cell_type": "markdown",
   "id": "be79359e",
   "metadata": {
    "id": "be79359e",
    "papermill": {
     "duration": 0.205221,
     "end_time": "2021-12-04T15:53:54.552887",
     "exception": false,
     "start_time": "2021-12-04T15:53:54.347666",
     "status": "completed"
    },
    "tags": []
   },
   "source": [
    "### The model\n",
    "\n",
    "The package `torch.nn` defines a series of useful classes like linear networks layers, activation functions, loss functions etc.\n",
    "A full list can be found [here](https://pytorch.org/docs/stable/nn.html).\n",
    "In case you need a certain network layer, check the documentation of the package first before writing the layer yourself as the package likely contains the code for it already.\n",
    "We import it below:"
   ]
  },
  {
   "cell_type": "code",
   "execution_count": null,
   "id": "43daa017",
   "metadata": {
    "id": "43daa017",
    "lines_to_next_cell": 0,
    "papermill": {
     "duration": 0.203631,
     "end_time": "2021-12-04T15:53:54.958970",
     "exception": false,
     "start_time": "2021-12-04T15:53:54.755339",
     "status": "completed"
    },
    "tags": []
   },
   "outputs": [],
   "source": []
  },
  {
   "cell_type": "code",
   "execution_count": null,
   "id": "961da892",
   "metadata": {
    "id": "961da892",
    "papermill": {
     "duration": 0.204014,
     "end_time": "2021-12-04T15:53:55.368098",
     "exception": false,
     "start_time": "2021-12-04T15:53:55.164084",
     "status": "completed"
    },
    "tags": []
   },
   "outputs": [],
   "source": []
  },
  {
   "cell_type": "markdown",
   "id": "5b961e6a",
   "metadata": {
    "id": "5b961e6a",
    "papermill": {
     "duration": 0.203803,
     "end_time": "2021-12-04T15:53:55.774983",
     "exception": false,
     "start_time": "2021-12-04T15:53:55.571180",
     "status": "completed"
    },
    "tags": []
   },
   "source": [
    "Additionally to `torch.nn`, there is also `torch.nn.functional`.\n",
    "It contains functions that are used in network layers.\n",
    "This is in contrast to `torch.nn` which defines them as `nn.Modules` (more on it below), and `torch.nn` actually uses a lot of functionalities from `torch.nn.functional`.\n",
    "Hence, the functional package is useful in many situations, and so we import it as well here."
   ]
  },
  {
   "cell_type": "markdown",
   "id": "e60690c4",
   "metadata": {
    "id": "e60690c4",
    "lines_to_next_cell": 2,
    "papermill": {
     "duration": 0.205786,
     "end_time": "2021-12-04T15:53:56.185307",
     "exception": false,
     "start_time": "2021-12-04T15:53:55.979521",
     "status": "completed"
    },
    "tags": []
   },
   "source": [
    "#### nn.Module\n",
    "\n",
    "In PyTorch, a neural network is built up out of modules.\n",
    "Modules can contain other modules, and a neural network is considered to be a module itself as well.\n",
    "The basic template of a module is as follows:"
   ]
  },
  {
   "cell_type": "code",
   "execution_count": 35,
   "id": "71eaf6ae",
   "metadata": {
    "execution": {
     "iopub.execute_input": "2021-12-04T15:53:56.605744Z",
     "iopub.status.busy": "2021-12-04T15:53:56.605272Z",
     "iopub.status.idle": "2021-12-04T15:53:56.606804Z",
     "shell.execute_reply": "2021-12-04T15:53:56.607182Z"
    },
    "id": "71eaf6ae",
    "lines_to_next_cell": 2,
    "papermill": {
     "duration": 0.216416,
     "end_time": "2021-12-04T15:53:56.607313",
     "exception": false,
     "start_time": "2021-12-04T15:53:56.390897",
     "status": "completed"
    },
    "tags": []
   },
   "outputs": [],
   "source": [
    "class MyModule(nn.Module):\n",
    "    def __init__(self):\n",
    "        super().__init__()\n",
    "        # Some init for my module\n",
    "\n",
    "    def forward(self, x):\n",
    "        # Function for performing the calculation of the module.\n",
    "        pass"
   ]
  },
  {
   "cell_type": "markdown",
   "id": "63463f01",
   "metadata": {
    "id": "63463f01",
    "lines_to_next_cell": 2,
    "papermill": {
     "duration": 0.229323,
     "end_time": "2021-12-04T15:53:57.045874",
     "exception": false,
     "start_time": "2021-12-04T15:53:56.816551",
     "status": "completed"
    },
    "tags": []
   },
   "source": [
    "The forward function is where the computation of the module is taken place, and is executed when you call the module (`nn = MyModule(); nn(x)`).\n",
    "In the init function, we usually create the parameters of the module, using `nn.Parameter`, or defining other modules that are used in the forward function.\n",
    "The backward calculation is done automatically, but could be overwritten as well if wanted.\n",
    "\n",
    "#### Simple classifier\n",
    "We can now make use of the pre-defined modules in the `torch.nn` package, and define our own small neural network.\n",
    "We will use a minimal network with a input layer, one hidden layer with tanh as activation function, and a output layer.\n",
    "In other words, our networks should look something like this:\n",
    "\n",
    "<center width=\"100%\"><img src=\"https://github.com/PyTorchLightning/lightning-tutorials/raw/main/course_UvA-DL/01-introduction-to-pytorch/small_neural_network.svg\" width=\"300px\"></center>\n",
    "\n",
    "The input neurons are shown in blue, which represent the coordinates $x_1$ and $x_2$ of a data point.\n",
    "The hidden neurons including a tanh activation are shown in white, and the output neuron in red.\n",
    "In PyTorch, we can define this as follows:"
   ]
  },
  {
   "cell_type": "code",
   "execution_count": 36,
   "id": "6c0cc064",
   "metadata": {
    "execution": {
     "iopub.execute_input": "2021-12-04T15:53:57.460540Z",
     "iopub.status.busy": "2021-12-04T15:53:57.460070Z",
     "iopub.status.idle": "2021-12-04T15:53:57.461979Z",
     "shell.execute_reply": "2021-12-04T15:53:57.461520Z"
    },
    "id": "6c0cc064",
    "papermill": {
     "duration": 0.213388,
     "end_time": "2021-12-04T15:53:57.462086",
     "exception": false,
     "start_time": "2021-12-04T15:53:57.248698",
     "status": "completed"
    },
    "tags": []
   },
   "outputs": [],
   "source": [
    "class SimpleClassifier(nn.Module):\n",
    "    def __init__(self, num_inputs, num_hidden, num_outputs):\n",
    "        super().__init__()\n",
    "        # Initialize the modules we need to build the network\n",
    "        self.linear1 = nn.Linear(num_inputs, num_hidden)\n",
    "        self.act_fn = nn.Tanh()\n",
    "        self.linear2 = nn.Linear(num_hidden, num_outputs)\n",
    "\n",
    "    def forward(self, x):\n",
    "        # Perform the calculation of the model to determine the prediction\n",
    "        x = self.linear1(x)\n",
    "        x = self.act_fn(x)\n",
    "        x = self.linear2(x)\n",
    "        return x"
   ]
  },
  {
   "cell_type": "markdown",
   "id": "84553ec2",
   "metadata": {
    "id": "84553ec2",
    "papermill": {
     "duration": 0.204402,
     "end_time": "2021-12-04T15:53:57.868446",
     "exception": false,
     "start_time": "2021-12-04T15:53:57.664044",
     "status": "completed"
    },
    "tags": []
   },
   "source": [
    "For the examples in this notebook, we will use a tiny neural network with two input neurons and four hidden neurons.\n",
    "As we perform binary classification, we will use a single output neuron.\n",
    "Note that we do not apply a sigmoid on the output yet.\n",
    "This is because other functions, especially the loss, are more efficient and precise to calculate on the original outputs instead of the sigmoid output.\n",
    "We will discuss the detailed reason later."
   ]
  },
  {
   "cell_type": "code",
   "execution_count": 37,
   "id": "4f9b83e1",
   "metadata": {
    "execution": {
     "iopub.execute_input": "2021-12-04T15:53:58.283224Z",
     "iopub.status.busy": "2021-12-04T15:53:58.282754Z",
     "iopub.status.idle": "2021-12-04T15:53:58.285141Z",
     "shell.execute_reply": "2021-12-04T15:53:58.285538Z"
    },
    "id": "4f9b83e1",
    "outputId": "342e77a0-a772-4dd9-df89-abdc4aea9c78",
    "papermill": {
     "duration": 0.213062,
     "end_time": "2021-12-04T15:53:58.285669",
     "exception": false,
     "start_time": "2021-12-04T15:53:58.072607",
     "status": "completed"
    },
    "tags": []
   },
   "outputs": [
    {
     "name": "stdout",
     "output_type": "stream",
     "text": [
      "SimpleClassifier(\n",
      "  (linear1): Linear(in_features=2, out_features=4, bias=True)\n",
      "  (act_fn): Tanh()\n",
      "  (linear2): Linear(in_features=4, out_features=1, bias=True)\n",
      ")\n"
     ]
    }
   ],
   "source": [
    "model = SimpleClassifier(num_inputs=2, num_hidden=4, num_outputs=1)\n",
    "# Printing a module shows all its submodules\n",
    "print(model)"
   ]
  },
  {
   "cell_type": "markdown",
   "id": "360961ed",
   "metadata": {
    "id": "360961ed",
    "papermill": {
     "duration": 0.202451,
     "end_time": "2021-12-04T15:53:58.691398",
     "exception": false,
     "start_time": "2021-12-04T15:53:58.488947",
     "status": "completed"
    },
    "tags": []
   },
   "source": [
    "Printing the model lists all submodules it contains.\n",
    "The parameters of a module can be obtained by using its `parameters()` functions, or `named_parameters()` to get a name to each parameter object.\n",
    "For our small neural network, we have the following parameters:"
   ]
  },
  {
   "cell_type": "code",
   "execution_count": 38,
   "id": "780fcc13",
   "metadata": {
    "execution": {
     "iopub.execute_input": "2021-12-04T15:53:59.102900Z",
     "iopub.status.busy": "2021-12-04T15:53:59.102421Z",
     "iopub.status.idle": "2021-12-04T15:53:59.104603Z",
     "shell.execute_reply": "2021-12-04T15:53:59.104977Z"
    },
    "id": "780fcc13",
    "outputId": "4e6e8ee7-a12e-4bd6-893f-dab61f169686",
    "papermill": {
     "duration": 0.211481,
     "end_time": "2021-12-04T15:53:59.105106",
     "exception": false,
     "start_time": "2021-12-04T15:53:58.893625",
     "status": "completed"
    },
    "tags": []
   },
   "outputs": [
    {
     "name": "stdout",
     "output_type": "stream",
     "text": [
      "Parameter linear1.weight, shape torch.Size([4, 2])\n",
      "Parameter linear1.bias, shape torch.Size([4])\n",
      "Parameter linear2.weight, shape torch.Size([1, 4])\n",
      "Parameter linear2.bias, shape torch.Size([1])\n"
     ]
    }
   ],
   "source": [
    "for name, param in model.named_parameters():\n",
    "    print(f\"Parameter {name}, shape {param.shape}\")"
   ]
  },
  {
   "cell_type": "markdown",
   "id": "bc034c95",
   "metadata": {
    "id": "bc034c95",
    "papermill": {
     "duration": 0.203191,
     "end_time": "2021-12-04T15:53:59.512934",
     "exception": false,
     "start_time": "2021-12-04T15:53:59.309743",
     "status": "completed"
    },
    "tags": []
   },
   "source": [
    "Each linear layer has a weight matrix of the shape `[output, input]`, and a bias of the shape `[output]`.\n",
    "The tanh activation function does not have any parameters.\n",
    "Note that parameters are only registered for `nn.Module` objects that are direct object attributes, i.e. `self.a = ...`.\n",
    "If you define a list of modules, the parameters of those are not registered for the outer module and can cause some issues when you try to optimize your module.\n",
    "There are alternatives, like `nn.ModuleList`, `nn.ModuleDict` and `nn.Sequential`, that allow you to have different data structures of modules.\n",
    "We will use them in a few later tutorials and explain them there."
   ]
  },
  {
   "cell_type": "markdown",
   "id": "136035b4",
   "metadata": {
    "id": "136035b4",
    "papermill": {
     "duration": 0.204985,
     "end_time": "2021-12-04T15:53:59.921347",
     "exception": false,
     "start_time": "2021-12-04T15:53:59.716362",
     "status": "completed"
    },
    "tags": []
   },
   "source": [
    "### The data\n",
    "\n",
    "PyTorch also provides a few functionalities to load the training and\n",
    "test data efficiently, summarized in the package `torch.utils.data`."
   ]
  },
  {
   "cell_type": "code",
   "execution_count": null,
   "id": "1cf8b77a",
   "metadata": {
    "id": "1cf8b77a",
    "papermill": {
     "duration": 0.204911,
     "end_time": "2021-12-04T15:54:00.331565",
     "exception": false,
     "start_time": "2021-12-04T15:54:00.126654",
     "status": "completed"
    },
    "tags": []
   },
   "outputs": [],
   "source": []
  },
  {
   "cell_type": "markdown",
   "id": "056c9971",
   "metadata": {
    "id": "056c9971",
    "papermill": {
     "duration": 0.203757,
     "end_time": "2021-12-04T15:54:00.743646",
     "exception": false,
     "start_time": "2021-12-04T15:54:00.539889",
     "status": "completed"
    },
    "tags": []
   },
   "source": [
    "The data package defines two classes which are the standard interface for handling data in PyTorch: `data.Dataset`, and `data.DataLoader`.\n",
    "The dataset class provides an uniform interface to access the\n",
    "training/test data, while the data loader makes sure to efficiently load\n",
    "and stack the data points from the dataset into batches during training."
   ]
  },
  {
   "cell_type": "markdown",
   "id": "92ffaea5",
   "metadata": {
    "id": "92ffaea5",
    "papermill": {
     "duration": 0.20609,
     "end_time": "2021-12-04T15:54:01.153489",
     "exception": false,
     "start_time": "2021-12-04T15:54:00.947399",
     "status": "completed"
    },
    "tags": []
   },
   "source": [
    "#### The dataset class\n",
    "\n",
    "The dataset class summarizes the basic functionality of a dataset in a natural way.\n",
    "To define a dataset in PyTorch, we simply specify two functions: `__getitem__`, and `__len__`.\n",
    "The get-item function has to return the $i$-th data point in the dataset, while the len function returns the size of the dataset.\n",
    "For the XOR dataset, we can define the dataset class as follows:"
   ]
  },
  {
   "cell_type": "code",
   "execution_count": 39,
   "id": "9eadd4ba",
   "metadata": {
    "execution": {
     "iopub.execute_input": "2021-12-04T15:54:01.569750Z",
     "iopub.status.busy": "2021-12-04T15:54:01.569274Z",
     "iopub.status.idle": "2021-12-04T15:54:01.571170Z",
     "shell.execute_reply": "2021-12-04T15:54:01.570790Z"
    },
    "id": "9eadd4ba",
    "papermill": {
     "duration": 0.213645,
     "end_time": "2021-12-04T15:54:01.571284",
     "exception": false,
     "start_time": "2021-12-04T15:54:01.357639",
     "status": "completed"
    },
    "tags": []
   },
   "outputs": [],
   "source": [
    "\n",
    "\n",
    "class XORDataset(data.Dataset):\n",
    "    def __init__(self, size, std=0.1):\n",
    "        \"\"\"\n",
    "        Inputs:\n",
    "            size - Number of data points we want to generate\n",
    "            std - Standard deviation of the noise (see generate_continuous_xor function)\n",
    "        \"\"\"\n",
    "        super().__init__()\n",
    "        self.size = size\n",
    "        self.std = std\n",
    "        self.generate_continuous_xor()\n",
    "\n",
    "    def generate_continuous_xor(self):\n",
    "        # Each data point in the XOR dataset has two variables, x and y, that can be either 0 or 1\n",
    "        # The label is their XOR combination, i.e. 1 if only x or only y is 1 while the other is 0.\n",
    "        # If x=y, the label is 0.\n",
    "        data = torch.randint(low=0, high=2, size=(self.size, 2), dtype=torch.float32)\n",
    "        label = (data.sum(dim=1) == 1).to(torch.long)\n",
    "        # To make it slightly more challenging, we add a bit of gaussian noise to the data points.\n",
    "        data += self.std * torch.randn(data.shape)\n",
    "\n",
    "        self.data = data\n",
    "        self.label = label\n",
    "\n",
    "    def __len__(self):\n",
    "        # Number of data point we have. Alternatively self.data.shape[0], or self.label.shape[0]\n",
    "        return self.size\n",
    "\n",
    "    def __getitem__(self, idx):\n",
    "        # Return the idx-th data point of the dataset\n",
    "        # If we have multiple things to return (data point and label), we can return them as tuple\n",
    "        data_point = self.data[idx]\n",
    "        data_label = self.label[idx]\n",
    "        return data_point, data_label"
   ]
  },
  {
   "cell_type": "markdown",
   "id": "170ab9ba",
   "metadata": {
    "id": "170ab9ba",
    "papermill": {
     "duration": 0.207351,
     "end_time": "2021-12-04T15:54:01.984743",
     "exception": false,
     "start_time": "2021-12-04T15:54:01.777392",
     "status": "completed"
    },
    "tags": []
   },
   "source": [
    "Let's try to create such a dataset and inspect it:"
   ]
  },
  {
   "cell_type": "code",
   "execution_count": 40,
   "id": "be2c0ec7",
   "metadata": {
    "execution": {
     "iopub.execute_input": "2021-12-04T15:54:02.398061Z",
     "iopub.status.busy": "2021-12-04T15:54:02.397602Z",
     "iopub.status.idle": "2021-12-04T15:54:02.401563Z",
     "shell.execute_reply": "2021-12-04T15:54:02.401095Z"
    },
    "id": "be2c0ec7",
    "outputId": "fae8ad7b-7bc9-4118-8803-246cc06bd881",
    "papermill": {
     "duration": 0.211018,
     "end_time": "2021-12-04T15:54:02.401672",
     "exception": false,
     "start_time": "2021-12-04T15:54:02.190654",
     "status": "completed"
    },
    "tags": []
   },
   "outputs": [
    {
     "name": "stdout",
     "output_type": "stream",
     "text": [
      "Size of dataset: 200\n",
      "Data point 0: (tensor([0.9632, 0.1117]), tensor(1))\n"
     ]
    }
   ],
   "source": [
    "dataset = XORDataset(size=200)\n",
    "print(\"Size of dataset:\", len(dataset))\n",
    "print(\"Data point 0:\", dataset[0])"
   ]
  },
  {
   "cell_type": "markdown",
   "id": "86828a5c",
   "metadata": {
    "id": "86828a5c",
    "lines_to_next_cell": 2,
    "papermill": {
     "duration": 0.206005,
     "end_time": "2021-12-04T15:54:02.812653",
     "exception": false,
     "start_time": "2021-12-04T15:54:02.606648",
     "status": "completed"
    },
    "tags": []
   },
   "source": [
    "To better relate to the dataset, we visualize the samples below."
   ]
  },
  {
   "cell_type": "code",
   "execution_count": 41,
   "id": "84457292",
   "metadata": {
    "execution": {
     "iopub.execute_input": "2021-12-04T15:54:03.229327Z",
     "iopub.status.busy": "2021-12-04T15:54:03.228861Z",
     "iopub.status.idle": "2021-12-04T15:54:03.230785Z",
     "shell.execute_reply": "2021-12-04T15:54:03.230390Z"
    },
    "id": "84457292",
    "papermill": {
     "duration": 0.213933,
     "end_time": "2021-12-04T15:54:03.230894",
     "exception": false,
     "start_time": "2021-12-04T15:54:03.016961",
     "status": "completed"
    },
    "tags": []
   },
   "outputs": [],
   "source": [
    "import os\n",
    "os.environ[\"KMP_DUPLICATE_LIB_OK\"]=\"TRUE\"\n",
    "def visualize_samples(data, label):\n",
    "    if isinstance(data, torch.Tensor):\n",
    "        data = data.cpu().numpy()\n",
    "    if isinstance(label, torch.Tensor):\n",
    "        label = label.cpu().numpy()\n",
    "    data_0 = data[label == 0]\n",
    "    data_1 = data[label == 1]\n",
    "\n",
    "    plt.figure(figsize=(4, 4))\n",
    "    plt.scatter(data_0[:, 0], data_0[:, 1], edgecolor=\"#333\", label=\"Class 0\")\n",
    "    plt.scatter(data_1[:, 0], data_1[:, 1], edgecolor=\"#333\", label=\"Class 1\")\n",
    "    plt.title(\"Dataset samples\")\n",
    "    plt.ylabel(r\"$x_2$\")\n",
    "    plt.xlabel(r\"$x_1$\")\n",
    "    plt.legend()"
   ]
  },
  {
   "cell_type": "code",
   "execution_count": 42,
   "id": "7b382126",
   "metadata": {
    "execution": {
     "iopub.execute_input": "2021-12-04T15:54:03.657738Z",
     "iopub.status.busy": "2021-12-04T15:54:03.645550Z",
     "iopub.status.idle": "2021-12-04T15:54:04.134432Z",
     "shell.execute_reply": "2021-12-04T15:54:04.134847Z"
    },
    "id": "7b382126",
    "outputId": "37301004-13c3-46e4-a716-3b39221944f2",
    "papermill": {
     "duration": 0.697237,
     "end_time": "2021-12-04T15:54:04.135014",
     "exception": false,
     "start_time": "2021-12-04T15:54:03.437777",
     "status": "completed"
    },
    "tags": []
   },
   "outputs": [
    {
     "data": {
      "application/pdf": "[encoded data removed]",
      "image/svg+xml": [
       "<?xml version=\"1.0\" encoding=\"utf-8\" standalone=\"no\"?>\n",
       "<!DOCTYPE svg PUBLIC \"-//W3C//DTD SVG 1.1//EN\"\n",
       "  \"http://www.w3.org/Graphics/SVG/1.1/DTD/svg11.dtd\">\n",
       "<svg xmlns:xlink=\"http://www.w3.org/1999/xlink\" width=\"288.985258pt\" height=\"277.314375pt\" viewBox=\"0 0 288.985258 277.314375\" xmlns=\"http://www.w3.org/2000/svg\" version=\"1.1\">\n",
       " <metadata>\n",
       "  <rdf:RDF xmlns:dc=\"http://purl.org/dc/elements/1.1/\" xmlns:cc=\"http://creativecommons.org/ns#\" xmlns:rdf=\"http://www.w3.org/1999/02/22-rdf-syntax-ns#\">\n",
       "   <cc:Work>\n",
       "    <dc:type rdf:resource=\"http://purl.org/dc/dcmitype/StillImage\"/>\n",
       "    <dc:date>2022-02-08T11:35:53.003270</dc:date>\n",
       "    <dc:format>image/svg+xml</dc:format>\n",
       "    <dc:creator>\n",
       "     <cc:Agent>\n",
       "      <dc:title>Matplotlib v3.5.1, https://matplotlib.org/</dc:title>\n",
       "     </cc:Agent>\n",
       "    </dc:creator>\n",
       "   </cc:Work>\n",
       "  </rdf:RDF>\n",
       " </metadata>\n",
       " <defs>\n",
       "  <style type=\"text/css\">*{stroke-linejoin: round; stroke-linecap: butt}</style>\n",
       " </defs>\n",
       " <g id=\"figure_1\">\n",
       "  <g id=\"patch_1\">\n",
       "   <path d=\"M 0 277.314375 \n",
       "L 288.985258 277.314375 \n",
       "L 288.985258 0 \n",
       "L 0 0 \n",
       "L 0 277.314375 \n",
       "z\n",
       "\" style=\"fill: none\"/>\n",
       "  </g>\n",
       "  <g id=\"axes_1\">\n",
       "   <g id=\"patch_2\">\n",
       "    <path d=\"M 52.160938 239.758125 \n",
       "L 275.360937 239.758125 \n",
       "L 275.360937 22.318125 \n",
       "L 52.160938 22.318125 \n",
       "z\n",
       "\" style=\"fill: #ffffff\"/>\n",
       "   </g>\n",
       "   <g id=\"PathCollection_1\">\n",
       "    <defs>\n",
       "     <path id=\"m3339e39897\" d=\"M 0 3 \n",
       "C 0.795609 3 1.55874 2.683901 2.12132 2.12132 \n",
       "C 2.683901 1.55874 3 0.795609 3 0 \n",
       "C 3 -0.795609 2.683901 -1.55874 2.12132 -2.12132 \n",
       "C 1.55874 -2.683901 0.795609 -3 0 -3 \n",
       "C -0.795609 -3 -1.55874 -2.683901 -2.12132 -2.12132 \n",
       "C -2.683901 -1.55874 -3 -0.795609 -3 0 \n",
       "C -3 0.795609 -2.683901 1.55874 -2.12132 2.12132 \n",
       "C -1.55874 2.683901 -0.795609 3 0 3 \n",
       "z\n",
       "\" style=\"stroke: #333333\"/>\n",
       "    </defs>\n",
       "    <g clip-path=\"url(#p52e47f860c)\">\n",
       "     <use xlink:href=\"#m3339e39897\" x=\"96.31168\" y=\"193.325344\" style=\"fill: #1f77b4; stroke: #333333\"/>\n",
       "     <use xlink:href=\"#m3339e39897\" x=\"232.057657\" y=\"62.145049\" style=\"fill: #1f77b4; stroke: #333333\"/>\n",
       "     <use xlink:href=\"#m3339e39897\" x=\"258.979442\" y=\"63.780462\" style=\"fill: #1f77b4; stroke: #333333\"/>\n",
       "     <use xlink:href=\"#m3339e39897\" x=\"108.913369\" y=\"204.409578\" style=\"fill: #1f77b4; stroke: #333333\"/>\n",
       "     <use xlink:href=\"#m3339e39897\" x=\"101.325808\" y=\"205.043015\" style=\"fill: #1f77b4; stroke: #333333\"/>\n",
       "     <use xlink:href=\"#m3339e39897\" x=\"70.983454\" y=\"189.560429\" style=\"fill: #1f77b4; stroke: #333333\"/>\n",
       "     <use xlink:href=\"#m3339e39897\" x=\"242.885541\" y=\"58.566133\" style=\"fill: #1f77b4; stroke: #333333\"/>\n",
       "     <use xlink:href=\"#m3339e39897\" x=\"232.016709\" y=\"51.440521\" style=\"fill: #1f77b4; stroke: #333333\"/>\n",
       "     <use xlink:href=\"#m3339e39897\" x=\"93.978943\" y=\"204.550687\" style=\"fill: #1f77b4; stroke: #333333\"/>\n",
       "     <use xlink:href=\"#m3339e39897\" x=\"237.538974\" y=\"53.572047\" style=\"fill: #1f77b4; stroke: #333333\"/>\n",
       "     <use xlink:href=\"#m3339e39897\" x=\"103.543109\" y=\"200.309835\" style=\"fill: #1f77b4; stroke: #333333\"/>\n",
       "     <use xlink:href=\"#m3339e39897\" x=\"255.555098\" y=\"32.201761\" style=\"fill: #1f77b4; stroke: #333333\"/>\n",
       "     <use xlink:href=\"#m3339e39897\" x=\"238.058002\" y=\"62.589723\" style=\"fill: #1f77b4; stroke: #333333\"/>\n",
       "     <use xlink:href=\"#m3339e39897\" x=\"232.170061\" y=\"57.754453\" style=\"fill: #1f77b4; stroke: #333333\"/>\n",
       "     <use xlink:href=\"#m3339e39897\" x=\"94.264177\" y=\"212.626168\" style=\"fill: #1f77b4; stroke: #333333\"/>\n",
       "     <use xlink:href=\"#m3339e39897\" x=\"89.231835\" y=\"185.037671\" style=\"fill: #1f77b4; stroke: #333333\"/>\n",
       "     <use xlink:href=\"#m3339e39897\" x=\"251.267421\" y=\"90.813692\" style=\"fill: #1f77b4; stroke: #333333\"/>\n",
       "     <use xlink:href=\"#m3339e39897\" x=\"254.815479\" y=\"83.753102\" style=\"fill: #1f77b4; stroke: #333333\"/>\n",
       "     <use xlink:href=\"#m3339e39897\" x=\"226.105337\" y=\"59.138235\" style=\"fill: #1f77b4; stroke: #333333\"/>\n",
       "     <use xlink:href=\"#m3339e39897\" x=\"82.022892\" y=\"209.202243\" style=\"fill: #1f77b4; stroke: #333333\"/>\n",
       "     <use xlink:href=\"#m3339e39897\" x=\"253.973129\" y=\"32.62492\" style=\"fill: #1f77b4; stroke: #333333\"/>\n",
       "     <use xlink:href=\"#m3339e39897\" x=\"245.15091\" y=\"59.955798\" style=\"fill: #1f77b4; stroke: #333333\"/>\n",
       "     <use xlink:href=\"#m3339e39897\" x=\"114.421987\" y=\"175.83743\" style=\"fill: #1f77b4; stroke: #333333\"/>\n",
       "     <use xlink:href=\"#m3339e39897\" x=\"228.657784\" y=\"32.336249\" style=\"fill: #1f77b4; stroke: #333333\"/>\n",
       "     <use xlink:href=\"#m3339e39897\" x=\"99.781014\" y=\"194.777215\" style=\"fill: #1f77b4; stroke: #333333\"/>\n",
       "     <use xlink:href=\"#m3339e39897\" x=\"227.807175\" y=\"51.50491\" style=\"fill: #1f77b4; stroke: #333333\"/>\n",
       "     <use xlink:href=\"#m3339e39897\" x=\"86.881354\" y=\"179.492747\" style=\"fill: #1f77b4; stroke: #333333\"/>\n",
       "     <use xlink:href=\"#m3339e39897\" x=\"250.727063\" y=\"48.77409\" style=\"fill: #1f77b4; stroke: #333333\"/>\n",
       "     <use xlink:href=\"#m3339e39897\" x=\"246.39628\" y=\"61.512745\" style=\"fill: #1f77b4; stroke: #333333\"/>\n",
       "     <use xlink:href=\"#m3339e39897\" x=\"240.179519\" y=\"43.69401\" style=\"fill: #1f77b4; stroke: #333333\"/>\n",
       "     <use xlink:href=\"#m3339e39897\" x=\"92.34098\" y=\"184.373252\" style=\"fill: #1f77b4; stroke: #333333\"/>\n",
       "     <use xlink:href=\"#m3339e39897\" x=\"104.506115\" y=\"209.709719\" style=\"fill: #1f77b4; stroke: #333333\"/>\n",
       "     <use xlink:href=\"#m3339e39897\" x=\"87.360439\" y=\"169.625602\" style=\"fill: #1f77b4; stroke: #333333\"/>\n",
       "     <use xlink:href=\"#m3339e39897\" x=\"97.745486\" y=\"201.318829\" style=\"fill: #1f77b4; stroke: #333333\"/>\n",
       "     <use xlink:href=\"#m3339e39897\" x=\"112.202457\" y=\"200.867622\" style=\"fill: #1f77b4; stroke: #333333\"/>\n",
       "     <use xlink:href=\"#m3339e39897\" x=\"93.386735\" y=\"195.701852\" style=\"fill: #1f77b4; stroke: #333333\"/>\n",
       "     <use xlink:href=\"#m3339e39897\" x=\"112.962408\" y=\"212.211753\" style=\"fill: #1f77b4; stroke: #333333\"/>\n",
       "     <use xlink:href=\"#m3339e39897\" x=\"213.923524\" y=\"39.620323\" style=\"fill: #1f77b4; stroke: #333333\"/>\n",
       "     <use xlink:href=\"#m3339e39897\" x=\"253.408944\" y=\"64.604829\" style=\"fill: #1f77b4; stroke: #333333\"/>\n",
       "     <use xlink:href=\"#m3339e39897\" x=\"238.202599\" y=\"63.759786\" style=\"fill: #1f77b4; stroke: #333333\"/>\n",
       "     <use xlink:href=\"#m3339e39897\" x=\"93.334759\" y=\"205.410605\" style=\"fill: #1f77b4; stroke: #333333\"/>\n",
       "     <use xlink:href=\"#m3339e39897\" x=\"222.697015\" y=\"89.092646\" style=\"fill: #1f77b4; stroke: #333333\"/>\n",
       "     <use xlink:href=\"#m3339e39897\" x=\"246.067518\" y=\"56.781365\" style=\"fill: #1f77b4; stroke: #333333\"/>\n",
       "     <use xlink:href=\"#m3339e39897\" x=\"97.908356\" y=\"212.127081\" style=\"fill: #1f77b4; stroke: #333333\"/>\n",
       "     <use xlink:href=\"#m3339e39897\" x=\"110.608914\" y=\"217.677792\" style=\"fill: #1f77b4; stroke: #333333\"/>\n",
       "     <use xlink:href=\"#m3339e39897\" x=\"119.278606\" y=\"177.02797\" style=\"fill: #1f77b4; stroke: #333333\"/>\n",
       "     <use xlink:href=\"#m3339e39897\" x=\"229.431275\" y=\"71.868079\" style=\"fill: #1f77b4; stroke: #333333\"/>\n",
       "     <use xlink:href=\"#m3339e39897\" x=\"217.108023\" y=\"44.358713\" style=\"fill: #1f77b4; stroke: #333333\"/>\n",
       "     <use xlink:href=\"#m3339e39897\" x=\"90.421001\" y=\"205.813556\" style=\"fill: #1f77b4; stroke: #333333\"/>\n",
       "     <use xlink:href=\"#m3339e39897\" x=\"230.637614\" y=\"68.485687\" style=\"fill: #1f77b4; stroke: #333333\"/>\n",
       "     <use xlink:href=\"#m3339e39897\" x=\"98.642521\" y=\"201.033344\" style=\"fill: #1f77b4; stroke: #333333\"/>\n",
       "     <use xlink:href=\"#m3339e39897\" x=\"242.296554\" y=\"33.609264\" style=\"fill: #1f77b4; stroke: #333333\"/>\n",
       "     <use xlink:href=\"#m3339e39897\" x=\"95.167044\" y=\"188.760034\" style=\"fill: #1f77b4; stroke: #333333\"/>\n",
       "     <use xlink:href=\"#m3339e39897\" x=\"227.659933\" y=\"76.575953\" style=\"fill: #1f77b4; stroke: #333333\"/>\n",
       "     <use xlink:href=\"#m3339e39897\" x=\"239.162594\" y=\"47.436505\" style=\"fill: #1f77b4; stroke: #333333\"/>\n",
       "     <use xlink:href=\"#m3339e39897\" x=\"70.985535\" y=\"190.609003\" style=\"fill: #1f77b4; stroke: #333333\"/>\n",
       "     <use xlink:href=\"#m3339e39897\" x=\"216.984682\" y=\"47.197067\" style=\"fill: #1f77b4; stroke: #333333\"/>\n",
       "     <use xlink:href=\"#m3339e39897\" x=\"247.342435\" y=\"65.6149\" style=\"fill: #1f77b4; stroke: #333333\"/>\n",
       "     <use xlink:href=\"#m3339e39897\" x=\"82.942512\" y=\"196.823089\" style=\"fill: #1f77b4; stroke: #333333\"/>\n",
       "     <use xlink:href=\"#m3339e39897\" x=\"94.610207\" y=\"229.874489\" style=\"fill: #1f77b4; stroke: #333333\"/>\n",
       "     <use xlink:href=\"#m3339e39897\" x=\"94.065144\" y=\"199.872245\" style=\"fill: #1f77b4; stroke: #333333\"/>\n",
       "     <use xlink:href=\"#m3339e39897\" x=\"75.9265\" y=\"200.007537\" style=\"fill: #1f77b4; stroke: #333333\"/>\n",
       "     <use xlink:href=\"#m3339e39897\" x=\"261.562131\" y=\"65.752612\" style=\"fill: #1f77b4; stroke: #333333\"/>\n",
       "     <use xlink:href=\"#m3339e39897\" x=\"227.651459\" y=\"73.759575\" style=\"fill: #1f77b4; stroke: #333333\"/>\n",
       "     <use xlink:href=\"#m3339e39897\" x=\"253.566025\" y=\"39.679857\" style=\"fill: #1f77b4; stroke: #333333\"/>\n",
       "     <use xlink:href=\"#m3339e39897\" x=\"76.490724\" y=\"185.321057\" style=\"fill: #1f77b4; stroke: #333333\"/>\n",
       "     <use xlink:href=\"#m3339e39897\" x=\"238.897525\" y=\"82.429587\" style=\"fill: #1f77b4; stroke: #333333\"/>\n",
       "     <use xlink:href=\"#m3339e39897\" x=\"249.223089\" y=\"89.661589\" style=\"fill: #1f77b4; stroke: #333333\"/>\n",
       "     <use xlink:href=\"#m3339e39897\" x=\"118.387936\" y=\"218.303568\" style=\"fill: #1f77b4; stroke: #333333\"/>\n",
       "     <use xlink:href=\"#m3339e39897\" x=\"108.710707\" y=\"207.070547\" style=\"fill: #1f77b4; stroke: #333333\"/>\n",
       "     <use xlink:href=\"#m3339e39897\" x=\"94.960359\" y=\"190.023846\" style=\"fill: #1f77b4; stroke: #333333\"/>\n",
       "     <use xlink:href=\"#m3339e39897\" x=\"95.804305\" y=\"187.711556\" style=\"fill: #1f77b4; stroke: #333333\"/>\n",
       "     <use xlink:href=\"#m3339e39897\" x=\"239.509346\" y=\"53.869424\" style=\"fill: #1f77b4; stroke: #333333\"/>\n",
       "     <use xlink:href=\"#m3339e39897\" x=\"226.971018\" y=\"88.154106\" style=\"fill: #1f77b4; stroke: #333333\"/>\n",
       "     <use xlink:href=\"#m3339e39897\" x=\"94.916859\" y=\"195.521558\" style=\"fill: #1f77b4; stroke: #333333\"/>\n",
       "     <use xlink:href=\"#m3339e39897\" x=\"106.991269\" y=\"186.850471\" style=\"fill: #1f77b4; stroke: #333333\"/>\n",
       "     <use xlink:href=\"#m3339e39897\" x=\"108.567957\" y=\"194.117803\" style=\"fill: #1f77b4; stroke: #333333\"/>\n",
       "     <use xlink:href=\"#m3339e39897\" x=\"239.227411\" y=\"37.590473\" style=\"fill: #1f77b4; stroke: #333333\"/>\n",
       "     <use xlink:href=\"#m3339e39897\" x=\"238.317384\" y=\"35.754283\" style=\"fill: #1f77b4; stroke: #333333\"/>\n",
       "     <use xlink:href=\"#m3339e39897\" x=\"96.994499\" y=\"208.108344\" style=\"fill: #1f77b4; stroke: #333333\"/>\n",
       "     <use xlink:href=\"#m3339e39897\" x=\"250.032038\" y=\"37.701594\" style=\"fill: #1f77b4; stroke: #333333\"/>\n",
       "     <use xlink:href=\"#m3339e39897\" x=\"232.359401\" y=\"72.374698\" style=\"fill: #1f77b4; stroke: #333333\"/>\n",
       "     <use xlink:href=\"#m3339e39897\" x=\"248.199716\" y=\"33.573869\" style=\"fill: #1f77b4; stroke: #333333\"/>\n",
       "     <use xlink:href=\"#m3339e39897\" x=\"88.429047\" y=\"192.95304\" style=\"fill: #1f77b4; stroke: #333333\"/>\n",
       "     <use xlink:href=\"#m3339e39897\" x=\"234.27057\" y=\"47.995435\" style=\"fill: #1f77b4; stroke: #333333\"/>\n",
       "     <use xlink:href=\"#m3339e39897\" x=\"98.536004\" y=\"212.515425\" style=\"fill: #1f77b4; stroke: #333333\"/>\n",
       "     <use xlink:href=\"#m3339e39897\" x=\"107.800107\" y=\"204.310706\" style=\"fill: #1f77b4; stroke: #333333\"/>\n",
       "     <use xlink:href=\"#m3339e39897\" x=\"87.726796\" y=\"191.216588\" style=\"fill: #1f77b4; stroke: #333333\"/>\n",
       "     <use xlink:href=\"#m3339e39897\" x=\"212.816998\" y=\"53.841351\" style=\"fill: #1f77b4; stroke: #333333\"/>\n",
       "     <use xlink:href=\"#m3339e39897\" x=\"225.168168\" y=\"47.841136\" style=\"fill: #1f77b4; stroke: #333333\"/>\n",
       "     <use xlink:href=\"#m3339e39897\" x=\"202.642744\" y=\"44.693113\" style=\"fill: #1f77b4; stroke: #333333\"/>\n",
       "     <use xlink:href=\"#m3339e39897\" x=\"86.981531\" y=\"191.534849\" style=\"fill: #1f77b4; stroke: #333333\"/>\n",
       "     <use xlink:href=\"#m3339e39897\" x=\"116.687423\" y=\"206.975146\" style=\"fill: #1f77b4; stroke: #333333\"/>\n",
       "     <use xlink:href=\"#m3339e39897\" x=\"91.776781\" y=\"209.817871\" style=\"fill: #1f77b4; stroke: #333333\"/>\n",
       "     <use xlink:href=\"#m3339e39897\" x=\"225.892096\" y=\"90.705434\" style=\"fill: #1f77b4; stroke: #333333\"/>\n",
       "     <use xlink:href=\"#m3339e39897\" x=\"102.087238\" y=\"195.303274\" style=\"fill: #1f77b4; stroke: #333333\"/>\n",
       "     <use xlink:href=\"#m3339e39897\" x=\"94.905243\" y=\"189.148117\" style=\"fill: #1f77b4; stroke: #333333\"/>\n",
       "     <use xlink:href=\"#m3339e39897\" x=\"89.515988\" y=\"200.223394\" style=\"fill: #1f77b4; stroke: #333333\"/>\n",
       "     <use xlink:href=\"#m3339e39897\" x=\"99.167164\" y=\"208.206126\" style=\"fill: #1f77b4; stroke: #333333\"/>\n",
       "     <use xlink:href=\"#m3339e39897\" x=\"211.577945\" y=\"57.867977\" style=\"fill: #1f77b4; stroke: #333333\"/>\n",
       "     <use xlink:href=\"#m3339e39897\" x=\"220.751413\" y=\"41.469595\" style=\"fill: #1f77b4; stroke: #333333\"/>\n",
       "     <use xlink:href=\"#m3339e39897\" x=\"72.137778\" y=\"214.445482\" style=\"fill: #1f77b4; stroke: #333333\"/>\n",
       "     <use xlink:href=\"#m3339e39897\" x=\"235.916363\" y=\"80.464924\" style=\"fill: #1f77b4; stroke: #333333\"/>\n",
       "    </g>\n",
       "   </g>\n",
       "   <g id=\"PathCollection_2\">\n",
       "    <defs>\n",
       "     <path id=\"me77defa9ba\" d=\"M 0 3 \n",
       "C 0.795609 3 1.55874 2.683901 2.12132 2.12132 \n",
       "C 2.683901 1.55874 3 0.795609 3 0 \n",
       "C 3 -0.795609 2.683901 -1.55874 2.12132 -2.12132 \n",
       "C 1.55874 -2.683901 0.795609 -3 0 -3 \n",
       "C -0.795609 -3 -1.55874 -2.683901 -2.12132 -2.12132 \n",
       "C -2.683901 -1.55874 -3 -0.795609 -3 0 \n",
       "C -3 0.795609 -2.683901 1.55874 -2.12132 2.12132 \n",
       "C -1.55874 2.683901 -0.795609 3 0 3 \n",
       "z\n",
       "\" style=\"stroke: #333333\"/>\n",
       "    </defs>\n",
       "    <g clip-path=\"url(#p52e47f860c)\">\n",
       "     <use xlink:href=\"#me77defa9ba\" x=\"230.877063\" y=\"180.913557\" style=\"fill: #ff7f0e; stroke: #333333\"/>\n",
       "     <use xlink:href=\"#me77defa9ba\" x=\"243.842427\" y=\"181.183986\" style=\"fill: #ff7f0e; stroke: #333333\"/>\n",
       "     <use xlink:href=\"#me77defa9ba\" x=\"232.017097\" y=\"198.932324\" style=\"fill: #ff7f0e; stroke: #333333\"/>\n",
       "     <use xlink:href=\"#me77defa9ba\" x=\"89.746376\" y=\"45.392998\" style=\"fill: #ff7f0e; stroke: #333333\"/>\n",
       "     <use xlink:href=\"#me77defa9ba\" x=\"250.686437\" y=\"201.599728\" style=\"fill: #ff7f0e; stroke: #333333\"/>\n",
       "     <use xlink:href=\"#me77defa9ba\" x=\"100.400405\" y=\"63.553489\" style=\"fill: #ff7f0e; stroke: #333333\"/>\n",
       "     <use xlink:href=\"#me77defa9ba\" x=\"219.862038\" y=\"211.350014\" style=\"fill: #ff7f0e; stroke: #333333\"/>\n",
       "     <use xlink:href=\"#me77defa9ba\" x=\"130.59866\" y=\"59.599027\" style=\"fill: #ff7f0e; stroke: #333333\"/>\n",
       "     <use xlink:href=\"#me77defa9ba\" x=\"247.536058\" y=\"217.196966\" style=\"fill: #ff7f0e; stroke: #333333\"/>\n",
       "     <use xlink:href=\"#me77defa9ba\" x=\"214.797166\" y=\"185.557909\" style=\"fill: #ff7f0e; stroke: #333333\"/>\n",
       "     <use xlink:href=\"#me77defa9ba\" x=\"229.906907\" y=\"173.017888\" style=\"fill: #ff7f0e; stroke: #333333\"/>\n",
       "     <use xlink:href=\"#me77defa9ba\" x=\"65.731142\" y=\"44.566804\" style=\"fill: #ff7f0e; stroke: #333333\"/>\n",
       "     <use xlink:href=\"#me77defa9ba\" x=\"116.585574\" y=\"45.533014\" style=\"fill: #ff7f0e; stroke: #333333\"/>\n",
       "     <use xlink:href=\"#me77defa9ba\" x=\"96.4775\" y=\"76.495825\" style=\"fill: #ff7f0e; stroke: #333333\"/>\n",
       "     <use xlink:href=\"#me77defa9ba\" x=\"96.788387\" y=\"42.091466\" style=\"fill: #ff7f0e; stroke: #333333\"/>\n",
       "     <use xlink:href=\"#me77defa9ba\" x=\"75.708547\" y=\"39.030573\" style=\"fill: #ff7f0e; stroke: #333333\"/>\n",
       "     <use xlink:href=\"#me77defa9ba\" x=\"233.922057\" y=\"201.757218\" style=\"fill: #ff7f0e; stroke: #333333\"/>\n",
       "     <use xlink:href=\"#me77defa9ba\" x=\"216.28277\" y=\"180.766731\" style=\"fill: #ff7f0e; stroke: #333333\"/>\n",
       "     <use xlink:href=\"#me77defa9ba\" x=\"225.945553\" y=\"182.832732\" style=\"fill: #ff7f0e; stroke: #333333\"/>\n",
       "     <use xlink:href=\"#me77defa9ba\" x=\"107.888844\" y=\"59.25904\" style=\"fill: #ff7f0e; stroke: #333333\"/>\n",
       "     <use xlink:href=\"#me77defa9ba\" x=\"212.266314\" y=\"192.147409\" style=\"fill: #ff7f0e; stroke: #333333\"/>\n",
       "     <use xlink:href=\"#me77defa9ba\" x=\"257.089413\" y=\"200.542537\" style=\"fill: #ff7f0e; stroke: #333333\"/>\n",
       "     <use xlink:href=\"#me77defa9ba\" x=\"248.528097\" y=\"198.107913\" style=\"fill: #ff7f0e; stroke: #333333\"/>\n",
       "     <use xlink:href=\"#me77defa9ba\" x=\"223.275659\" y=\"202.11576\" style=\"fill: #ff7f0e; stroke: #333333\"/>\n",
       "     <use xlink:href=\"#me77defa9ba\" x=\"254.62465\" y=\"176.456154\" style=\"fill: #ff7f0e; stroke: #333333\"/>\n",
       "     <use xlink:href=\"#me77defa9ba\" x=\"83.200733\" y=\"70.175377\" style=\"fill: #ff7f0e; stroke: #333333\"/>\n",
       "     <use xlink:href=\"#me77defa9ba\" x=\"251.724096\" y=\"179.390064\" style=\"fill: #ff7f0e; stroke: #333333\"/>\n",
       "     <use xlink:href=\"#me77defa9ba\" x=\"110.819287\" y=\"55.123203\" style=\"fill: #ff7f0e; stroke: #333333\"/>\n",
       "     <use xlink:href=\"#me77defa9ba\" x=\"232.126351\" y=\"178.669064\" style=\"fill: #ff7f0e; stroke: #333333\"/>\n",
       "     <use xlink:href=\"#me77defa9ba\" x=\"68.497902\" y=\"56.973626\" style=\"fill: #ff7f0e; stroke: #333333\"/>\n",
       "     <use xlink:href=\"#me77defa9ba\" x=\"95.226666\" y=\"66.120244\" style=\"fill: #ff7f0e; stroke: #333333\"/>\n",
       "     <use xlink:href=\"#me77defa9ba\" x=\"223.392974\" y=\"208.672635\" style=\"fill: #ff7f0e; stroke: #333333\"/>\n",
       "     <use xlink:href=\"#me77defa9ba\" x=\"214.945261\" y=\"183.133722\" style=\"fill: #ff7f0e; stroke: #333333\"/>\n",
       "     <use xlink:href=\"#me77defa9ba\" x=\"100.205618\" y=\"60.661631\" style=\"fill: #ff7f0e; stroke: #333333\"/>\n",
       "     <use xlink:href=\"#me77defa9ba\" x=\"244.127174\" y=\"183.85959\" style=\"fill: #ff7f0e; stroke: #333333\"/>\n",
       "     <use xlink:href=\"#me77defa9ba\" x=\"100.782099\" y=\"68.534007\" style=\"fill: #ff7f0e; stroke: #333333\"/>\n",
       "     <use xlink:href=\"#me77defa9ba\" x=\"97.685973\" y=\"71.284393\" style=\"fill: #ff7f0e; stroke: #333333\"/>\n",
       "     <use xlink:href=\"#me77defa9ba\" x=\"261.24119\" y=\"209.357586\" style=\"fill: #ff7f0e; stroke: #333333\"/>\n",
       "     <use xlink:href=\"#me77defa9ba\" x=\"231.536281\" y=\"180.074569\" style=\"fill: #ff7f0e; stroke: #333333\"/>\n",
       "     <use xlink:href=\"#me77defa9ba\" x=\"84.432042\" y=\"55.826098\" style=\"fill: #ff7f0e; stroke: #333333\"/>\n",
       "     <use xlink:href=\"#me77defa9ba\" x=\"114.704427\" y=\"57.881371\" style=\"fill: #ff7f0e; stroke: #333333\"/>\n",
       "     <use xlink:href=\"#me77defa9ba\" x=\"118.139583\" y=\"40.282525\" style=\"fill: #ff7f0e; stroke: #333333\"/>\n",
       "     <use xlink:href=\"#me77defa9ba\" x=\"244.331312\" y=\"206.328325\" style=\"fill: #ff7f0e; stroke: #333333\"/>\n",
       "     <use xlink:href=\"#me77defa9ba\" x=\"84.937455\" y=\"59.985039\" style=\"fill: #ff7f0e; stroke: #333333\"/>\n",
       "     <use xlink:href=\"#me77defa9ba\" x=\"229.111028\" y=\"185.254639\" style=\"fill: #ff7f0e; stroke: #333333\"/>\n",
       "     <use xlink:href=\"#me77defa9ba\" x=\"99.865846\" y=\"73.50443\" style=\"fill: #ff7f0e; stroke: #333333\"/>\n",
       "     <use xlink:href=\"#me77defa9ba\" x=\"107.774522\" y=\"50.128195\" style=\"fill: #ff7f0e; stroke: #333333\"/>\n",
       "     <use xlink:href=\"#me77defa9ba\" x=\"106.681533\" y=\"53.57626\" style=\"fill: #ff7f0e; stroke: #333333\"/>\n",
       "     <use xlink:href=\"#me77defa9ba\" x=\"220.300095\" y=\"186.154142\" style=\"fill: #ff7f0e; stroke: #333333\"/>\n",
       "     <use xlink:href=\"#me77defa9ba\" x=\"84.93114\" y=\"77.508109\" style=\"fill: #ff7f0e; stroke: #333333\"/>\n",
       "     <use xlink:href=\"#me77defa9ba\" x=\"105.491498\" y=\"48.161599\" style=\"fill: #ff7f0e; stroke: #333333\"/>\n",
       "     <use xlink:href=\"#me77defa9ba\" x=\"212.017878\" y=\"182.204423\" style=\"fill: #ff7f0e; stroke: #333333\"/>\n",
       "     <use xlink:href=\"#me77defa9ba\" x=\"238.780524\" y=\"210.592034\" style=\"fill: #ff7f0e; stroke: #333333\"/>\n",
       "     <use xlink:href=\"#me77defa9ba\" x=\"102.920944\" y=\"48.671279\" style=\"fill: #ff7f0e; stroke: #333333\"/>\n",
       "     <use xlink:href=\"#me77defa9ba\" x=\"109.227118\" y=\"67.791241\" style=\"fill: #ff7f0e; stroke: #333333\"/>\n",
       "     <use xlink:href=\"#me77defa9ba\" x=\"218.916511\" y=\"195.110735\" style=\"fill: #ff7f0e; stroke: #333333\"/>\n",
       "     <use xlink:href=\"#me77defa9ba\" x=\"210.412471\" y=\"197.807546\" style=\"fill: #ff7f0e; stroke: #333333\"/>\n",
       "     <use xlink:href=\"#me77defa9ba\" x=\"106.409234\" y=\"62.370039\" style=\"fill: #ff7f0e; stroke: #333333\"/>\n",
       "     <use xlink:href=\"#me77defa9ba\" x=\"62.306392\" y=\"69.539331\" style=\"fill: #ff7f0e; stroke: #333333\"/>\n",
       "     <use xlink:href=\"#me77defa9ba\" x=\"91.834453\" y=\"77.469177\" style=\"fill: #ff7f0e; stroke: #333333\"/>\n",
       "     <use xlink:href=\"#me77defa9ba\" x=\"109.483259\" y=\"52.116365\" style=\"fill: #ff7f0e; stroke: #333333\"/>\n",
       "     <use xlink:href=\"#me77defa9ba\" x=\"87.52736\" y=\"63.223243\" style=\"fill: #ff7f0e; stroke: #333333\"/>\n",
       "     <use xlink:href=\"#me77defa9ba\" x=\"94.034599\" y=\"55.768785\" style=\"fill: #ff7f0e; stroke: #333333\"/>\n",
       "     <use xlink:href=\"#me77defa9ba\" x=\"110.113367\" y=\"68.261083\" style=\"fill: #ff7f0e; stroke: #333333\"/>\n",
       "     <use xlink:href=\"#me77defa9ba\" x=\"257.318305\" y=\"202.317721\" style=\"fill: #ff7f0e; stroke: #333333\"/>\n",
       "     <use xlink:href=\"#me77defa9ba\" x=\"79.762115\" y=\"39.847979\" style=\"fill: #ff7f0e; stroke: #333333\"/>\n",
       "     <use xlink:href=\"#me77defa9ba\" x=\"258.048499\" y=\"185.012766\" style=\"fill: #ff7f0e; stroke: #333333\"/>\n",
       "     <use xlink:href=\"#me77defa9ba\" x=\"244.789162\" y=\"171.865302\" style=\"fill: #ff7f0e; stroke: #333333\"/>\n",
       "     <use xlink:href=\"#me77defa9ba\" x=\"214.47439\" y=\"211.299351\" style=\"fill: #ff7f0e; stroke: #333333\"/>\n",
       "     <use xlink:href=\"#me77defa9ba\" x=\"218.387835\" y=\"227.253664\" style=\"fill: #ff7f0e; stroke: #333333\"/>\n",
       "     <use xlink:href=\"#me77defa9ba\" x=\"98.247032\" y=\"41.347367\" style=\"fill: #ff7f0e; stroke: #333333\"/>\n",
       "     <use xlink:href=\"#me77defa9ba\" x=\"221.09122\" y=\"178.959826\" style=\"fill: #ff7f0e; stroke: #333333\"/>\n",
       "     <use xlink:href=\"#me77defa9ba\" x=\"207.783237\" y=\"165.02484\" style=\"fill: #ff7f0e; stroke: #333333\"/>\n",
       "     <use xlink:href=\"#me77defa9ba\" x=\"84.486389\" y=\"47.120304\" style=\"fill: #ff7f0e; stroke: #333333\"/>\n",
       "     <use xlink:href=\"#me77defa9ba\" x=\"108.320496\" y=\"59.847104\" style=\"fill: #ff7f0e; stroke: #333333\"/>\n",
       "     <use xlink:href=\"#me77defa9ba\" x=\"247.02495\" y=\"184.293941\" style=\"fill: #ff7f0e; stroke: #333333\"/>\n",
       "     <use xlink:href=\"#me77defa9ba\" x=\"92.024123\" y=\"51.399993\" style=\"fill: #ff7f0e; stroke: #333333\"/>\n",
       "     <use xlink:href=\"#me77defa9ba\" x=\"103.976033\" y=\"61.578541\" style=\"fill: #ff7f0e; stroke: #333333\"/>\n",
       "     <use xlink:href=\"#me77defa9ba\" x=\"102.375453\" y=\"64.816787\" style=\"fill: #ff7f0e; stroke: #333333\"/>\n",
       "     <use xlink:href=\"#me77defa9ba\" x=\"230.527021\" y=\"177.171327\" style=\"fill: #ff7f0e; stroke: #333333\"/>\n",
       "     <use xlink:href=\"#me77defa9ba\" x=\"238.484799\" y=\"167.950176\" style=\"fill: #ff7f0e; stroke: #333333\"/>\n",
       "     <use xlink:href=\"#me77defa9ba\" x=\"247.340005\" y=\"185.179964\" style=\"fill: #ff7f0e; stroke: #333333\"/>\n",
       "     <use xlink:href=\"#me77defa9ba\" x=\"134.8086\" y=\"59.304711\" style=\"fill: #ff7f0e; stroke: #333333\"/>\n",
       "     <use xlink:href=\"#me77defa9ba\" x=\"213.726653\" y=\"213.578161\" style=\"fill: #ff7f0e; stroke: #333333\"/>\n",
       "     <use xlink:href=\"#me77defa9ba\" x=\"265.215483\" y=\"212.626448\" style=\"fill: #ff7f0e; stroke: #333333\"/>\n",
       "     <use xlink:href=\"#me77defa9ba\" x=\"226.839442\" y=\"209.593202\" style=\"fill: #ff7f0e; stroke: #333333\"/>\n",
       "     <use xlink:href=\"#me77defa9ba\" x=\"88.454985\" y=\"69.802283\" style=\"fill: #ff7f0e; stroke: #333333\"/>\n",
       "     <use xlink:href=\"#me77defa9ba\" x=\"86.200641\" y=\"59.30147\" style=\"fill: #ff7f0e; stroke: #333333\"/>\n",
       "     <use xlink:href=\"#me77defa9ba\" x=\"249.708568\" y=\"212.467168\" style=\"fill: #ff7f0e; stroke: #333333\"/>\n",
       "     <use xlink:href=\"#me77defa9ba\" x=\"86.639712\" y=\"66.734504\" style=\"fill: #ff7f0e; stroke: #333333\"/>\n",
       "     <use xlink:href=\"#me77defa9ba\" x=\"72.549088\" y=\"61.78785\" style=\"fill: #ff7f0e; stroke: #333333\"/>\n",
       "     <use xlink:href=\"#me77defa9ba\" x=\"116.327234\" y=\"48.616483\" style=\"fill: #ff7f0e; stroke: #333333\"/>\n",
       "     <use xlink:href=\"#me77defa9ba\" x=\"89.624632\" y=\"51.591563\" style=\"fill: #ff7f0e; stroke: #333333\"/>\n",
       "     <use xlink:href=\"#me77defa9ba\" x=\"257.369976\" y=\"209.982902\" style=\"fill: #ff7f0e; stroke: #333333\"/>\n",
       "     <use xlink:href=\"#me77defa9ba\" x=\"209.334228\" y=\"191.955712\" style=\"fill: #ff7f0e; stroke: #333333\"/>\n",
       "     <use xlink:href=\"#me77defa9ba\" x=\"98.138755\" y=\"44.566278\" style=\"fill: #ff7f0e; stroke: #333333\"/>\n",
       "     <use xlink:href=\"#me77defa9ba\" x=\"254.619078\" y=\"207.56031\" style=\"fill: #ff7f0e; stroke: #333333\"/>\n",
       "    </g>\n",
       "   </g>\n",
       "   <g id=\"matplotlib.axis_1\">\n",
       "    <g id=\"xtick_1\">\n",
       "     <g id=\"line2d_1\">\n",
       "      <defs>\n",
       "       <path id=\"m5041c6fe1a\" d=\"M 0 0 \n",
       "L 0 3.5 \n",
       "\" style=\"stroke: #000000; stroke-width: 0.8\"/>\n",
       "      </defs>\n",
       "      <g>\n",
       "       <use xlink:href=\"#m5041c6fe1a\" x=\"62.596276\" y=\"239.758125\" style=\"stroke: #000000; stroke-width: 0.8\"/>\n",
       "      </g>\n",
       "     </g>\n",
       "     <g id=\"text_1\">\n",
       "      <!-- −0.25 -->\n",
       "      <g transform=\"translate(47.27362 254.356562)scale(0.1 -0.1)\">\n",
       "       <defs>\n",
       "        <path id=\"DejaVuSans-2212\" d=\"M 678 2272 \n",
       "L 4684 2272 \n",
       "L 4684 1741 \n",
       "L 678 1741 \n",
       "L 678 2272 \n",
       "z\n",
       "\" transform=\"scale(0.015625)\"/>\n",
       "        <path id=\"DejaVuSans-30\" d=\"M 2034 4250 \n",
       "Q 1547 4250 1301 3770 \n",
       "Q 1056 3291 1056 2328 \n",
       "Q 1056 1369 1301 889 \n",
       "Q 1547 409 2034 409 \n",
       "Q 2525 409 2770 889 \n",
       "Q 3016 1369 3016 2328 \n",
       "Q 3016 3291 2770 3770 \n",
       "Q 2525 4250 2034 4250 \n",
       "z\n",
       "M 2034 4750 \n",
       "Q 2819 4750 3233 4129 \n",
       "Q 3647 3509 3647 2328 \n",
       "Q 3647 1150 3233 529 \n",
       "Q 2819 -91 2034 -91 \n",
       "Q 1250 -91 836 529 \n",
       "Q 422 1150 422 2328 \n",
       "Q 422 3509 836 4129 \n",
       "Q 1250 4750 2034 4750 \n",
       "z\n",
       "\" transform=\"scale(0.015625)\"/>\n",
       "        <path id=\"DejaVuSans-2e\" d=\"M 684 794 \n",
       "L 1344 794 \n",
       "L 1344 0 \n",
       "L 684 0 \n",
       "L 684 794 \n",
       "z\n",
       "\" transform=\"scale(0.015625)\"/>\n",
       "        <path id=\"DejaVuSans-32\" d=\"M 1228 531 \n",
       "L 3431 531 \n",
       "L 3431 0 \n",
       "L 469 0 \n",
       "L 469 531 \n",
       "Q 828 903 1448 1529 \n",
       "Q 2069 2156 2228 2338 \n",
       "Q 2531 2678 2651 2914 \n",
       "Q 2772 3150 2772 3378 \n",
       "Q 2772 3750 2511 3984 \n",
       "Q 2250 4219 1831 4219 \n",
       "Q 1534 4219 1204 4116 \n",
       "Q 875 4013 500 3803 \n",
       "L 500 4441 \n",
       "Q 881 4594 1212 4672 \n",
       "Q 1544 4750 1819 4750 \n",
       "Q 2544 4750 2975 4387 \n",
       "Q 3406 4025 3406 3419 \n",
       "Q 3406 3131 3298 2873 \n",
       "Q 3191 2616 2906 2266 \n",
       "Q 2828 2175 2409 1742 \n",
       "Q 1991 1309 1228 531 \n",
       "z\n",
       "\" transform=\"scale(0.015625)\"/>\n",
       "        <path id=\"DejaVuSans-35\" d=\"M 691 4666 \n",
       "L 3169 4666 \n",
       "L 3169 4134 \n",
       "L 1269 4134 \n",
       "L 1269 2991 \n",
       "Q 1406 3038 1543 3061 \n",
       "Q 1681 3084 1819 3084 \n",
       "Q 2600 3084 3056 2656 \n",
       "Q 3513 2228 3513 1497 \n",
       "Q 3513 744 3044 326 \n",
       "Q 2575 -91 1722 -91 \n",
       "Q 1428 -91 1123 -41 \n",
       "Q 819 9 494 109 \n",
       "L 494 744 \n",
       "Q 775 591 1075 516 \n",
       "Q 1375 441 1709 441 \n",
       "Q 2250 441 2565 725 \n",
       "Q 2881 1009 2881 1497 \n",
       "Q 2881 1984 2565 2268 \n",
       "Q 2250 2553 1709 2553 \n",
       "Q 1456 2553 1204 2497 \n",
       "Q 953 2441 691 2322 \n",
       "L 691 4666 \n",
       "z\n",
       "\" transform=\"scale(0.015625)\"/>\n",
       "       </defs>\n",
       "       <use xlink:href=\"#DejaVuSans-2212\"/>\n",
       "       <use xlink:href=\"#DejaVuSans-30\" x=\"83.789062\"/>\n",
       "       <use xlink:href=\"#DejaVuSans-2e\" x=\"147.412109\"/>\n",
       "       <use xlink:href=\"#DejaVuSans-32\" x=\"179.199219\"/>\n",
       "       <use xlink:href=\"#DejaVuSans-35\" x=\"242.822266\"/>\n",
       "      </g>\n",
       "     </g>\n",
       "    </g>\n",
       "    <g id=\"xtick_2\">\n",
       "     <g id=\"line2d_2\">\n",
       "      <g>\n",
       "       <use xlink:href=\"#m5041c6fe1a\" x=\"97.272305\" y=\"239.758125\" style=\"stroke: #000000; stroke-width: 0.8\"/>\n",
       "      </g>\n",
       "     </g>\n",
       "     <g id=\"text_2\">\n",
       "      <!-- 0.00 -->\n",
       "      <g transform=\"translate(86.139492 254.356562)scale(0.1 -0.1)\">\n",
       "       <use xlink:href=\"#DejaVuSans-30\"/>\n",
       "       <use xlink:href=\"#DejaVuSans-2e\" x=\"63.623047\"/>\n",
       "       <use xlink:href=\"#DejaVuSans-30\" x=\"95.410156\"/>\n",
       "       <use xlink:href=\"#DejaVuSans-30\" x=\"159.033203\"/>\n",
       "      </g>\n",
       "     </g>\n",
       "    </g>\n",
       "    <g id=\"xtick_3\">\n",
       "     <g id=\"line2d_3\">\n",
       "      <g>\n",
       "       <use xlink:href=\"#m5041c6fe1a\" x=\"131.948333\" y=\"239.758125\" style=\"stroke: #000000; stroke-width: 0.8\"/>\n",
       "      </g>\n",
       "     </g>\n",
       "     <g id=\"text_3\">\n",
       "      <!-- 0.25 -->\n",
       "      <g transform=\"translate(120.81552 254.356562)scale(0.1 -0.1)\">\n",
       "       <use xlink:href=\"#DejaVuSans-30\"/>\n",
       "       <use xlink:href=\"#DejaVuSans-2e\" x=\"63.623047\"/>\n",
       "       <use xlink:href=\"#DejaVuSans-32\" x=\"95.410156\"/>\n",
       "       <use xlink:href=\"#DejaVuSans-35\" x=\"159.033203\"/>\n",
       "      </g>\n",
       "     </g>\n",
       "    </g>\n",
       "    <g id=\"xtick_4\">\n",
       "     <g id=\"line2d_4\">\n",
       "      <g>\n",
       "       <use xlink:href=\"#m5041c6fe1a\" x=\"166.624361\" y=\"239.758125\" style=\"stroke: #000000; stroke-width: 0.8\"/>\n",
       "      </g>\n",
       "     </g>\n",
       "     <g id=\"text_4\">\n",
       "      <!-- 0.50 -->\n",
       "      <g transform=\"translate(155.491548 254.356562)scale(0.1 -0.1)\">\n",
       "       <use xlink:href=\"#DejaVuSans-30\"/>\n",
       "       <use xlink:href=\"#DejaVuSans-2e\" x=\"63.623047\"/>\n",
       "       <use xlink:href=\"#DejaVuSans-35\" x=\"95.410156\"/>\n",
       "       <use xlink:href=\"#DejaVuSans-30\" x=\"159.033203\"/>\n",
       "      </g>\n",
       "     </g>\n",
       "    </g>\n",
       "    <g id=\"xtick_5\">\n",
       "     <g id=\"line2d_5\">\n",
       "      <g>\n",
       "       <use xlink:href=\"#m5041c6fe1a\" x=\"201.300389\" y=\"239.758125\" style=\"stroke: #000000; stroke-width: 0.8\"/>\n",
       "      </g>\n",
       "     </g>\n",
       "     <g id=\"text_5\">\n",
       "      <!-- 0.75 -->\n",
       "      <g transform=\"translate(190.167577 254.356562)scale(0.1 -0.1)\">\n",
       "       <defs>\n",
       "        <path id=\"DejaVuSans-37\" d=\"M 525 4666 \n",
       "L 3525 4666 \n",
       "L 3525 4397 \n",
       "L 1831 0 \n",
       "L 1172 0 \n",
       "L 2766 4134 \n",
       "L 525 4134 \n",
       "L 525 4666 \n",
       "z\n",
       "\" transform=\"scale(0.015625)\"/>\n",
       "       </defs>\n",
       "       <use xlink:href=\"#DejaVuSans-30\"/>\n",
       "       <use xlink:href=\"#DejaVuSans-2e\" x=\"63.623047\"/>\n",
       "       <use xlink:href=\"#DejaVuSans-37\" x=\"95.410156\"/>\n",
       "       <use xlink:href=\"#DejaVuSans-35\" x=\"159.033203\"/>\n",
       "      </g>\n",
       "     </g>\n",
       "    </g>\n",
       "    <g id=\"xtick_6\">\n",
       "     <g id=\"line2d_6\">\n",
       "      <g>\n",
       "       <use xlink:href=\"#m5041c6fe1a\" x=\"235.976417\" y=\"239.758125\" style=\"stroke: #000000; stroke-width: 0.8\"/>\n",
       "      </g>\n",
       "     </g>\n",
       "     <g id=\"text_6\">\n",
       "      <!-- 1.00 -->\n",
       "      <g transform=\"translate(224.843605 254.356562)scale(0.1 -0.1)\">\n",
       "       <defs>\n",
       "        <path id=\"DejaVuSans-31\" d=\"M 794 531 \n",
       "L 1825 531 \n",
       "L 1825 4091 \n",
       "L 703 3866 \n",
       "L 703 4441 \n",
       "L 1819 4666 \n",
       "L 2450 4666 \n",
       "L 2450 531 \n",
       "L 3481 531 \n",
       "L 3481 0 \n",
       "L 794 0 \n",
       "L 794 531 \n",
       "z\n",
       "\" transform=\"scale(0.015625)\"/>\n",
       "       </defs>\n",
       "       <use xlink:href=\"#DejaVuSans-31\"/>\n",
       "       <use xlink:href=\"#DejaVuSans-2e\" x=\"63.623047\"/>\n",
       "       <use xlink:href=\"#DejaVuSans-30\" x=\"95.410156\"/>\n",
       "       <use xlink:href=\"#DejaVuSans-30\" x=\"159.033203\"/>\n",
       "      </g>\n",
       "     </g>\n",
       "    </g>\n",
       "    <g id=\"xtick_7\">\n",
       "     <g id=\"line2d_7\">\n",
       "      <g>\n",
       "       <use xlink:href=\"#m5041c6fe1a\" x=\"270.652446\" y=\"239.758125\" style=\"stroke: #000000; stroke-width: 0.8\"/>\n",
       "      </g>\n",
       "     </g>\n",
       "     <g id=\"text_7\">\n",
       "      <!-- 1.25 -->\n",
       "      <g transform=\"translate(259.519633 254.356562)scale(0.1 -0.1)\">\n",
       "       <use xlink:href=\"#DejaVuSans-31\"/>\n",
       "       <use xlink:href=\"#DejaVuSans-2e\" x=\"63.623047\"/>\n",
       "       <use xlink:href=\"#DejaVuSans-32\" x=\"95.410156\"/>\n",
       "       <use xlink:href=\"#DejaVuSans-35\" x=\"159.033203\"/>\n",
       "      </g>\n",
       "     </g>\n",
       "    </g>\n",
       "    <g id=\"text_8\">\n",
       "     <!-- $x_1$ -->\n",
       "     <g transform=\"translate(158.410938 268.034687)scale(0.1 -0.1)\">\n",
       "      <defs>\n",
       "       <path id=\"DejaVuSans-Oblique-78\" d=\"M 3841 3500 \n",
       "L 2234 1784 \n",
       "L 3219 0 \n",
       "L 2559 0 \n",
       "L 1819 1388 \n",
       "L 531 0 \n",
       "L -166 0 \n",
       "L 1556 1844 \n",
       "L 641 3500 \n",
       "L 1300 3500 \n",
       "L 1972 2234 \n",
       "L 3144 3500 \n",
       "L 3841 3500 \n",
       "z\n",
       "\" transform=\"scale(0.015625)\"/>\n",
       "      </defs>\n",
       "      <use xlink:href=\"#DejaVuSans-Oblique-78\" transform=\"translate(0 0.3125)\"/>\n",
       "      <use xlink:href=\"#DejaVuSans-31\" transform=\"translate(59.179688 -16.09375)scale(0.7)\"/>\n",
       "     </g>\n",
       "    </g>\n",
       "   </g>\n",
       "   <g id=\"matplotlib.axis_2\">\n",
       "    <g id=\"ytick_1\">\n",
       "     <g id=\"line2d_8\">\n",
       "      <defs>\n",
       "       <path id=\"mc673a3a73b\" d=\"M 0 0 \n",
       "L -3.5 0 \n",
       "\" style=\"stroke: #000000; stroke-width: 0.8\"/>\n",
       "      </defs>\n",
       "      <g>\n",
       "       <use xlink:href=\"#mc673a3a73b\" x=\"52.160938\" y=\"223.94267\" style=\"stroke: #000000; stroke-width: 0.8\"/>\n",
       "      </g>\n",
       "     </g>\n",
       "     <g id=\"text_9\">\n",
       "      <!-- −0.2 -->\n",
       "      <g transform=\"translate(20.878125 227.741889)scale(0.1 -0.1)\">\n",
       "       <use xlink:href=\"#DejaVuSans-2212\"/>\n",
       "       <use xlink:href=\"#DejaVuSans-30\" x=\"83.789062\"/>\n",
       "       <use xlink:href=\"#DejaVuSans-2e\" x=\"147.412109\"/>\n",
       "       <use xlink:href=\"#DejaVuSans-32\" x=\"179.199219\"/>\n",
       "      </g>\n",
       "     </g>\n",
       "    </g>\n",
       "    <g id=\"ytick_2\">\n",
       "     <g id=\"line2d_9\">\n",
       "      <g>\n",
       "       <use xlink:href=\"#mc673a3a73b\" x=\"52.160938\" y=\"196.335617\" style=\"stroke: #000000; stroke-width: 0.8\"/>\n",
       "      </g>\n",
       "     </g>\n",
       "     <g id=\"text_10\">\n",
       "      <!-- 0.0 -->\n",
       "      <g transform=\"translate(29.257812 200.134836)scale(0.1 -0.1)\">\n",
       "       <use xlink:href=\"#DejaVuSans-30\"/>\n",
       "       <use xlink:href=\"#DejaVuSans-2e\" x=\"63.623047\"/>\n",
       "       <use xlink:href=\"#DejaVuSans-30\" x=\"95.410156\"/>\n",
       "      </g>\n",
       "     </g>\n",
       "    </g>\n",
       "    <g id=\"ytick_3\">\n",
       "     <g id=\"line2d_10\">\n",
       "      <g>\n",
       "       <use xlink:href=\"#mc673a3a73b\" x=\"52.160938\" y=\"168.728564\" style=\"stroke: #000000; stroke-width: 0.8\"/>\n",
       "      </g>\n",
       "     </g>\n",
       "     <g id=\"text_11\">\n",
       "      <!-- 0.2 -->\n",
       "      <g transform=\"translate(29.257812 172.527783)scale(0.1 -0.1)\">\n",
       "       <use xlink:href=\"#DejaVuSans-30\"/>\n",
       "       <use xlink:href=\"#DejaVuSans-2e\" x=\"63.623047\"/>\n",
       "       <use xlink:href=\"#DejaVuSans-32\" x=\"95.410156\"/>\n",
       "      </g>\n",
       "     </g>\n",
       "    </g>\n",
       "    <g id=\"ytick_4\">\n",
       "     <g id=\"line2d_11\">\n",
       "      <g>\n",
       "       <use xlink:href=\"#mc673a3a73b\" x=\"52.160938\" y=\"141.12151\" style=\"stroke: #000000; stroke-width: 0.8\"/>\n",
       "      </g>\n",
       "     </g>\n",
       "     <g id=\"text_12\">\n",
       "      <!-- 0.4 -->\n",
       "      <g transform=\"translate(29.257812 144.920729)scale(0.1 -0.1)\">\n",
       "       <defs>\n",
       "        <path id=\"DejaVuSans-34\" d=\"M 2419 4116 \n",
       "L 825 1625 \n",
       "L 2419 1625 \n",
       "L 2419 4116 \n",
       "z\n",
       "M 2253 4666 \n",
       "L 3047 4666 \n",
       "L 3047 1625 \n",
       "L 3713 1625 \n",
       "L 3713 1100 \n",
       "L 3047 1100 \n",
       "L 3047 0 \n",
       "L 2419 0 \n",
       "L 2419 1100 \n",
       "L 313 1100 \n",
       "L 313 1709 \n",
       "L 2253 4666 \n",
       "z\n",
       "\" transform=\"scale(0.015625)\"/>\n",
       "       </defs>\n",
       "       <use xlink:href=\"#DejaVuSans-30\"/>\n",
       "       <use xlink:href=\"#DejaVuSans-2e\" x=\"63.623047\"/>\n",
       "       <use xlink:href=\"#DejaVuSans-34\" x=\"95.410156\"/>\n",
       "      </g>\n",
       "     </g>\n",
       "    </g>\n",
       "    <g id=\"ytick_5\">\n",
       "     <g id=\"line2d_12\">\n",
       "      <g>\n",
       "       <use xlink:href=\"#mc673a3a73b\" x=\"52.160938\" y=\"113.514457\" style=\"stroke: #000000; stroke-width: 0.8\"/>\n",
       "      </g>\n",
       "     </g>\n",
       "     <g id=\"text_13\">\n",
       "      <!-- 0.6 -->\n",
       "      <g transform=\"translate(29.257812 117.313676)scale(0.1 -0.1)\">\n",
       "       <defs>\n",
       "        <path id=\"DejaVuSans-36\" d=\"M 2113 2584 \n",
       "Q 1688 2584 1439 2293 \n",
       "Q 1191 2003 1191 1497 \n",
       "Q 1191 994 1439 701 \n",
       "Q 1688 409 2113 409 \n",
       "Q 2538 409 2786 701 \n",
       "Q 3034 994 3034 1497 \n",
       "Q 3034 2003 2786 2293 \n",
       "Q 2538 2584 2113 2584 \n",
       "z\n",
       "M 3366 4563 \n",
       "L 3366 3988 \n",
       "Q 3128 4100 2886 4159 \n",
       "Q 2644 4219 2406 4219 \n",
       "Q 1781 4219 1451 3797 \n",
       "Q 1122 3375 1075 2522 \n",
       "Q 1259 2794 1537 2939 \n",
       "Q 1816 3084 2150 3084 \n",
       "Q 2853 3084 3261 2657 \n",
       "Q 3669 2231 3669 1497 \n",
       "Q 3669 778 3244 343 \n",
       "Q 2819 -91 2113 -91 \n",
       "Q 1303 -91 875 529 \n",
       "Q 447 1150 447 2328 \n",
       "Q 447 3434 972 4092 \n",
       "Q 1497 4750 2381 4750 \n",
       "Q 2619 4750 2861 4703 \n",
       "Q 3103 4656 3366 4563 \n",
       "z\n",
       "\" transform=\"scale(0.015625)\"/>\n",
       "       </defs>\n",
       "       <use xlink:href=\"#DejaVuSans-30\"/>\n",
       "       <use xlink:href=\"#DejaVuSans-2e\" x=\"63.623047\"/>\n",
       "       <use xlink:href=\"#DejaVuSans-36\" x=\"95.410156\"/>\n",
       "      </g>\n",
       "     </g>\n",
       "    </g>\n",
       "    <g id=\"ytick_6\">\n",
       "     <g id=\"line2d_13\">\n",
       "      <g>\n",
       "       <use xlink:href=\"#mc673a3a73b\" x=\"52.160938\" y=\"85.907404\" style=\"stroke: #000000; stroke-width: 0.8\"/>\n",
       "      </g>\n",
       "     </g>\n",
       "     <g id=\"text_14\">\n",
       "      <!-- 0.8 -->\n",
       "      <g transform=\"translate(29.257812 89.706623)scale(0.1 -0.1)\">\n",
       "       <defs>\n",
       "        <path id=\"DejaVuSans-38\" d=\"M 2034 2216 \n",
       "Q 1584 2216 1326 1975 \n",
       "Q 1069 1734 1069 1313 \n",
       "Q 1069 891 1326 650 \n",
       "Q 1584 409 2034 409 \n",
       "Q 2484 409 2743 651 \n",
       "Q 3003 894 3003 1313 \n",
       "Q 3003 1734 2745 1975 \n",
       "Q 2488 2216 2034 2216 \n",
       "z\n",
       "M 1403 2484 \n",
       "Q 997 2584 770 2862 \n",
       "Q 544 3141 544 3541 \n",
       "Q 544 4100 942 4425 \n",
       "Q 1341 4750 2034 4750 \n",
       "Q 2731 4750 3128 4425 \n",
       "Q 3525 4100 3525 3541 \n",
       "Q 3525 3141 3298 2862 \n",
       "Q 3072 2584 2669 2484 \n",
       "Q 3125 2378 3379 2068 \n",
       "Q 3634 1759 3634 1313 \n",
       "Q 3634 634 3220 271 \n",
       "Q 2806 -91 2034 -91 \n",
       "Q 1263 -91 848 271 \n",
       "Q 434 634 434 1313 \n",
       "Q 434 1759 690 2068 \n",
       "Q 947 2378 1403 2484 \n",
       "z\n",
       "M 1172 3481 \n",
       "Q 1172 3119 1398 2916 \n",
       "Q 1625 2713 2034 2713 \n",
       "Q 2441 2713 2670 2916 \n",
       "Q 2900 3119 2900 3481 \n",
       "Q 2900 3844 2670 4047 \n",
       "Q 2441 4250 2034 4250 \n",
       "Q 1625 4250 1398 4047 \n",
       "Q 1172 3844 1172 3481 \n",
       "z\n",
       "\" transform=\"scale(0.015625)\"/>\n",
       "       </defs>\n",
       "       <use xlink:href=\"#DejaVuSans-30\"/>\n",
       "       <use xlink:href=\"#DejaVuSans-2e\" x=\"63.623047\"/>\n",
       "       <use xlink:href=\"#DejaVuSans-38\" x=\"95.410156\"/>\n",
       "      </g>\n",
       "     </g>\n",
       "    </g>\n",
       "    <g id=\"ytick_7\">\n",
       "     <g id=\"line2d_14\">\n",
       "      <g>\n",
       "       <use xlink:href=\"#mc673a3a73b\" x=\"52.160938\" y=\"58.300351\" style=\"stroke: #000000; stroke-width: 0.8\"/>\n",
       "      </g>\n",
       "     </g>\n",
       "     <g id=\"text_15\">\n",
       "      <!-- 1.0 -->\n",
       "      <g transform=\"translate(29.257812 62.099569)scale(0.1 -0.1)\">\n",
       "       <use xlink:href=\"#DejaVuSans-31\"/>\n",
       "       <use xlink:href=\"#DejaVuSans-2e\" x=\"63.623047\"/>\n",
       "       <use xlink:href=\"#DejaVuSans-30\" x=\"95.410156\"/>\n",
       "      </g>\n",
       "     </g>\n",
       "    </g>\n",
       "    <g id=\"ytick_8\">\n",
       "     <g id=\"line2d_15\">\n",
       "      <g>\n",
       "       <use xlink:href=\"#mc673a3a73b\" x=\"52.160938\" y=\"30.693297\" style=\"stroke: #000000; stroke-width: 0.8\"/>\n",
       "      </g>\n",
       "     </g>\n",
       "     <g id=\"text_16\">\n",
       "      <!-- 1.2 -->\n",
       "      <g transform=\"translate(29.257812 34.492516)scale(0.1 -0.1)\">\n",
       "       <use xlink:href=\"#DejaVuSans-31\"/>\n",
       "       <use xlink:href=\"#DejaVuSans-2e\" x=\"63.623047\"/>\n",
       "       <use xlink:href=\"#DejaVuSans-32\" x=\"95.410156\"/>\n",
       "      </g>\n",
       "     </g>\n",
       "    </g>\n",
       "    <g id=\"text_17\">\n",
       "     <!-- $x_2$ -->\n",
       "     <g transform=\"translate(14.798438 136.388125)rotate(-90)scale(0.1 -0.1)\">\n",
       "      <use xlink:href=\"#DejaVuSans-Oblique-78\" transform=\"translate(0 0.3125)\"/>\n",
       "      <use xlink:href=\"#DejaVuSans-32\" transform=\"translate(59.179688 -16.09375)scale(0.7)\"/>\n",
       "     </g>\n",
       "    </g>\n",
       "   </g>\n",
       "   <g id=\"patch_3\">\n",
       "    <path d=\"M 52.160938 239.758125 \n",
       "L 52.160938 22.318125 \n",
       "\" style=\"fill: none; stroke: #000000; stroke-width: 0.8; stroke-linejoin: miter; stroke-linecap: square\"/>\n",
       "   </g>\n",
       "   <g id=\"patch_4\">\n",
       "    <path d=\"M 275.360937 239.758125 \n",
       "L 275.360937 22.318125 \n",
       "\" style=\"fill: none; stroke: #000000; stroke-width: 0.8; stroke-linejoin: miter; stroke-linecap: square\"/>\n",
       "   </g>\n",
       "   <g id=\"patch_5\">\n",
       "    <path d=\"M 52.160937 239.758125 \n",
       "L 275.360937 239.758125 \n",
       "\" style=\"fill: none; stroke: #000000; stroke-width: 0.8; stroke-linejoin: miter; stroke-linecap: square\"/>\n",
       "   </g>\n",
       "   <g id=\"patch_6\">\n",
       "    <path d=\"M 52.160937 22.318125 \n",
       "L 275.360937 22.318125 \n",
       "\" style=\"fill: none; stroke: #000000; stroke-width: 0.8; stroke-linejoin: miter; stroke-linecap: square\"/>\n",
       "   </g>\n",
       "   <g id=\"text_18\">\n",
       "    <!-- Dataset samples -->\n",
       "    <g transform=\"translate(113.418125 16.318125)scale(0.12 -0.12)\">\n",
       "     <defs>\n",
       "      <path id=\"DejaVuSans-44\" d=\"M 1259 4147 \n",
       "L 1259 519 \n",
       "L 2022 519 \n",
       "Q 2988 519 3436 956 \n",
       "Q 3884 1394 3884 2338 \n",
       "Q 3884 3275 3436 3711 \n",
       "Q 2988 4147 2022 4147 \n",
       "L 1259 4147 \n",
       "z\n",
       "M 628 4666 \n",
       "L 1925 4666 \n",
       "Q 3281 4666 3915 4102 \n",
       "Q 4550 3538 4550 2338 \n",
       "Q 4550 1131 3912 565 \n",
       "Q 3275 0 1925 0 \n",
       "L 628 0 \n",
       "L 628 4666 \n",
       "z\n",
       "\" transform=\"scale(0.015625)\"/>\n",
       "      <path id=\"DejaVuSans-61\" d=\"M 2194 1759 \n",
       "Q 1497 1759 1228 1600 \n",
       "Q 959 1441 959 1056 \n",
       "Q 959 750 1161 570 \n",
       "Q 1363 391 1709 391 \n",
       "Q 2188 391 2477 730 \n",
       "Q 2766 1069 2766 1631 \n",
       "L 2766 1759 \n",
       "L 2194 1759 \n",
       "z\n",
       "M 3341 1997 \n",
       "L 3341 0 \n",
       "L 2766 0 \n",
       "L 2766 531 \n",
       "Q 2569 213 2275 61 \n",
       "Q 1981 -91 1556 -91 \n",
       "Q 1019 -91 701 211 \n",
       "Q 384 513 384 1019 \n",
       "Q 384 1609 779 1909 \n",
       "Q 1175 2209 1959 2209 \n",
       "L 2766 2209 \n",
       "L 2766 2266 \n",
       "Q 2766 2663 2505 2880 \n",
       "Q 2244 3097 1772 3097 \n",
       "Q 1472 3097 1187 3025 \n",
       "Q 903 2953 641 2809 \n",
       "L 641 3341 \n",
       "Q 956 3463 1253 3523 \n",
       "Q 1550 3584 1831 3584 \n",
       "Q 2591 3584 2966 3190 \n",
       "Q 3341 2797 3341 1997 \n",
       "z\n",
       "\" transform=\"scale(0.015625)\"/>\n",
       "      <path id=\"DejaVuSans-74\" d=\"M 1172 4494 \n",
       "L 1172 3500 \n",
       "L 2356 3500 \n",
       "L 2356 3053 \n",
       "L 1172 3053 \n",
       "L 1172 1153 \n",
       "Q 1172 725 1289 603 \n",
       "Q 1406 481 1766 481 \n",
       "L 2356 481 \n",
       "L 2356 0 \n",
       "L 1766 0 \n",
       "Q 1100 0 847 248 \n",
       "Q 594 497 594 1153 \n",
       "L 594 3053 \n",
       "L 172 3053 \n",
       "L 172 3500 \n",
       "L 594 3500 \n",
       "L 594 4494 \n",
       "L 1172 4494 \n",
       "z\n",
       "\" transform=\"scale(0.015625)\"/>\n",
       "      <path id=\"DejaVuSans-73\" d=\"M 2834 3397 \n",
       "L 2834 2853 \n",
       "Q 2591 2978 2328 3040 \n",
       "Q 2066 3103 1784 3103 \n",
       "Q 1356 3103 1142 2972 \n",
       "Q 928 2841 928 2578 \n",
       "Q 928 2378 1081 2264 \n",
       "Q 1234 2150 1697 2047 \n",
       "L 1894 2003 \n",
       "Q 2506 1872 2764 1633 \n",
       "Q 3022 1394 3022 966 \n",
       "Q 3022 478 2636 193 \n",
       "Q 2250 -91 1575 -91 \n",
       "Q 1294 -91 989 -36 \n",
       "Q 684 19 347 128 \n",
       "L 347 722 \n",
       "Q 666 556 975 473 \n",
       "Q 1284 391 1588 391 \n",
       "Q 1994 391 2212 530 \n",
       "Q 2431 669 2431 922 \n",
       "Q 2431 1156 2273 1281 \n",
       "Q 2116 1406 1581 1522 \n",
       "L 1381 1569 \n",
       "Q 847 1681 609 1914 \n",
       "Q 372 2147 372 2553 \n",
       "Q 372 3047 722 3315 \n",
       "Q 1072 3584 1716 3584 \n",
       "Q 2034 3584 2315 3537 \n",
       "Q 2597 3491 2834 3397 \n",
       "z\n",
       "\" transform=\"scale(0.015625)\"/>\n",
       "      <path id=\"DejaVuSans-65\" d=\"M 3597 1894 \n",
       "L 3597 1613 \n",
       "L 953 1613 \n",
       "Q 991 1019 1311 708 \n",
       "Q 1631 397 2203 397 \n",
       "Q 2534 397 2845 478 \n",
       "Q 3156 559 3463 722 \n",
       "L 3463 178 \n",
       "Q 3153 47 2828 -22 \n",
       "Q 2503 -91 2169 -91 \n",
       "Q 1331 -91 842 396 \n",
       "Q 353 884 353 1716 \n",
       "Q 353 2575 817 3079 \n",
       "Q 1281 3584 2069 3584 \n",
       "Q 2775 3584 3186 3129 \n",
       "Q 3597 2675 3597 1894 \n",
       "z\n",
       "M 3022 2063 \n",
       "Q 3016 2534 2758 2815 \n",
       "Q 2500 3097 2075 3097 \n",
       "Q 1594 3097 1305 2825 \n",
       "Q 1016 2553 972 2059 \n",
       "L 3022 2063 \n",
       "z\n",
       "\" transform=\"scale(0.015625)\"/>\n",
       "      <path id=\"DejaVuSans-20\" transform=\"scale(0.015625)\"/>\n",
       "      <path id=\"DejaVuSans-6d\" d=\"M 3328 2828 \n",
       "Q 3544 3216 3844 3400 \n",
       "Q 4144 3584 4550 3584 \n",
       "Q 5097 3584 5394 3201 \n",
       "Q 5691 2819 5691 2113 \n",
       "L 5691 0 \n",
       "L 5113 0 \n",
       "L 5113 2094 \n",
       "Q 5113 2597 4934 2840 \n",
       "Q 4756 3084 4391 3084 \n",
       "Q 3944 3084 3684 2787 \n",
       "Q 3425 2491 3425 1978 \n",
       "L 3425 0 \n",
       "L 2847 0 \n",
       "L 2847 2094 \n",
       "Q 2847 2600 2669 2842 \n",
       "Q 2491 3084 2119 3084 \n",
       "Q 1678 3084 1418 2786 \n",
       "Q 1159 2488 1159 1978 \n",
       "L 1159 0 \n",
       "L 581 0 \n",
       "L 581 3500 \n",
       "L 1159 3500 \n",
       "L 1159 2956 \n",
       "Q 1356 3278 1631 3431 \n",
       "Q 1906 3584 2284 3584 \n",
       "Q 2666 3584 2933 3390 \n",
       "Q 3200 3197 3328 2828 \n",
       "z\n",
       "\" transform=\"scale(0.015625)\"/>\n",
       "      <path id=\"DejaVuSans-70\" d=\"M 1159 525 \n",
       "L 1159 -1331 \n",
       "L 581 -1331 \n",
       "L 581 3500 \n",
       "L 1159 3500 \n",
       "L 1159 2969 \n",
       "Q 1341 3281 1617 3432 \n",
       "Q 1894 3584 2278 3584 \n",
       "Q 2916 3584 3314 3078 \n",
       "Q 3713 2572 3713 1747 \n",
       "Q 3713 922 3314 415 \n",
       "Q 2916 -91 2278 -91 \n",
       "Q 1894 -91 1617 61 \n",
       "Q 1341 213 1159 525 \n",
       "z\n",
       "M 3116 1747 \n",
       "Q 3116 2381 2855 2742 \n",
       "Q 2594 3103 2138 3103 \n",
       "Q 1681 3103 1420 2742 \n",
       "Q 1159 2381 1159 1747 \n",
       "Q 1159 1113 1420 752 \n",
       "Q 1681 391 2138 391 \n",
       "Q 2594 391 2855 752 \n",
       "Q 3116 1113 3116 1747 \n",
       "z\n",
       "\" transform=\"scale(0.015625)\"/>\n",
       "      <path id=\"DejaVuSans-6c\" d=\"M 603 4863 \n",
       "L 1178 4863 \n",
       "L 1178 0 \n",
       "L 603 0 \n",
       "L 603 4863 \n",
       "z\n",
       "\" transform=\"scale(0.015625)\"/>\n",
       "     </defs>\n",
       "     <use xlink:href=\"#DejaVuSans-44\"/>\n",
       "     <use xlink:href=\"#DejaVuSans-61\" x=\"77.001953\"/>\n",
       "     <use xlink:href=\"#DejaVuSans-74\" x=\"138.28125\"/>\n",
       "     <use xlink:href=\"#DejaVuSans-61\" x=\"177.490234\"/>\n",
       "     <use xlink:href=\"#DejaVuSans-73\" x=\"238.769531\"/>\n",
       "     <use xlink:href=\"#DejaVuSans-65\" x=\"290.869141\"/>\n",
       "     <use xlink:href=\"#DejaVuSans-74\" x=\"352.392578\"/>\n",
       "     <use xlink:href=\"#DejaVuSans-20\" x=\"391.601562\"/>\n",
       "     <use xlink:href=\"#DejaVuSans-73\" x=\"423.388672\"/>\n",
       "     <use xlink:href=\"#DejaVuSans-61\" x=\"475.488281\"/>\n",
       "     <use xlink:href=\"#DejaVuSans-6d\" x=\"536.767578\"/>\n",
       "     <use xlink:href=\"#DejaVuSans-70\" x=\"634.179688\"/>\n",
       "     <use xlink:href=\"#DejaVuSans-6c\" x=\"697.65625\"/>\n",
       "     <use xlink:href=\"#DejaVuSans-65\" x=\"725.439453\"/>\n",
       "     <use xlink:href=\"#DejaVuSans-73\" x=\"786.962891\"/>\n",
       "    </g>\n",
       "   </g>\n",
       "   <g id=\"legend_1\">\n",
       "    <g id=\"patch_7\">\n",
       "     <path d=\"M 200.5125 147.21625 \n",
       "L 268.360937 147.21625 \n",
       "Q 270.360937 147.21625 270.360937 145.21625 \n",
       "L 270.360937 116.86 \n",
       "Q 270.360937 114.86 268.360937 114.86 \n",
       "L 200.5125 114.86 \n",
       "Q 198.5125 114.86 198.5125 116.86 \n",
       "L 198.5125 145.21625 \n",
       "Q 198.5125 147.21625 200.5125 147.21625 \n",
       "z\n",
       "\" style=\"fill: #ffffff; opacity: 0.8; stroke: #cccccc; stroke-linejoin: miter\"/>\n",
       "    </g>\n",
       "    <g id=\"PathCollection_3\">\n",
       "     <g>\n",
       "      <use xlink:href=\"#m3339e39897\" x=\"212.5125\" y=\"123.833437\" style=\"fill: #1f77b4; stroke: #333333\"/>\n",
       "     </g>\n",
       "    </g>\n",
       "    <g id=\"text_19\">\n",
       "     <!-- Class 0 -->\n",
       "     <g transform=\"translate(230.5125 126.458437)scale(0.1 -0.1)\">\n",
       "      <defs>\n",
       "       <path id=\"DejaVuSans-43\" d=\"M 4122 4306 \n",
       "L 4122 3641 \n",
       "Q 3803 3938 3442 4084 \n",
       "Q 3081 4231 2675 4231 \n",
       "Q 1875 4231 1450 3742 \n",
       "Q 1025 3253 1025 2328 \n",
       "Q 1025 1406 1450 917 \n",
       "Q 1875 428 2675 428 \n",
       "Q 3081 428 3442 575 \n",
       "Q 3803 722 4122 1019 \n",
       "L 4122 359 \n",
       "Q 3791 134 3420 21 \n",
       "Q 3050 -91 2638 -91 \n",
       "Q 1578 -91 968 557 \n",
       "Q 359 1206 359 2328 \n",
       "Q 359 3453 968 4101 \n",
       "Q 1578 4750 2638 4750 \n",
       "Q 3056 4750 3426 4639 \n",
       "Q 3797 4528 4122 4306 \n",
       "z\n",
       "\" transform=\"scale(0.015625)\"/>\n",
       "      </defs>\n",
       "      <use xlink:href=\"#DejaVuSans-43\"/>\n",
       "      <use xlink:href=\"#DejaVuSans-6c\" x=\"69.824219\"/>\n",
       "      <use xlink:href=\"#DejaVuSans-61\" x=\"97.607422\"/>\n",
       "      <use xlink:href=\"#DejaVuSans-73\" x=\"158.886719\"/>\n",
       "      <use xlink:href=\"#DejaVuSans-73\" x=\"210.986328\"/>\n",
       "      <use xlink:href=\"#DejaVuSans-20\" x=\"263.085938\"/>\n",
       "      <use xlink:href=\"#DejaVuSans-30\" x=\"294.873047\"/>\n",
       "     </g>\n",
       "    </g>\n",
       "    <g id=\"PathCollection_4\">\n",
       "     <g>\n",
       "      <use xlink:href=\"#me77defa9ba\" x=\"212.5125\" y=\"138.511562\" style=\"fill: #ff7f0e; stroke: #333333\"/>\n",
       "     </g>\n",
       "    </g>\n",
       "    <g id=\"text_20\">\n",
       "     <!-- Class 1 -->\n",
       "     <g transform=\"translate(230.5125 141.136562)scale(0.1 -0.1)\">\n",
       "      <use xlink:href=\"#DejaVuSans-43\"/>\n",
       "      <use xlink:href=\"#DejaVuSans-6c\" x=\"69.824219\"/>\n",
       "      <use xlink:href=\"#DejaVuSans-61\" x=\"97.607422\"/>\n",
       "      <use xlink:href=\"#DejaVuSans-73\" x=\"158.886719\"/>\n",
       "      <use xlink:href=\"#DejaVuSans-73\" x=\"210.986328\"/>\n",
       "      <use xlink:href=\"#DejaVuSans-20\" x=\"263.085938\"/>\n",
       "      <use xlink:href=\"#DejaVuSans-31\" x=\"294.873047\"/>\n",
       "     </g>\n",
       "    </g>\n",
       "   </g>\n",
       "  </g>\n",
       " </g>\n",
       " <defs>\n",
       "  <clipPath id=\"p52e47f860c\">\n",
       "   <rect x=\"52.160938\" y=\"22.318125\" width=\"223.2\" height=\"217.44\"/>\n",
       "  </clipPath>\n",
       " </defs>\n",
       "</svg>\n"
      ],
      "text/plain": [
       "<Figure size 288x288 with 1 Axes>"
      ]
     },
     "metadata": {
      "needs_background": "light"
     },
     "output_type": "display_data"
    }
   ],
   "source": [
    "visualize_samples(dataset.data, dataset.label)\n",
    "plt.show()"
   ]
  },
  {
   "cell_type": "markdown",
   "id": "c4ff362d",
   "metadata": {
    "id": "c4ff362d",
    "papermill": {
     "duration": 0.209873,
     "end_time": "2021-12-04T15:54:04.554262",
     "exception": false,
     "start_time": "2021-12-04T15:54:04.344389",
     "status": "completed"
    },
    "tags": []
   },
   "source": [
    "#### The data loader class\n",
    "\n",
    "The class `torch.utils.data.DataLoader` represents a Python iterable over a dataset with support for automatic batching, multi-process data loading and many more features.\n",
    "The data loader communicates with the dataset using the function `__getitem__`, and stacks its outputs as tensors over the first dimension to form a batch.\n",
    "In contrast to the dataset class, we usually don't have to define our own data loader class, but can just create an object of it with the dataset as input.\n",
    "Additionally, we can configure our data loader with the following input arguments (only a selection, see full list [here](https://pytorch.org/docs/stable/data.html#torch.utils.data.DataLoader)):\n",
    "\n",
    "* `batch_size`: Number of samples to stack per batch\n",
    "* `shuffle`: If True, the data is returned in a random order.\n",
    "This is important during training for introducing stochasticity.\n",
    "* `num_workers`: Number of subprocesses to use for data loading.\n",
    "The default, 0, means that the data will be loaded in the main process which can slow down training for datasets where loading a data point takes a considerable amount of time (e.g. large images).\n",
    "More workers are recommended for those, but can cause issues on Windows computers.\n",
    "For tiny datasets as ours, 0 workers are usually faster.\n",
    "* `pin_memory`: If True, the data loader will copy Tensors into CUDA pinned memory before returning them.\n",
    "This can save some time for large data points on GPUs.\n",
    "Usually a good practice to use for a training set, but not necessarily for validation and test to save memory on the GPU.\n",
    "* `drop_last`: If True, the last batch is dropped in case it is smaller than the specified batch size.\n",
    "This occurs when the dataset size is not a multiple of the batch size.\n",
    "Only potentially helpful during training to keep a consistent batch size.\n",
    "\n",
    "Let's create a simple data loader below:"
   ]
  },
  {
   "cell_type": "code",
   "execution_count": 43,
   "id": "93c89ea5",
   "metadata": {
    "execution": {
     "iopub.execute_input": "2021-12-04T15:54:04.976648Z",
     "iopub.status.busy": "2021-12-04T15:54:04.976186Z",
     "iopub.status.idle": "2021-12-04T15:54:04.977746Z",
     "shell.execute_reply": "2021-12-04T15:54:04.978119Z"
    },
    "id": "93c89ea5",
    "papermill": {
     "duration": 0.215753,
     "end_time": "2021-12-04T15:54:04.978250",
     "exception": false,
     "start_time": "2021-12-04T15:54:04.762497",
     "status": "completed"
    },
    "tags": []
   },
   "outputs": [],
   "source": [
    "data_loader = data.DataLoader(dataset, batch_size=8, shuffle=True)"
   ]
  },
  {
   "cell_type": "code",
   "execution_count": 44,
   "id": "b7a50dd3",
   "metadata": {
    "execution": {
     "iopub.execute_input": "2021-12-04T15:54:05.404638Z",
     "iopub.status.busy": "2021-12-04T15:54:05.404165Z",
     "iopub.status.idle": "2021-12-04T15:54:05.408587Z",
     "shell.execute_reply": "2021-12-04T15:54:05.408963Z"
    },
    "id": "b7a50dd3",
    "outputId": "0053fbf7-918f-43db-919b-ae0e4f35d35b",
    "papermill": {
     "duration": 0.219528,
     "end_time": "2021-12-04T15:54:05.409092",
     "exception": false,
     "start_time": "2021-12-04T15:54:05.189564",
     "status": "completed"
    },
    "tags": []
   },
   "outputs": [
    {
     "name": "stdout",
     "output_type": "stream",
     "text": [
      "Data inputs torch.Size([8, 2]) \n",
      " tensor([[-0.0890,  0.8608],\n",
      "        [ 1.0905, -0.0128],\n",
      "        [ 0.7967,  0.2268],\n",
      "        [-0.0688,  0.0371],\n",
      "        [ 0.8732, -0.2240],\n",
      "        [-0.0559, -0.0282],\n",
      "        [ 0.9277,  0.0978],\n",
      "        [ 1.0150,  0.9689]])\n",
      "Data labels torch.Size([8]) \n",
      " tensor([1, 1, 1, 0, 1, 0, 1, 0])\n"
     ]
    }
   ],
   "source": [
    "# next(iter(...)) catches the first batch of the data loader\n",
    "# If shuffle is True, this will return a different batch every time we run this cell\n",
    "# For iterating over the whole dataset, we can simple use \"for batch in data_loader: ...\"\n",
    "data_inputs, data_labels = next(iter(data_loader))\n",
    "\n",
    "# The shape of the outputs are [batch_size, d_1,...,d_N] where d_1,...,d_N are the\n",
    "# dimensions of the data point returned from the dataset class\n",
    "print(\"Data inputs\", data_inputs.shape, \"\\n\", data_inputs)\n",
    "print(\"Data labels\", data_labels.shape, \"\\n\", data_labels)"
   ]
  },
  {
   "cell_type": "markdown",
   "id": "40090168",
   "metadata": {
    "id": "40090168",
    "papermill": {
     "duration": 0.213288,
     "end_time": "2021-12-04T15:54:05.833809",
     "exception": false,
     "start_time": "2021-12-04T15:54:05.620521",
     "status": "completed"
    },
    "tags": []
   },
   "source": [
    "### Optimization\n",
    "\n",
    "After defining the model and the dataset, it is time to prepare the optimization of the model.\n",
    "During training, we will perform the following steps:\n",
    "\n",
    "1. Get a batch from the data loader\n",
    "2. Obtain the predictions from the model for the batch\n",
    "3. Calculate the loss based on the difference between predictions and labels\n",
    "4. Backpropagation: calculate the gradients for every parameter with respect to the loss\n",
    "5. Update the parameters of the model in the direction of the gradients\n",
    "\n",
    "We have seen how we can do step 1, 2 and 4 in PyTorch. Now, we will look at step 3 and 5."
   ]
  },
  {
   "cell_type": "markdown",
   "id": "202634de",
   "metadata": {
    "id": "202634de",
    "papermill": {
     "duration": 0.216115,
     "end_time": "2021-12-04T15:54:06.271200",
     "exception": false,
     "start_time": "2021-12-04T15:54:06.055085",
     "status": "completed"
    },
    "tags": []
   },
   "source": [
    "#### Loss modules\n",
    "\n",
    "We can calculate the loss for a batch by simply performing a few tensor operations as those are automatically added to the computation graph.\n",
    "For instance, for binary classification, we can use Binary Cross Entropy (BCE) which is defined as follows:\n",
    "\n",
    "$$\\mathcal{L}_{BCE} = -\\sum_i \\left[ y_i \\log x_i + (1 - y_i) \\log (1 - x_i) \\right]$$\n",
    "\n",
    "where $y$ are our labels, and $x$ our predictions, both in the range of $[0,1]$.\n",
    "However, PyTorch already provides a list of predefined loss functions which we can use (see [here](https://pytorch.org/docs/stable/nn.html#loss-functions) for a full list).\n",
    "For instance, for BCE, PyTorch has two modules: `nn.BCELoss()`, `nn.BCEWithLogitsLoss()`.\n",
    "While `nn.BCELoss` expects the inputs $x$ to be in the range $[0,1]$, i.e. the output of a sigmoid, `nn.BCEWithLogitsLoss` combines a sigmoid layer and the BCE loss in a single class.\n",
    "This version is numerically more stable than using a plain Sigmoid followed by a BCE loss because of the logarithms applied in the loss function.\n",
    "Hence, it is adviced to use loss functions applied on \"logits\" where possible (remember to not apply a sigmoid on the output of the model in this case!).\n",
    "For our model defined above, we therefore use the module `nn.BCEWithLogitsLoss`."
   ]
  },
  {
   "cell_type": "code",
   "execution_count": 45,
   "id": "5427b133",
   "metadata": {
    "execution": {
     "iopub.execute_input": "2021-12-04T15:54:06.708663Z",
     "iopub.status.busy": "2021-12-04T15:54:06.708193Z",
     "iopub.status.idle": "2021-12-04T15:54:06.710106Z",
     "shell.execute_reply": "2021-12-04T15:54:06.709723Z"
    },
    "id": "5427b133",
    "papermill": {
     "duration": 0.221156,
     "end_time": "2021-12-04T15:54:06.710216",
     "exception": false,
     "start_time": "2021-12-04T15:54:06.489060",
     "status": "completed"
    },
    "tags": []
   },
   "outputs": [],
   "source": [
    "loss_module = nn.BCEWithLogitsLoss()"
   ]
  },
  {
   "cell_type": "markdown",
   "id": "af76ed16",
   "metadata": {
    "id": "af76ed16",
    "papermill": {
     "duration": 0.21844,
     "end_time": "2021-12-04T15:54:07.146700",
     "exception": false,
     "start_time": "2021-12-04T15:54:06.928260",
     "status": "completed"
    },
    "tags": []
   },
   "source": [
    "#### Stochastic Gradient Descent\n",
    "\n",
    "For updating the parameters, PyTorch provides the package `torch.optim` that has most popular optimizers implemented.\n",
    "We will discuss the specific optimizers and their differences later in the course, but will for now use the simplest of them: `torch.optim.SGD`.\n",
    "Stochastic Gradient Descent updates parameters by multiplying the gradients with a small constant, called learning rate, and subtracting those from the parameters (hence minimizing the loss).\n",
    "Therefore, we slowly move towards the direction of minimizing the loss.\n",
    "A good default value of the learning rate for a small network as ours is 0.1."
   ]
  },
  {
   "cell_type": "code",
   "execution_count": 46,
   "id": "60eae78b",
   "metadata": {
    "execution": {
     "iopub.execute_input": "2021-12-04T15:54:07.623913Z",
     "iopub.status.busy": "2021-12-04T15:54:07.623439Z",
     "iopub.status.idle": "2021-12-04T15:54:07.625388Z",
     "shell.execute_reply": "2021-12-04T15:54:07.625006Z"
    },
    "id": "60eae78b",
    "papermill": {
     "duration": 0.22472,
     "end_time": "2021-12-04T15:54:07.625501",
     "exception": false,
     "start_time": "2021-12-04T15:54:07.400781",
     "status": "completed"
    },
    "tags": []
   },
   "outputs": [],
   "source": [
    "# Input to the optimizer are the parameters of the model: model.parameters()\n",
    "optimizer = torch.optim.SGD(model.parameters(), lr=0.1)"
   ]
  },
  {
   "cell_type": "markdown",
   "id": "cab67e22",
   "metadata": {
    "id": "cab67e22",
    "papermill": {
     "duration": 0.214969,
     "end_time": "2021-12-04T15:54:08.054953",
     "exception": false,
     "start_time": "2021-12-04T15:54:07.839984",
     "status": "completed"
    },
    "tags": []
   },
   "source": [
    "The optimizer provides two useful functions: `optimizer.step()`, and `optimizer.zero_grad()`.\n",
    "The step function updates the parameters based on the gradients as explained above.\n",
    "The function `optimizer.zero_grad()` sets the gradients of all parameters to zero.\n",
    "While this function seems less relevant at first, it is a crucial pre-step before performing backpropagation.\n",
    "If we would call the `backward` function on the loss while the parameter gradients are non-zero from the previous batch, the new gradients would actually be added to the previous ones instead of overwriting them.\n",
    "This is done because a parameter might occur multiple times in a computation graph, and we need to sum the gradients in this case instead of replacing them.\n",
    "Hence, remember to call `optimizer.zero_grad()` before calculating the gradients of a batch."
   ]
  },
  {
   "cell_type": "markdown",
   "id": "815da7f3",
   "metadata": {
    "id": "815da7f3",
    "papermill": {
     "duration": 0.214692,
     "end_time": "2021-12-04T15:54:08.483699",
     "exception": false,
     "start_time": "2021-12-04T15:54:08.269007",
     "status": "completed"
    },
    "tags": []
   },
   "source": [
    "### Training\n",
    "\n",
    "Finally, we are ready to train our model.\n",
    "As a first step, we create a slightly larger dataset and specify a data loader with a larger batch size."
   ]
  },
  {
   "cell_type": "code",
   "execution_count": 47,
   "id": "be9ac2d0",
   "metadata": {
    "execution": {
     "iopub.execute_input": "2021-12-04T15:54:08.929206Z",
     "iopub.status.busy": "2021-12-04T15:54:08.928716Z",
     "iopub.status.idle": "2021-12-04T15:54:08.931250Z",
     "shell.execute_reply": "2021-12-04T15:54:08.930773Z"
    },
    "id": "be9ac2d0",
    "papermill": {
     "duration": 0.229194,
     "end_time": "2021-12-04T15:54:08.931361",
     "exception": false,
     "start_time": "2021-12-04T15:54:08.702167",
     "status": "completed"
    },
    "tags": []
   },
   "outputs": [],
   "source": [
    "train_dataset = XORDataset(size=1000)\n",
    "train_data_loader = data.DataLoader(train_dataset, batch_size=128, shuffle=True)"
   ]
  },
  {
   "cell_type": "markdown",
   "id": "0271a836",
   "metadata": {
    "id": "0271a836",
    "papermill": {
     "duration": 0.214622,
     "end_time": "2021-12-04T15:54:09.363363",
     "exception": false,
     "start_time": "2021-12-04T15:54:09.148741",
     "status": "completed"
    },
    "tags": []
   },
   "source": [
    "Now, we can write a small training function.\n",
    "Remember our five steps: load a batch, obtain the predictions, calculate the loss, backpropagate, and update.\n",
    "Additionally, we have to push all data and model parameters to the device of our choice (GPU if available).\n",
    "For the tiny neural network we have, communicating the data to the GPU actually takes much more time than we could save from running the operation on GPU.\n",
    "For large networks, the communication time is significantly smaller than the actual runtime making a GPU crucial in these cases.\n",
    "Still, to practice, we will push the data to GPU here."
   ]
  },
  {
   "cell_type": "code",
   "execution_count": 48,
   "id": "c7b13460",
   "metadata": {
    "execution": {
     "iopub.execute_input": "2021-12-04T15:54:09.806935Z",
     "iopub.status.busy": "2021-12-04T15:54:09.806433Z",
     "iopub.status.idle": "2021-12-04T15:54:09.810018Z",
     "shell.execute_reply": "2021-12-04T15:54:09.809609Z"
    },
    "id": "c7b13460",
    "outputId": "fb39d275-6e06-4de3-bf83-ce2487d93069",
    "papermill": {
     "duration": 0.222561,
     "end_time": "2021-12-04T15:54:09.810128",
     "exception": false,
     "start_time": "2021-12-04T15:54:09.587567",
     "status": "completed"
    },
    "tags": []
   },
   "outputs": [
    {
     "data": {
      "text/plain": [
       "SimpleClassifier(\n",
       "  (linear1): Linear(in_features=2, out_features=4, bias=True)\n",
       "  (act_fn): Tanh()\n",
       "  (linear2): Linear(in_features=4, out_features=1, bias=True)\n",
       ")"
      ]
     },
     "execution_count": 48,
     "metadata": {},
     "output_type": "execute_result"
    }
   ],
   "source": [
    "# Push model to device. Has to be only done once\n",
    "model.to(device)"
   ]
  },
  {
   "cell_type": "markdown",
   "id": "cadf5955",
   "metadata": {
    "id": "cadf5955",
    "lines_to_next_cell": 2,
    "papermill": {
     "duration": 0.214526,
     "end_time": "2021-12-04T15:54:10.247009",
     "exception": false,
     "start_time": "2021-12-04T15:54:10.032483",
     "status": "completed"
    },
    "tags": []
   },
   "source": [
    "In addition, we set our model to training mode.\n",
    "This is done by calling `model.train()`.\n",
    "There exist certain modules that need to perform a different forward\n",
    "step during training than during testing (e.g. BatchNorm and Dropout),\n",
    "and we can switch between them using `model.train()` and `model.eval()`."
   ]
  },
  {
   "cell_type": "code",
   "execution_count": 49,
   "id": "b2e9a50f",
   "metadata": {
    "execution": {
     "iopub.execute_input": "2021-12-04T15:54:10.679237Z",
     "iopub.status.busy": "2021-12-04T15:54:10.678761Z",
     "iopub.status.idle": "2021-12-04T15:54:10.680363Z",
     "shell.execute_reply": "2021-12-04T15:54:10.680739Z"
    },
    "id": "b2e9a50f",
    "papermill": {
     "duration": 0.219695,
     "end_time": "2021-12-04T15:54:10.680870",
     "exception": false,
     "start_time": "2021-12-04T15:54:10.461175",
     "status": "completed"
    },
    "tags": []
   },
   "outputs": [],
   "source": [
    "def train_model(model, optimizer, data_loader, loss_module, num_epochs=100):\n",
    "    # Set model to train mode\n",
    "    model.train()\n",
    "\n",
    "    # Training loop\n",
    "    for epoch in tqdm(range(num_epochs)):\n",
    "        for data_inputs, data_labels in data_loader:\n",
    "\n",
    "            # Step 1: Move input data to device (only strictly necessary if we use GPU)\n",
    "            data_inputs = data_inputs.to(device)\n",
    "            data_labels = data_labels.to(device)\n",
    "\n",
    "            # Step 2: Run the model on the input data\n",
    "            preds = model(data_inputs)\n",
    "            preds = preds.squeeze(dim=1)  # Output is [Batch size, 1], but we want [Batch size]\n",
    "\n",
    "            # Step 3: Calculate the loss\n",
    "            loss = loss_module(preds, data_labels.float())\n",
    "\n",
    "            # Step 4: Perform backpropagation\n",
    "            # Before calculating the gradients, we need to ensure that they are all zero.\n",
    "            # The gradients would not be overwritten, but actually added to the existing ones.\n",
    "            optimizer.zero_grad()\n",
    "            # Perform backpropagation\n",
    "            loss.backward()\n",
    "\n",
    "            # Step 5: Update the parameters\n",
    "            optimizer.step()"
   ]
  },
  {
   "cell_type": "code",
   "execution_count": 50,
   "id": "6857c620",
   "metadata": {
    "execution": {
     "iopub.execute_input": "2021-12-04T15:54:11.110005Z",
     "iopub.status.busy": "2021-12-04T15:54:11.109541Z",
     "iopub.status.idle": "2021-12-04T15:54:12.322199Z",
     "shell.execute_reply": "2021-12-04T15:54:12.322585Z"
    },
    "id": "6857c620",
    "outputId": "88de4d1c-aea4-4864-d795-edebe98e697c",
    "papermill": {
     "duration": 1.429741,
     "end_time": "2021-12-04T15:54:12.322764",
     "exception": false,
     "start_time": "2021-12-04T15:54:10.893023",
     "status": "completed"
    },
    "tags": []
   },
   "outputs": [
    {
     "data": {
      "application/vnd.jupyter.widget-view+json": {
       "model_id": "fed88447d103452087c54e1c517d33d0",
       "version_major": 2,
       "version_minor": 0
      },
      "text/plain": [
       "  0%|          | 0/100 [00:00<?, ?it/s]"
      ]
     },
     "metadata": {},
     "output_type": "display_data"
    }
   ],
   "source": [
    "train_model(model, optimizer, train_data_loader, loss_module)"
   ]
  },
  {
   "cell_type": "markdown",
   "id": "27b0e8fd",
   "metadata": {
    "id": "27b0e8fd",
    "papermill": {
     "duration": 0.215255,
     "end_time": "2021-12-04T15:54:12.752884",
     "exception": false,
     "start_time": "2021-12-04T15:54:12.537629",
     "status": "completed"
    },
    "tags": []
   },
   "source": [
    "#### Saving a model\n",
    "\n",
    "After finish training a model, we save the model to disk so that we can load the same weights at a later time.\n",
    "For this, we extract the so-called `state_dict` from the model which contains all learnable parameters.\n",
    "For our simple model, the state dict contains the following entries:"
   ]
  },
  {
   "cell_type": "code",
   "execution_count": 51,
   "id": "0caf1849",
   "metadata": {
    "execution": {
     "iopub.execute_input": "2021-12-04T15:54:13.185095Z",
     "iopub.status.busy": "2021-12-04T15:54:13.184626Z",
     "iopub.status.idle": "2021-12-04T15:54:13.190584Z",
     "shell.execute_reply": "2021-12-04T15:54:13.190117Z"
    },
    "id": "0caf1849",
    "outputId": "23f2d517-b3ea-47a5-9691-42fc6138ef24",
    "papermill": {
     "duration": 0.223351,
     "end_time": "2021-12-04T15:54:13.190711",
     "exception": false,
     "start_time": "2021-12-04T15:54:12.967360",
     "status": "completed"
    },
    "tags": []
   },
   "outputs": [
    {
     "name": "stdout",
     "output_type": "stream",
     "text": [
      "OrderedDict([('linear1.weight', tensor([[-2.0209, -2.3102],\n",
      "        [ 1.3066, -1.8463],\n",
      "        [-1.5089, -0.6549],\n",
      "        [-0.7822, -0.9383]], device='cuda:0')), ('linear1.bias', tensor([ 0.7382, -0.9136,  1.4607, -0.1770], device='cuda:0')), ('linear2.weight', tensor([[-2.5543,  1.9722,  2.1591, -0.4551]], device='cuda:0')), ('linear2.bias', tensor([-1.0225], device='cuda:0'))])\n"
     ]
    }
   ],
   "source": [
    "state_dict = model.state_dict()\n",
    "print(state_dict)"
   ]
  },
  {
   "cell_type": "markdown",
   "id": "f31a8545",
   "metadata": {
    "id": "f31a8545",
    "papermill": {
     "duration": 0.215207,
     "end_time": "2021-12-04T15:54:13.620489",
     "exception": false,
     "start_time": "2021-12-04T15:54:13.405282",
     "status": "completed"
    },
    "tags": []
   },
   "source": [
    "To save the state dictionary, we can use `torch.save`:"
   ]
  },
  {
   "cell_type": "code",
   "execution_count": 52,
   "id": "a599c505",
   "metadata": {
    "execution": {
     "iopub.execute_input": "2021-12-04T15:54:14.053263Z",
     "iopub.status.busy": "2021-12-04T15:54:14.052796Z",
     "iopub.status.idle": "2021-12-04T15:54:14.055294Z",
     "shell.execute_reply": "2021-12-04T15:54:14.054843Z"
    },
    "id": "a599c505",
    "papermill": {
     "duration": 0.222184,
     "end_time": "2021-12-04T15:54:14.055407",
     "exception": false,
     "start_time": "2021-12-04T15:54:13.833223",
     "status": "completed"
    },
    "tags": []
   },
   "outputs": [],
   "source": [
    "# torch.save(object, filename). For the filename, any extension can be used\n",
    "torch.save(state_dict, \"our_model.tar\")"
   ]
  },
  {
   "cell_type": "markdown",
   "id": "8b49cd0d",
   "metadata": {
    "id": "8b49cd0d",
    "papermill": {
     "duration": 0.212443,
     "end_time": "2021-12-04T15:54:14.482021",
     "exception": false,
     "start_time": "2021-12-04T15:54:14.269578",
     "status": "completed"
    },
    "tags": []
   },
   "source": [
    "To load a model from a state dict, we use the function `torch.load` to\n",
    "load the state dict from the disk, and the module function\n",
    "`load_state_dict` to overwrite our parameters with the new values:"
   ]
  },
  {
   "cell_type": "code",
   "execution_count": 53,
   "id": "c46852a3",
   "metadata": {
    "execution": {
     "iopub.execute_input": "2021-12-04T15:54:14.913680Z",
     "iopub.status.busy": "2021-12-04T15:54:14.913209Z",
     "iopub.status.idle": "2021-12-04T15:54:14.921781Z",
     "shell.execute_reply": "2021-12-04T15:54:14.921382Z"
    },
    "id": "c46852a3",
    "outputId": "4efdf18a-691e-4596-8472-b5d8a4d6625b",
    "papermill": {
     "duration": 0.226809,
     "end_time": "2021-12-04T15:54:14.921890",
     "exception": false,
     "start_time": "2021-12-04T15:54:14.695081",
     "status": "completed"
    },
    "tags": []
   },
   "outputs": [
    {
     "name": "stdout",
     "output_type": "stream",
     "text": [
      "Original model\n",
      " OrderedDict([('linear1.weight', tensor([[-2.0209, -2.3102],\n",
      "        [ 1.3066, -1.8463],\n",
      "        [-1.5089, -0.6549],\n",
      "        [-0.7822, -0.9383]], device='cuda:0')), ('linear1.bias', tensor([ 0.7382, -0.9136,  1.4607, -0.1770], device='cuda:0')), ('linear2.weight', tensor([[-2.5543,  1.9722,  2.1591, -0.4551]], device='cuda:0')), ('linear2.bias', tensor([-1.0225], device='cuda:0'))])\n",
      "\n",
      "Loaded model\n",
      " OrderedDict([('linear1.weight', tensor([[-2.0209, -2.3102],\n",
      "        [ 1.3066, -1.8463],\n",
      "        [-1.5089, -0.6549],\n",
      "        [-0.7822, -0.9383]])), ('linear1.bias', tensor([ 0.7382, -0.9136,  1.4607, -0.1770])), ('linear2.weight', tensor([[-2.5543,  1.9722,  2.1591, -0.4551]])), ('linear2.bias', tensor([-1.0225]))])\n"
     ]
    }
   ],
   "source": [
    "# Load state dict from the disk (make sure it is the same name as above)\n",
    "state_dict = torch.load(\"our_model.tar\")\n",
    "\n",
    "# Create a new model and load the state\n",
    "new_model = SimpleClassifier(num_inputs=2, num_hidden=4, num_outputs=1)\n",
    "new_model.load_state_dict(state_dict)\n",
    "\n",
    "# Verify that the parameters are the same\n",
    "print(\"Original model\\n\", model.state_dict())\n",
    "print(\"\\nLoaded model\\n\", new_model.state_dict())"
   ]
  },
  {
   "cell_type": "markdown",
   "id": "c3b78bcc",
   "metadata": {
    "id": "c3b78bcc",
    "papermill": {
     "duration": 0.214236,
     "end_time": "2021-12-04T15:54:15.352385",
     "exception": false,
     "start_time": "2021-12-04T15:54:15.138149",
     "status": "completed"
    },
    "tags": []
   },
   "source": [
    "A detailed tutorial on saving and loading models in PyTorch can be found\n",
    "[here](https://pytorch.org/tutorials/beginner/saving_loading_models.html)."
   ]
  },
  {
   "cell_type": "markdown",
   "id": "2f92de3a",
   "metadata": {
    "id": "2f92de3a",
    "papermill": {
     "duration": 0.214006,
     "end_time": "2021-12-04T15:54:15.782014",
     "exception": false,
     "start_time": "2021-12-04T15:54:15.568008",
     "status": "completed"
    },
    "tags": []
   },
   "source": [
    "### Evaluation\n",
    "\n",
    "Once we have trained a model, it is time to evaluate it on a held-out test set.\n",
    "As our dataset consist of randomly generated data points, we need to\n",
    "first create a test set with a corresponding data loader."
   ]
  },
  {
   "cell_type": "code",
   "execution_count": 54,
   "id": "fa7f5a42",
   "metadata": {
    "execution": {
     "iopub.execute_input": "2021-12-04T15:54:16.218034Z",
     "iopub.status.busy": "2021-12-04T15:54:16.217505Z",
     "iopub.status.idle": "2021-12-04T15:54:16.220128Z",
     "shell.execute_reply": "2021-12-04T15:54:16.219730Z"
    },
    "id": "fa7f5a42",
    "papermill": {
     "duration": 0.22249,
     "end_time": "2021-12-04T15:54:16.220237",
     "exception": false,
     "start_time": "2021-12-04T15:54:15.997747",
     "status": "completed"
    },
    "tags": []
   },
   "outputs": [],
   "source": [
    "test_dataset = XORDataset(size=500)\n",
    "# drop_last -> Don't drop the last batch although it is smaller than 128\n",
    "test_data_loader = data.DataLoader(test_dataset, batch_size=128, shuffle=False, drop_last=False)"
   ]
  },
  {
   "cell_type": "markdown",
   "id": "9b0c0259",
   "metadata": {
    "id": "9b0c0259",
    "lines_to_next_cell": 2,
    "papermill": {
     "duration": 0.223015,
     "end_time": "2021-12-04T15:54:16.659749",
     "exception": false,
     "start_time": "2021-12-04T15:54:16.436734",
     "status": "completed"
    },
    "tags": []
   },
   "source": [
    "As metric, we will use accuracy which is calculated as follows:\n",
    "\n",
    "$$acc = \\frac{\\#\\text{correct predictions}}{\\#\\text{all predictions}} = \\frac{TP+TN}{TP+TN+FP+FN}$$\n",
    "\n",
    "where TP are the true positives, TN true negatives, FP false positives, and FN the fale negatives.\n",
    "\n",
    "When evaluating the model, we don't need to keep track of the computation graph as we don't intend to calculate the gradients.\n",
    "This reduces the required memory and speed up the model.\n",
    "In PyTorch, we can deactivate the computation graph using `with torch.no_grad(): ...`.\n",
    "Remember to additionally set the model to eval mode."
   ]
  },
  {
   "cell_type": "code",
   "execution_count": 55,
   "id": "81d5e627",
   "metadata": {
    "execution": {
     "iopub.execute_input": "2021-12-04T15:54:17.100737Z",
     "iopub.status.busy": "2021-12-04T15:54:17.100266Z",
     "iopub.status.idle": "2021-12-04T15:54:17.102233Z",
     "shell.execute_reply": "2021-12-04T15:54:17.101833Z"
    },
    "id": "81d5e627",
    "papermill": {
     "duration": 0.228058,
     "end_time": "2021-12-04T15:54:17.102341",
     "exception": false,
     "start_time": "2021-12-04T15:54:16.874283",
     "status": "completed"
    },
    "tags": []
   },
   "outputs": [],
   "source": [
    "def eval_model(model, data_loader):\n",
    "    model.eval()  # Set model to eval mode\n",
    "    true_preds, num_preds = 0.0, 0.0\n",
    "\n",
    "    with torch.no_grad():  # Deactivate gradients for the following code\n",
    "        for data_inputs, data_labels in data_loader:\n",
    "\n",
    "            # Determine prediction of model on dev set\n",
    "            data_inputs, data_labels = data_inputs.to(device), data_labels.to(device)\n",
    "            preds = model(data_inputs)\n",
    "            preds = preds.squeeze(dim=1)\n",
    "            preds = torch.sigmoid(preds)  # Sigmoid to map predictions between 0 and 1\n",
    "            pred_labels = (preds >= 0.5).long()  # Binarize predictions to 0 and 1\n",
    "\n",
    "            # Keep records of predictions for the accuracy metric (true_preds=TP+TN, num_preds=TP+TN+FP+FN)\n",
    "            true_preds += (pred_labels == data_labels).sum()\n",
    "            num_preds += data_labels.shape[0]\n",
    "\n",
    "    acc = true_preds / num_preds\n",
    "    print(f\"Accuracy of the model: {100.0*acc:4.2f}%\")"
   ]
  },
  {
   "cell_type": "code",
   "execution_count": 56,
   "id": "71db7937",
   "metadata": {
    "execution": {
     "iopub.execute_input": "2021-12-04T15:54:17.540450Z",
     "iopub.status.busy": "2021-12-04T15:54:17.539985Z",
     "iopub.status.idle": "2021-12-04T15:54:17.546678Z",
     "shell.execute_reply": "2021-12-04T15:54:17.547057Z"
    },
    "id": "71db7937",
    "outputId": "4cd49cc4-61f0-426c-920a-2d677a9576e7",
    "papermill": {
     "duration": 0.228671,
     "end_time": "2021-12-04T15:54:17.547187",
     "exception": false,
     "start_time": "2021-12-04T15:54:17.318516",
     "status": "completed"
    },
    "tags": []
   },
   "outputs": [
    {
     "name": "stdout",
     "output_type": "stream",
     "text": [
      "Accuracy of the model: 100.00%\n"
     ]
    }
   ],
   "source": [
    "eval_model(model, test_data_loader)"
   ]
  },
  {
   "cell_type": "markdown",
   "id": "0b763086",
   "metadata": {
    "id": "0b763086",
    "papermill": {
     "duration": 0.216167,
     "end_time": "2021-12-04T15:54:17.978220",
     "exception": false,
     "start_time": "2021-12-04T15:54:17.762053",
     "status": "completed"
    },
    "tags": []
   },
   "source": [
    "If we trained our model correctly, we should see a score close to 100% accuracy.\n",
    "However, this is only possible because of our simple task, and\n",
    "unfortunately, we usually don't get such high scores on test sets of\n",
    "more complex tasks."
   ]
  },
  {
   "cell_type": "markdown",
   "id": "5fc4b4e1",
   "metadata": {
    "id": "5fc4b4e1",
    "lines_to_next_cell": 2,
    "papermill": {
     "duration": 0.215766,
     "end_time": "2021-12-04T15:54:18.415334",
     "exception": false,
     "start_time": "2021-12-04T15:54:18.199568",
     "status": "completed"
    },
    "tags": []
   },
   "source": [
    "#### Visualizing classification boundaries\n",
    "\n",
    "To visualize what our model has learned, we can perform a prediction for every data point in a range of $[-0.5, 1.5]$, and visualize the predicted class as in the sample figure at the beginning of this section.\n",
    "This shows where the model has created decision boundaries, and which points would be classified as $0$, and which as $1$.\n",
    "We therefore get a background image out of blue (class 0) and orange (class 1).\n",
    "The spots where the model is uncertain we will see a blurry overlap.\n",
    "The specific code is less relevant compared to the output figure which\n",
    "should hopefully show us a clear separation of classes:"
   ]
  },
  {
   "cell_type": "code",
   "execution_count": 57,
   "id": "9b2cdd8a",
   "metadata": {
    "execution": {
     "iopub.execute_input": "2021-12-04T15:54:18.862084Z",
     "iopub.status.busy": "2021-12-04T15:54:18.861126Z",
     "iopub.status.idle": "2021-12-04T15:54:19.252452Z",
     "shell.execute_reply": "2021-12-04T15:54:19.252841Z"
    },
    "id": "9b2cdd8a",
    "outputId": "c562adc5-24c2-4818-a67a-a14112db86dc",
    "papermill": {
     "duration": 0.618628,
     "end_time": "2021-12-04T15:54:19.253007",
     "exception": false,
     "start_time": "2021-12-04T15:54:18.634379",
     "status": "completed"
    },
    "tags": []
   },
   "outputs": [
    {
     "name": "stderr",
     "output_type": "stream",
     "text": [
      "C:\\Users\\Jordan\\anaconda3\\envs\\DL\\lib\\site-packages\\torch\\functional.py:445: UserWarning: torch.meshgrid: in an upcoming release, it will be required to pass the indexing argument. (Triggered internally at  ..\\aten\\src\\ATen\\native\\TensorShape.cpp:2157.)\n",
      "  return _VF.meshgrid(tensors, **kwargs)  # type: ignore[attr-defined]\n"
     ]
    },
    {
     "data": {
      "application/pdf": "[encoded data removed]",
      "image/svg+xml": [
       "<?xml version=\"1.0\" encoding=\"utf-8\" standalone=\"no\"?>\n",
       "<!DOCTYPE svg PUBLIC \"-//W3C//DTD SVG 1.1//EN\"\n",
       "  \"http://www.w3.org/Graphics/SVG/1.1/DTD/svg11.dtd\">\n",
       "<svg xmlns:xlink=\"http://www.w3.org/1999/xlink\" width=\"291.115pt\" height=\"277.314375pt\" viewBox=\"0 0 291.115 277.314375\" xmlns=\"http://www.w3.org/2000/svg\" version=\"1.1\">\n",
       " <metadata>\n",
       "  <rdf:RDF xmlns:dc=\"http://purl.org/dc/elements/1.1/\" xmlns:cc=\"http://creativecommons.org/ns#\" xmlns:rdf=\"http://www.w3.org/1999/02/22-rdf-syntax-ns#\">\n",
       "   <cc:Work>\n",
       "    <dc:type rdf:resource=\"http://purl.org/dc/dcmitype/StillImage\"/>\n",
       "    <dc:date>2022-02-08T11:35:54.646001</dc:date>\n",
       "    <dc:format>image/svg+xml</dc:format>\n",
       "    <dc:creator>\n",
       "     <cc:Agent>\n",
       "      <dc:title>Matplotlib v3.5.1, https://matplotlib.org/</dc:title>\n",
       "     </cc:Agent>\n",
       "    </dc:creator>\n",
       "   </cc:Work>\n",
       "  </rdf:RDF>\n",
       " </metadata>\n",
       " <defs>\n",
       "  <style type=\"text/css\">*{stroke-linejoin: round; stroke-linecap: butt}</style>\n",
       " </defs>\n",
       " <g id=\"figure_1\">\n",
       "  <g id=\"patch_1\">\n",
       "   <path d=\"M 0 277.314375 \n",
       "L 291.115 277.314375 \n",
       "L 291.115 0 \n",
       "L 0 0 \n",
       "L 0 277.314375 \n",
       "z\n",
       "\" style=\"fill: none\"/>\n",
       "  </g>\n",
       "  <g id=\"axes_1\">\n",
       "   <g id=\"patch_2\">\n",
       "    <path d=\"M 58.523438 239.758125 \n",
       "L 275.963437 239.758125 \n",
       "L 275.963437 22.318125 \n",
       "L 58.523438 22.318125 \n",
       "z\n",
       "\" style=\"fill: #ffffff\"/>\n",
       "   </g>\n",
       "   <g clip-path=\"url(#p5e1411335d)\">\n",
       "    <image xlink:href=\"data:image/png;base64,\n",
       "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\" id=\"image9b9be02920\" transform=\"scale(1 -1)translate(0 -218)\" x=\"58.523438\" y=\"-21.758125\" width=\"218\" height=\"218\"/>\n",
       "   </g>\n",
       "   <g id=\"PathCollection_1\">\n",
       "    <defs>\n",
       "     <path id=\"ma434a1aa9b\" d=\"M 0 3 \n",
       "C 0.795609 3 1.55874 2.683901 2.12132 2.12132 \n",
       "C 2.683901 1.55874 3 0.795609 3 0 \n",
       "C 3 -0.795609 2.683901 -1.55874 2.12132 -2.12132 \n",
       "C 1.55874 -2.683901 0.795609 -3 0 -3 \n",
       "C -0.795609 -3 -1.55874 -2.683901 -2.12132 -2.12132 \n",
       "C -2.683901 -1.55874 -3 -0.795609 -3 0 \n",
       "C -3 0.795609 -2.683901 1.55874 -2.12132 2.12132 \n",
       "C -1.55874 2.683901 -0.795609 3 0 3 \n",
       "z\n",
       "\" style=\"stroke: #333333\"/>\n",
       "    </defs>\n",
       "    <g clip-path=\"url(#p5e1411335d)\">\n",
       "     <use xlink:href=\"#ma434a1aa9b\" x=\"112.130475\" y=\"183.02716\" style=\"fill: #1f77b4; stroke: #333333\"/>\n",
       "     <use xlink:href=\"#ma434a1aa9b\" x=\"218.531808\" y=\"79.706304\" style=\"fill: #1f77b4; stroke: #333333\"/>\n",
       "     <use xlink:href=\"#ma434a1aa9b\" x=\"239.633825\" y=\"80.994397\" style=\"fill: #1f77b4; stroke: #333333\"/>\n",
       "     <use xlink:href=\"#ma434a1aa9b\" x=\"122.008016\" y=\"191.757377\" style=\"fill: #1f77b4; stroke: #333333\"/>\n",
       "     <use xlink:href=\"#ma434a1aa9b\" x=\"116.060682\" y=\"192.256288\" style=\"fill: #1f77b4; stroke: #333333\"/>\n",
       "     <use xlink:href=\"#ma434a1aa9b\" x=\"92.277532\" y=\"180.061819\" style=\"fill: #1f77b4; stroke: #333333\"/>\n",
       "     <use xlink:href=\"#ma434a1aa9b\" x=\"227.018994\" y=\"76.887462\" style=\"fill: #1f77b4; stroke: #333333\"/>\n",
       "     <use xlink:href=\"#ma434a1aa9b\" x=\"218.499712\" y=\"71.275153\" style=\"fill: #1f77b4; stroke: #333333\"/>\n",
       "     <use xlink:href=\"#ma434a1aa9b\" x=\"110.302013\" y=\"191.868518\" style=\"fill: #1f77b4; stroke: #333333\"/>\n",
       "     <use xlink:href=\"#ma434a1aa9b\" x=\"222.828211\" y=\"72.953996\" style=\"fill: #1f77b4; stroke: #333333\"/>\n",
       "     <use xlink:href=\"#ma434a1aa9b\" x=\"117.798662\" y=\"188.528318\" style=\"fill: #1f77b4; stroke: #333333\"/>\n",
       "     <use xlink:href=\"#ma434a1aa9b\" x=\"236.949732\" y=\"56.122229\" style=\"fill: #1f77b4; stroke: #333333\"/>\n",
       "     <use xlink:href=\"#ma434a1aa9b\" x=\"223.235039\" y=\"80.056541\" style=\"fill: #1f77b4; stroke: #333333\"/>\n",
       "     <use xlink:href=\"#ma434a1aa9b\" x=\"218.619913\" y=\"76.248163\" style=\"fill: #1f77b4; stroke: #333333\"/>\n",
       "     <use xlink:href=\"#ma434a1aa9b\" x=\"110.525586\" y=\"198.228967\" style=\"fill: #1f77b4; stroke: #333333\"/>\n",
       "     <use xlink:href=\"#ma434a1aa9b\" x=\"106.581102\" y=\"176.499583\" style=\"fill: #1f77b4; stroke: #333333\"/>\n",
       "     <use xlink:href=\"#ma434a1aa9b\" x=\"233.588936\" y=\"102.286439\" style=\"fill: #1f77b4; stroke: #333333\"/>\n",
       "     <use xlink:href=\"#ma434a1aa9b\" x=\"236.369999\" y=\"96.725344\" style=\"fill: #1f77b4; stroke: #333333\"/>\n",
       "     <use xlink:href=\"#ma434a1aa9b\" x=\"213.86622\" y=\"77.338064\" style=\"fill: #1f77b4; stroke: #333333\"/>\n",
       "     <use xlink:href=\"#ma434a1aa9b\" x=\"100.93054\" y=\"195.532199\" style=\"fill: #1f77b4; stroke: #333333\"/>\n",
       "     <use xlink:href=\"#ma434a1aa9b\" x=\"235.709742\" y=\"56.455519\" style=\"fill: #1f77b4; stroke: #333333\"/>\n",
       "     <use xlink:href=\"#ma434a1aa9b\" x=\"228.794651\" y=\"77.981996\" style=\"fill: #1f77b4; stroke: #333333\"/>\n",
       "     <use xlink:href=\"#ma434a1aa9b\" x=\"126.325818\" y=\"169.253244\" style=\"fill: #1f77b4; stroke: #333333\"/>\n",
       "     <use xlink:href=\"#ma434a1aa9b\" x=\"215.866897\" y=\"56.228154\" style=\"fill: #1f77b4; stroke: #333333\"/>\n",
       "     <use xlink:href=\"#ma434a1aa9b\" x=\"114.849831\" y=\"184.170689\" style=\"fill: #1f77b4; stroke: #333333\"/>\n",
       "     <use xlink:href=\"#ma434a1aa9b\" x=\"215.200167\" y=\"71.325868\" style=\"fill: #1f77b4; stroke: #333333\"/>\n",
       "     <use xlink:href=\"#ma434a1aa9b\" x=\"104.738732\" y=\"172.132263\" style=\"fill: #1f77b4; stroke: #333333\"/>\n",
       "     <use xlink:href=\"#ma434a1aa9b\" x=\"233.165389\" y=\"69.175006\" style=\"fill: #1f77b4; stroke: #333333\"/>\n",
       "     <use xlink:href=\"#ma434a1aa9b\" x=\"229.770805\" y=\"79.208287\" style=\"fill: #1f77b4; stroke: #333333\"/>\n",
       "     <use xlink:href=\"#ma434a1aa9b\" x=\"224.897941\" y=\"65.173809\" style=\"fill: #1f77b4; stroke: #333333\"/>\n",
       "     <use xlink:href=\"#ma434a1aa9b\" x=\"109.018133\" y=\"175.976269\" style=\"fill: #1f77b4; stroke: #333333\"/>\n",
       "     <use xlink:href=\"#ma434a1aa9b\" x=\"118.553492\" y=\"195.931899\" style=\"fill: #1f77b4; stroke: #333333\"/>\n",
       "     <use xlink:href=\"#ma434a1aa9b\" x=\"105.114252\" y=\"164.360655\" style=\"fill: #1f77b4; stroke: #333333\"/>\n",
       "     <use xlink:href=\"#ma434a1aa9b\" x=\"113.25433\" y=\"189.323026\" style=\"fill: #1f77b4; stroke: #333333\"/>\n",
       "     <use xlink:href=\"#ma434a1aa9b\" x=\"124.586091\" y=\"188.967644\" style=\"fill: #1f77b4; stroke: #333333\"/>\n",
       "     <use xlink:href=\"#ma434a1aa9b\" x=\"109.837824\" y=\"184.898956\" style=\"fill: #1f77b4; stroke: #333333\"/>\n",
       "     <use xlink:href=\"#ma434a1aa9b\" x=\"125.181761\" y=\"197.902563\" style=\"fill: #1f77b4; stroke: #333333\"/>\n",
       "     <use xlink:href=\"#ma434a1aa9b\" x=\"204.317789\" y=\"61.965272\" style=\"fill: #1f77b4; stroke: #333333\"/>\n",
       "     <use xlink:href=\"#ma434a1aa9b\" x=\"235.267519\" y=\"81.643688\" style=\"fill: #1f77b4; stroke: #333333\"/>\n",
       "     <use xlink:href=\"#ma434a1aa9b\" x=\"223.348378\" y=\"80.978112\" style=\"fill: #1f77b4; stroke: #333333\"/>\n",
       "     <use xlink:href=\"#ma434a1aa9b\" x=\"109.797084\" y=\"192.545811\" style=\"fill: #1f77b4; stroke: #333333\"/>\n",
       "     <use xlink:href=\"#ma434a1aa9b\" x=\"211.194686\" y=\"100.930901\" style=\"fill: #1f77b4; stroke: #333333\"/>\n",
       "     <use xlink:href=\"#ma434a1aa9b\" x=\"229.513113\" y=\"75.481734\" style=\"fill: #1f77b4; stroke: #333333\"/>\n",
       "     <use xlink:href=\"#ma434a1aa9b\" x=\"113.381992\" y=\"197.835874\" style=\"fill: #1f77b4; stroke: #333333\"/>\n",
       "     <use xlink:href=\"#ma434a1aa9b\" x=\"123.337029\" y=\"202.207751\" style=\"fill: #1f77b4; stroke: #333333\"/>\n",
       "     <use xlink:href=\"#ma434a1aa9b\" x=\"130.132567\" y=\"170.190943\" style=\"fill: #1f77b4; stroke: #333333\"/>\n",
       "     <use xlink:href=\"#ma434a1aa9b\" x=\"216.473179\" y=\"87.364405\" style=\"fill: #1f77b4; stroke: #333333\"/>\n",
       "     <use xlink:href=\"#ma434a1aa9b\" x=\"206.813885\" y=\"65.697345\" style=\"fill: #1f77b4; stroke: #333333\"/>\n",
       "     <use xlink:href=\"#ma434a1aa9b\" x=\"107.513202\" y=\"192.863185\" style=\"fill: #1f77b4; stroke: #333333\"/>\n",
       "     <use xlink:href=\"#ma434a1aa9b\" x=\"217.41874\" y=\"84.700348\" style=\"fill: #1f77b4; stroke: #333333\"/>\n",
       "     <use xlink:href=\"#ma434a1aa9b\" x=\"113.95745\" y=\"189.098171\" style=\"fill: #1f77b4; stroke: #333333\"/>\n",
       "     <use xlink:href=\"#ma434a1aa9b\" x=\"226.55733\" y=\"57.230812\" style=\"fill: #1f77b4; stroke: #333333\"/>\n",
       "     <use xlink:href=\"#ma434a1aa9b\" x=\"111.233278\" y=\"179.431408\" style=\"fill: #1f77b4; stroke: #333333\"/>\n",
       "     <use xlink:href=\"#ma434a1aa9b\" x=\"215.084754\" y=\"91.072443\" style=\"fill: #1f77b4; stroke: #333333\"/>\n",
       "     <use xlink:href=\"#ma434a1aa9b\" x=\"224.100848\" y=\"68.121491\" style=\"fill: #1f77b4; stroke: #333333\"/>\n",
       "     <use xlink:href=\"#ma434a1aa9b\" x=\"92.279163\" y=\"180.887702\" style=\"fill: #1f77b4; stroke: #333333\"/>\n",
       "     <use xlink:href=\"#ma434a1aa9b\" x=\"206.717206\" y=\"67.932904\" style=\"fill: #1f77b4; stroke: #333333\"/>\n",
       "     <use xlink:href=\"#ma434a1aa9b\" x=\"230.512427\" y=\"82.439245\" style=\"fill: #1f77b4; stroke: #333333\"/>\n",
       "     <use xlink:href=\"#ma434a1aa9b\" x=\"101.651362\" y=\"185.78207\" style=\"fill: #1f77b4; stroke: #333333\"/>\n",
       "     <use xlink:href=\"#ma434a1aa9b\" x=\"110.796814\" y=\"211.814172\" style=\"fill: #1f77b4; stroke: #333333\"/>\n",
       "     <use xlink:href=\"#ma434a1aa9b\" x=\"110.369579\" y=\"188.183661\" style=\"fill: #1f77b4; stroke: #333333\"/>\n",
       "     <use xlink:href=\"#ma434a1aa9b\" x=\"96.152024\" y=\"188.29022\" style=\"fill: #1f77b4; stroke: #333333\"/>\n",
       "     <use xlink:href=\"#ma434a1aa9b\" x=\"241.658206\" y=\"82.547711\" style=\"fill: #1f77b4; stroke: #333333\"/>\n",
       "     <use xlink:href=\"#ma434a1aa9b\" x=\"215.078112\" y=\"88.854193\" style=\"fill: #1f77b4; stroke: #333333\"/>\n",
       "     <use xlink:href=\"#ma434a1aa9b\" x=\"235.390643\" y=\"62.012163\" style=\"fill: #1f77b4; stroke: #333333\"/>\n",
       "     <use xlink:href=\"#ma434a1aa9b\" x=\"96.594278\" y=\"176.722784\" style=\"fill: #1f77b4; stroke: #333333\"/>\n",
       "     <use xlink:href=\"#ma434a1aa9b\" x=\"223.89308\" y=\"95.68291\" style=\"fill: #1f77b4; stroke: #333333\"/>\n",
       "     <use xlink:href=\"#ma434a1aa9b\" x=\"231.986534\" y=\"101.379014\" style=\"fill: #1f77b4; stroke: #333333\"/>\n",
       "     <use xlink:href=\"#ma434a1aa9b\" x=\"129.434435\" y=\"202.700628\" style=\"fill: #1f77b4; stroke: #333333\"/>\n",
       "     <use xlink:href=\"#ma434a1aa9b\" x=\"121.849164\" y=\"193.853222\" style=\"fill: #1f77b4; stroke: #333333\"/>\n",
       "     <use xlink:href=\"#ma434a1aa9b\" x=\"111.071273\" y=\"180.426817\" style=\"fill: #1f77b4; stroke: #333333\"/>\n",
       "     <use xlink:href=\"#ma434a1aa9b\" x=\"111.73278\" y=\"178.6056\" style=\"fill: #1f77b4; stroke: #333333\"/>\n",
       "     <use xlink:href=\"#ma434a1aa9b\" x=\"224.372642\" y=\"73.188217\" style=\"fill: #1f77b4; stroke: #333333\"/>\n",
       "     <use xlink:href=\"#ma434a1aa9b\" x=\"214.544764\" y=\"100.191683\" style=\"fill: #1f77b4; stroke: #333333\"/>\n",
       "     <use xlink:href=\"#ma434a1aa9b\" x=\"111.037176\" y=\"184.756952\" style=\"fill: #1f77b4; stroke: #333333\"/>\n",
       "     <use xlink:href=\"#ma434a1aa9b\" x=\"120.501423\" y=\"177.927389\" style=\"fill: #1f77b4; stroke: #333333\"/>\n",
       "     <use xlink:href=\"#ma434a1aa9b\" x=\"121.737273\" y=\"183.651319\" style=\"fill: #1f77b4; stroke: #333333\"/>\n",
       "     <use xlink:href=\"#ma434a1aa9b\" x=\"224.151653\" y=\"60.366512\" style=\"fill: #1f77b4; stroke: #333333\"/>\n",
       "     <use xlink:href=\"#ma434a1aa9b\" x=\"223.43835\" y=\"58.920283\" style=\"fill: #1f77b4; stroke: #333333\"/>\n",
       "     <use xlink:href=\"#ma434a1aa9b\" x=\"112.665686\" y=\"194.670616\" style=\"fill: #1f77b4; stroke: #333333\"/>\n",
       "     <use xlink:href=\"#ma434a1aa9b\" x=\"232.62061\" y=\"60.454033\" style=\"fill: #1f77b4; stroke: #333333\"/>\n",
       "     <use xlink:href=\"#ma434a1aa9b\" x=\"218.768323\" y=\"87.76343\" style=\"fill: #1f77b4; stroke: #333333\"/>\n",
       "     <use xlink:href=\"#ma434a1aa9b\" x=\"231.184386\" y=\"57.202935\" style=\"fill: #1f77b4; stroke: #333333\"/>\n",
       "     <use xlink:href=\"#ma434a1aa9b\" x=\"105.951856\" y=\"182.733923\" style=\"fill: #1f77b4; stroke: #333333\"/>\n",
       "     <use xlink:href=\"#ma434a1aa9b\" x=\"220.266348\" y=\"68.561718\" style=\"fill: #1f77b4; stroke: #333333\"/>\n",
       "     <use xlink:href=\"#ma434a1aa9b\" x=\"113.873959\" y=\"198.141743\" style=\"fill: #1f77b4; stroke: #333333\"/>\n",
       "     <use xlink:href=\"#ma434a1aa9b\" x=\"121.135411\" y=\"191.679503\" style=\"fill: #1f77b4; stroke: #333333\"/>\n",
       "     <use xlink:href=\"#ma434a1aa9b\" x=\"105.401412\" y=\"181.366251\" style=\"fill: #1f77b4; stroke: #333333\"/>\n",
       "     <use xlink:href=\"#ma434a1aa9b\" x=\"203.450464\" y=\"73.166107\" style=\"fill: #1f77b4; stroke: #333333\"/>\n",
       "     <use xlink:href=\"#ma434a1aa9b\" x=\"213.131642\" y=\"68.440188\" style=\"fill: #1f77b4; stroke: #333333\"/>\n",
       "     <use xlink:href=\"#ma434a1aa9b\" x=\"195.475611\" y=\"65.960727\" style=\"fill: #1f77b4; stroke: #333333\"/>\n",
       "     <use xlink:href=\"#ma434a1aa9b\" x=\"104.817254\" y=\"181.616921\" style=\"fill: #1f77b4; stroke: #333333\"/>\n",
       "     <use xlink:href=\"#ma434a1aa9b\" x=\"128.101527\" y=\"193.778082\" style=\"fill: #1f77b4; stroke: #333333\"/>\n",
       "     <use xlink:href=\"#ma434a1aa9b\" x=\"108.575899\" y=\"196.017082\" style=\"fill: #1f77b4; stroke: #333333\"/>\n",
       "     <use xlink:href=\"#ma434a1aa9b\" x=\"213.699076\" y=\"102.201172\" style=\"fill: #1f77b4; stroke: #333333\"/>\n",
       "     <use xlink:href=\"#ma434a1aa9b\" x=\"116.657511\" y=\"184.585026\" style=\"fill: #1f77b4; stroke: #333333\"/>\n",
       "     <use xlink:href=\"#ma434a1aa9b\" x=\"111.028071\" y=\"179.737071\" style=\"fill: #1f77b4; stroke: #333333\"/>\n",
       "     <use xlink:href=\"#ma434a1aa9b\" x=\"106.803829\" y=\"188.460235\" style=\"fill: #1f77b4; stroke: #333333\"/>\n",
       "     <use xlink:href=\"#ma434a1aa9b\" x=\"114.368679\" y=\"194.747632\" style=\"fill: #1f77b4; stroke: #333333\"/>\n",
       "     <use xlink:href=\"#ma434a1aa9b\" x=\"202.479261\" y=\"76.337577\" style=\"fill: #1f77b4; stroke: #333333\"/>\n",
       "     <use xlink:href=\"#ma434a1aa9b\" x=\"209.669671\" y=\"63.421804\" style=\"fill: #1f77b4; stroke: #333333\"/>\n",
       "     <use xlink:href=\"#ma434a1aa9b\" x=\"93.182322\" y=\"199.661904\" style=\"fill: #1f77b4; stroke: #333333\"/>\n",
       "     <use xlink:href=\"#ma434a1aa9b\" x=\"221.556365\" y=\"94.135493\" style=\"fill: #1f77b4; stroke: #333333\"/>\n",
       "    </g>\n",
       "   </g>\n",
       "   <g id=\"PathCollection_2\">\n",
       "    <defs>\n",
       "     <path id=\"mc5f29f6089\" d=\"M 0 3 \n",
       "C 0.795609 3 1.55874 2.683901 2.12132 2.12132 \n",
       "C 2.683901 1.55874 3 0.795609 3 0 \n",
       "C 3 -0.795609 2.683901 -1.55874 2.12132 -2.12132 \n",
       "C 1.55874 -2.683901 0.795609 -3 0 -3 \n",
       "C -0.795609 -3 -1.55874 -2.683901 -2.12132 -2.12132 \n",
       "C -2.683901 -1.55874 -3 -0.795609 -3 0 \n",
       "C -3 0.795609 -2.683901 1.55874 -2.12132 2.12132 \n",
       "C -1.55874 2.683901 -0.795609 3 0 3 \n",
       "z\n",
       "\" style=\"stroke: #333333\"/>\n",
       "    </defs>\n",
       "    <g clip-path=\"url(#p5e1411335d)\">\n",
       "     <use xlink:href=\"#mc5f29f6089\" x=\"217.606427\" y=\"173.251328\" style=\"fill: #ff7f0e; stroke: #333333\"/>\n",
       "     <use xlink:href=\"#mc5f29f6089\" x=\"227.769027\" y=\"173.464324\" style=\"fill: #ff7f0e; stroke: #333333\"/>\n",
       "     <use xlink:href=\"#mc5f29f6089\" x=\"218.500016\" y=\"187.443356\" style=\"fill: #ff7f0e; stroke: #333333\"/>\n",
       "     <use xlink:href=\"#mc5f29f6089\" x=\"106.984413\" y=\"66.511974\" style=\"fill: #ff7f0e; stroke: #333333\"/>\n",
       "     <use xlink:href=\"#mc5f29f6089\" x=\"233.133545\" y=\"189.544269\" style=\"fill: #ff7f0e; stroke: #333333\"/>\n",
       "     <use xlink:href=\"#mc5f29f6089\" x=\"115.335326\" y=\"80.815627\" style=\"fill: #ff7f0e; stroke: #333333\"/>\n",
       "     <use xlink:href=\"#mc5f29f6089\" x=\"208.972555\" y=\"197.223837\" style=\"fill: #ff7f0e; stroke: #333333\"/>\n",
       "     <use xlink:href=\"#mc5f29f6089\" x=\"139.005527\" y=\"77.700995\" style=\"fill: #ff7f0e; stroke: #333333\"/>\n",
       "     <use xlink:href=\"#mc5f29f6089\" x=\"230.664194\" y=\"201.829041\" style=\"fill: #ff7f0e; stroke: #333333\"/>\n",
       "     <use xlink:href=\"#mc5f29f6089\" x=\"205.002573\" y=\"176.909335\" style=\"fill: #ff7f0e; stroke: #333333\"/>\n",
       "     <use xlink:href=\"#mc5f29f6089\" x=\"216.845993\" y=\"167.032503\" style=\"fill: #ff7f0e; stroke: #333333\"/>\n",
       "     <use xlink:href=\"#mc5f29f6089\" x=\"88.160629\" y=\"65.861243\" style=\"fill: #ff7f0e; stroke: #333333\"/>\n",
       "     <use xlink:href=\"#mc5f29f6089\" x=\"128.021696\" y=\"66.622254\" style=\"fill: #ff7f0e; stroke: #333333\"/>\n",
       "     <use xlink:href=\"#mc5f29f6089\" x=\"112.260448\" y=\"91.009332\" style=\"fill: #ff7f0e; stroke: #333333\"/>\n",
       "     <use xlink:href=\"#mc5f29f6089\" x=\"112.50413\" y=\"63.911605\" style=\"fill: #ff7f0e; stroke: #333333\"/>\n",
       "     <use xlink:href=\"#mc5f29f6089\" x=\"95.981186\" y=\"61.50077\" style=\"fill: #ff7f0e; stroke: #333333\"/>\n",
       "     <use xlink:href=\"#mc5f29f6089\" x=\"219.993175\" y=\"189.668312\" style=\"fill: #ff7f0e; stroke: #333333\"/>\n",
       "     <use xlink:href=\"#mc5f29f6089\" x=\"206.167029\" y=\"173.135684\" style=\"fill: #ff7f0e; stroke: #333333\"/>\n",
       "     <use xlink:href=\"#mc5f29f6089\" x=\"213.740977\" y=\"174.762918\" style=\"fill: #ff7f0e; stroke: #333333\"/>\n",
       "     <use xlink:href=\"#mc5f29f6089\" x=\"121.204965\" y=\"77.433213\" style=\"fill: #ff7f0e; stroke: #333333\"/>\n",
       "     <use xlink:href=\"#mc5f29f6089\" x=\"203.018823\" y=\"182.099388\" style=\"fill: #ff7f0e; stroke: #333333\"/>\n",
       "     <use xlink:href=\"#mc5f29f6089\" x=\"238.152369\" y=\"188.7116\" style=\"fill: #ff7f0e; stroke: #333333\"/>\n",
       "     <use xlink:href=\"#mc5f29f6089\" x=\"231.441781\" y=\"186.794029\" style=\"fill: #ff7f0e; stroke: #333333\"/>\n",
       "     <use xlink:href=\"#mc5f29f6089\" x=\"211.648243\" y=\"189.950709\" style=\"fill: #ff7f0e; stroke: #333333\"/>\n",
       "     <use xlink:href=\"#mc5f29f6089\" x=\"236.220422\" y=\"169.740566\" style=\"fill: #ff7f0e; stroke: #333333\"/>\n",
       "     <use xlink:href=\"#mc5f29f6089\" x=\"101.853762\" y=\"86.031191\" style=\"fill: #ff7f0e; stroke: #333333\"/>\n",
       "     <use xlink:href=\"#mc5f29f6089\" x=\"233.94689\" y=\"172.051387\" style=\"fill: #ff7f0e; stroke: #333333\"/>\n",
       "     <use xlink:href=\"#mc5f29f6089\" x=\"123.501925\" y=\"74.175724\" style=\"fill: #ff7f0e; stroke: #333333\"/>\n",
       "     <use xlink:href=\"#mc5f29f6089\" x=\"218.585652\" y=\"171.48351\" style=\"fill: #ff7f0e; stroke: #333333\"/>\n",
       "     <use xlink:href=\"#mc5f29f6089\" x=\"90.32929\" y=\"75.633164\" style=\"fill: #ff7f0e; stroke: #333333\"/>\n",
       "     <use xlink:href=\"#mc5f29f6089\" x=\"111.280011\" y=\"82.837267\" style=\"fill: #ff7f0e; stroke: #333333\"/>\n",
       "     <use xlink:href=\"#mc5f29f6089\" x=\"211.740197\" y=\"195.115066\" style=\"fill: #ff7f0e; stroke: #333333\"/>\n",
       "     <use xlink:href=\"#mc5f29f6089\" x=\"205.118653\" y=\"174.999985\" style=\"fill: #ff7f0e; stroke: #333333\"/>\n",
       "     <use xlink:href=\"#mc5f29f6089\" x=\"115.182647\" y=\"78.537928\" style=\"fill: #ff7f0e; stroke: #333333\"/>\n",
       "     <use xlink:href=\"#mc5f29f6089\" x=\"227.992219\" y=\"175.571697\" style=\"fill: #ff7f0e; stroke: #333333\"/>\n",
       "     <use xlink:href=\"#mc5f29f6089\" x=\"115.634509\" y=\"84.738407\" style=\"fill: #ff7f0e; stroke: #333333\"/>\n",
       "     <use xlink:href=\"#mc5f29f6089\" x=\"113.207682\" y=\"86.904679\" style=\"fill: #ff7f0e; stroke: #333333\"/>\n",
       "     <use xlink:href=\"#mc5f29f6089\" x=\"241.406644\" y=\"195.654551\" style=\"fill: #ff7f0e; stroke: #333333\"/>\n",
       "     <use xlink:href=\"#mc5f29f6089\" x=\"218.12314\" y=\"172.59052\" style=\"fill: #ff7f0e; stroke: #333333\"/>\n",
       "     <use xlink:href=\"#mc5f29f6089\" x=\"102.818896\" y=\"74.729342\" style=\"fill: #ff7f0e; stroke: #333333\"/>\n",
       "     <use xlink:href=\"#mc5f29f6089\" x=\"126.547202\" y=\"76.348126\" style=\"fill: #ff7f0e; stroke: #333333\"/>\n",
       "     <use xlink:href=\"#mc5f29f6089\" x=\"129.239769\" y=\"62.486839\" style=\"fill: #ff7f0e; stroke: #333333\"/>\n",
       "     <use xlink:href=\"#mc5f29f6089\" x=\"228.152228\" y=\"193.26863\" style=\"fill: #ff7f0e; stroke: #333333\"/>\n",
       "     <use xlink:href=\"#mc5f29f6089\" x=\"103.215052\" y=\"78.005027\" style=\"fill: #ff7f0e; stroke: #333333\"/>\n",
       "     <use xlink:href=\"#mc5f29f6089\" x=\"216.222162\" y=\"176.670472\" style=\"fill: #ff7f0e; stroke: #333333\"/>\n",
       "     <use xlink:href=\"#mc5f29f6089\" x=\"114.916325\" y=\"88.653235\" style=\"fill: #ff7f0e; stroke: #333333\"/>\n",
       "     <use xlink:href=\"#mc5f29f6089\" x=\"121.115357\" y=\"70.241533\" style=\"fill: #ff7f0e; stroke: #333333\"/>\n",
       "     <use xlink:href=\"#mc5f29f6089\" x=\"120.258643\" y=\"72.957314\" style=\"fill: #ff7f0e; stroke: #333333\"/>\n",
       "     <use xlink:href=\"#mc5f29f6089\" x=\"209.315916\" y=\"177.378942\" style=\"fill: #ff7f0e; stroke: #333333\"/>\n",
       "     <use xlink:href=\"#mc5f29f6089\" x=\"103.210102\" y=\"91.806632\" style=\"fill: #ff7f0e; stroke: #333333\"/>\n",
       "     <use xlink:href=\"#mc5f29f6089\" x=\"119.325862\" y=\"68.692592\" style=\"fill: #ff7f0e; stroke: #333333\"/>\n",
       "     <use xlink:href=\"#mc5f29f6089\" x=\"202.824093\" y=\"174.268046\" style=\"fill: #ff7f0e; stroke: #333333\"/>\n",
       "     <use xlink:href=\"#mc5f29f6089\" x=\"223.801372\" y=\"196.626833\" style=\"fill: #ff7f0e; stroke: #333333\"/>\n",
       "     <use xlink:href=\"#mc5f29f6089\" x=\"117.310993\" y=\"69.094029\" style=\"fill: #ff7f0e; stroke: #333333\"/>\n",
       "     <use xlink:href=\"#mc5f29f6089\" x=\"122.253941\" y=\"84.153386\" style=\"fill: #ff7f0e; stroke: #333333\"/>\n",
       "     <use xlink:href=\"#mc5f29f6089\" x=\"208.231426\" y=\"184.433377\" style=\"fill: #ff7f0e; stroke: #333333\"/>\n",
       "     <use xlink:href=\"#mc5f29f6089\" x=\"201.565732\" y=\"186.557453\" style=\"fill: #ff7f0e; stroke: #333333\"/>\n",
       "     <use xlink:href=\"#mc5f29f6089\" x=\"120.045207\" y=\"79.883512\" style=\"fill: #ff7f0e; stroke: #333333\"/>\n",
       "     <use xlink:href=\"#mc5f29f6089\" x=\"85.476218\" y=\"85.530225\" style=\"fill: #ff7f0e; stroke: #333333\"/>\n",
       "     <use xlink:href=\"#mc5f29f6089\" x=\"108.621104\" y=\"91.775968\" style=\"fill: #ff7f0e; stroke: #333333\"/>\n",
       "     <use xlink:href=\"#mc5f29f6089\" x=\"122.454711\" y=\"71.807464\" style=\"fill: #ff7f0e; stroke: #333333\"/>\n",
       "     <use xlink:href=\"#mc5f29f6089\" x=\"105.245089\" y=\"80.555517\" style=\"fill: #ff7f0e; stroke: #333333\"/>\n",
       "     <use xlink:href=\"#mc5f29f6089\" x=\"110.345637\" y=\"74.684201\" style=\"fill: #ff7f0e; stroke: #333333\"/>\n",
       "     <use xlink:href=\"#mc5f29f6089\" x=\"122.948606\" y=\"84.523445\" style=\"fill: #ff7f0e; stroke: #333333\"/>\n",
       "     <use xlink:href=\"#mc5f29f6089\" x=\"238.331781\" y=\"190.109778\" style=\"fill: #ff7f0e; stroke: #333333\"/>\n",
       "     <use xlink:href=\"#mc5f29f6089\" x=\"99.158482\" y=\"62.144579\" style=\"fill: #ff7f0e; stroke: #333333\"/>\n",
       "     <use xlink:href=\"#mc5f29f6089\" x=\"238.904126\" y=\"176.479967\" style=\"fill: #ff7f0e; stroke: #333333\"/>\n",
       "     <use xlink:href=\"#mc5f29f6089\" x=\"228.511103\" y=\"166.124698\" style=\"fill: #ff7f0e; stroke: #333333\"/>\n",
       "     <use xlink:href=\"#mc5f29f6089\" x=\"204.749573\" y=\"197.183933\" style=\"fill: #ff7f0e; stroke: #333333\"/>\n",
       "     <use xlink:href=\"#mc5f29f6089\" x=\"207.817035\" y=\"209.749946\" style=\"fill: #ff7f0e; stroke: #333333\"/>\n",
       "     <use xlink:href=\"#mc5f29f6089\" x=\"113.647455\" y=\"63.325534\" style=\"fill: #ff7f0e; stroke: #333333\"/>\n",
       "     <use xlink:href=\"#mc5f29f6089\" x=\"209.936021\" y=\"171.712521\" style=\"fill: #ff7f0e; stroke: #333333\"/>\n",
       "     <use xlink:href=\"#mc5f29f6089\" x=\"199.504867\" y=\"160.73698\" style=\"fill: #ff7f0e; stroke: #333333\"/>\n",
       "     <use xlink:href=\"#mc5f29f6089\" x=\"102.861494\" y=\"67.872443\" style=\"fill: #ff7f0e; stroke: #333333\"/>\n",
       "     <use xlink:href=\"#mc5f29f6089\" x=\"121.543306\" y=\"77.896386\" style=\"fill: #ff7f0e; stroke: #333333\"/>\n",
       "     <use xlink:href=\"#mc5f29f6089\" x=\"230.263574\" y=\"175.913803\" style=\"fill: #ff7f0e; stroke: #333333\"/>\n",
       "     <use xlink:href=\"#mc5f29f6089\" x=\"108.769772\" y=\"71.243232\" style=\"fill: #ff7f0e; stroke: #333333\"/>\n",
       "     <use xlink:href=\"#mc5f29f6089\" x=\"118.137999\" y=\"79.260109\" style=\"fill: #ff7f0e; stroke: #333333\"/>\n",
       "     <use xlink:href=\"#mc5f29f6089\" x=\"116.883422\" y=\"81.810632\" style=\"fill: #ff7f0e; stroke: #333333\"/>\n",
       "     <use xlink:href=\"#mc5f29f6089\" x=\"217.332054\" y=\"170.303854\" style=\"fill: #ff7f0e; stroke: #333333\"/>\n",
       "     <use xlink:href=\"#mc5f29f6089\" x=\"223.569574\" y=\"163.041048\" style=\"fill: #ff7f0e; stroke: #333333\"/>\n",
       "     <use xlink:href=\"#mc5f29f6089\" x=\"230.510522\" y=\"176.611656\" style=\"fill: #ff7f0e; stroke: #333333\"/>\n",
       "     <use xlink:href=\"#mc5f29f6089\" x=\"142.305392\" y=\"77.469185\" style=\"fill: #ff7f0e; stroke: #333333\"/>\n",
       "     <use xlink:href=\"#mc5f29f6089\" x=\"204.163476\" y=\"198.978781\" style=\"fill: #ff7f0e; stroke: #333333\"/>\n",
       "     <use xlink:href=\"#mc5f29f6089\" x=\"244.521801\" y=\"198.229188\" style=\"fill: #ff7f0e; stroke: #333333\"/>\n",
       "     <use xlink:href=\"#mc5f29f6089\" x=\"214.441631\" y=\"195.840128\" style=\"fill: #ff7f0e; stroke: #333333\"/>\n",
       "     <use xlink:href=\"#mc5f29f6089\" x=\"105.972186\" y=\"85.737332\" style=\"fill: #ff7f0e; stroke: #333333\"/>\n",
       "     <use xlink:href=\"#mc5f29f6089\" x=\"104.205171\" y=\"77.466631\" style=\"fill: #ff7f0e; stroke: #333333\"/>\n",
       "     <use xlink:href=\"#mc5f29f6089\" x=\"232.367065\" y=\"198.103735\" style=\"fill: #ff7f0e; stroke: #333333\"/>\n",
       "     <use xlink:href=\"#mc5f29f6089\" x=\"104.549327\" y=\"83.321073\" style=\"fill: #ff7f0e; stroke: #333333\"/>\n",
       "     <use xlink:href=\"#mc5f29f6089\" x=\"93.504718\" y=\"79.424966\" style=\"fill: #ff7f0e; stroke: #333333\"/>\n",
       "     <use xlink:href=\"#mc5f29f6089\" x=\"127.819202\" y=\"69.050871\" style=\"fill: #ff7f0e; stroke: #333333\"/>\n",
       "     <use xlink:href=\"#mc5f29f6089\" x=\"106.888986\" y=\"71.394117\" style=\"fill: #ff7f0e; stroke: #333333\"/>\n",
       "     <use xlink:href=\"#mc5f29f6089\" x=\"238.372282\" y=\"196.147065\" style=\"fill: #ff7f0e; stroke: #333333\"/>\n",
       "     <use xlink:href=\"#mc5f29f6089\" x=\"200.720575\" y=\"181.948403\" style=\"fill: #ff7f0e; stroke: #333333\"/>\n",
       "     <use xlink:href=\"#mc5f29f6089\" x=\"113.562585\" y=\"65.860828\" style=\"fill: #ff7f0e; stroke: #333333\"/>\n",
       "     <use xlink:href=\"#mc5f29f6089\" x=\"236.216055\" y=\"194.238972\" style=\"fill: #ff7f0e; stroke: #333333\"/>\n",
       "    </g>\n",
       "   </g>\n",
       "   <g id=\"matplotlib.axis_1\">\n",
       "    <g id=\"xtick_1\">\n",
       "     <g id=\"line2d_1\">\n",
       "      <defs>\n",
       "       <path id=\"m27fd262208\" d=\"M 0 0 \n",
       "L 0 3.5 \n",
       "\" style=\"stroke: #000000; stroke-width: 0.8\"/>\n",
       "      </defs>\n",
       "      <g>\n",
       "       <use xlink:href=\"#m27fd262208\" x=\"58.523438\" y=\"239.758125\" style=\"stroke: #000000; stroke-width: 0.8\"/>\n",
       "      </g>\n",
       "     </g>\n",
       "     <g id=\"text_1\">\n",
       "      <!-- −0.5 -->\n",
       "      <g transform=\"translate(46.382031 254.356562)scale(0.1 -0.1)\">\n",
       "       <defs>\n",
       "        <path id=\"DejaVuSans-2212\" d=\"M 678 2272 \n",
       "L 4684 2272 \n",
       "L 4684 1741 \n",
       "L 678 1741 \n",
       "L 678 2272 \n",
       "z\n",
       "\" transform=\"scale(0.015625)\"/>\n",
       "        <path id=\"DejaVuSans-30\" d=\"M 2034 4250 \n",
       "Q 1547 4250 1301 3770 \n",
       "Q 1056 3291 1056 2328 \n",
       "Q 1056 1369 1301 889 \n",
       "Q 1547 409 2034 409 \n",
       "Q 2525 409 2770 889 \n",
       "Q 3016 1369 3016 2328 \n",
       "Q 3016 3291 2770 3770 \n",
       "Q 2525 4250 2034 4250 \n",
       "z\n",
       "M 2034 4750 \n",
       "Q 2819 4750 3233 4129 \n",
       "Q 3647 3509 3647 2328 \n",
       "Q 3647 1150 3233 529 \n",
       "Q 2819 -91 2034 -91 \n",
       "Q 1250 -91 836 529 \n",
       "Q 422 1150 422 2328 \n",
       "Q 422 3509 836 4129 \n",
       "Q 1250 4750 2034 4750 \n",
       "z\n",
       "\" transform=\"scale(0.015625)\"/>\n",
       "        <path id=\"DejaVuSans-2e\" d=\"M 684 794 \n",
       "L 1344 794 \n",
       "L 1344 0 \n",
       "L 684 0 \n",
       "L 684 794 \n",
       "z\n",
       "\" transform=\"scale(0.015625)\"/>\n",
       "        <path id=\"DejaVuSans-35\" d=\"M 691 4666 \n",
       "L 3169 4666 \n",
       "L 3169 4134 \n",
       "L 1269 4134 \n",
       "L 1269 2991 \n",
       "Q 1406 3038 1543 3061 \n",
       "Q 1681 3084 1819 3084 \n",
       "Q 2600 3084 3056 2656 \n",
       "Q 3513 2228 3513 1497 \n",
       "Q 3513 744 3044 326 \n",
       "Q 2575 -91 1722 -91 \n",
       "Q 1428 -91 1123 -41 \n",
       "Q 819 9 494 109 \n",
       "L 494 744 \n",
       "Q 775 591 1075 516 \n",
       "Q 1375 441 1709 441 \n",
       "Q 2250 441 2565 725 \n",
       "Q 2881 1009 2881 1497 \n",
       "Q 2881 1984 2565 2268 \n",
       "Q 2250 2553 1709 2553 \n",
       "Q 1456 2553 1204 2497 \n",
       "Q 953 2441 691 2322 \n",
       "L 691 4666 \n",
       "z\n",
       "\" transform=\"scale(0.015625)\"/>\n",
       "       </defs>\n",
       "       <use xlink:href=\"#DejaVuSans-2212\"/>\n",
       "       <use xlink:href=\"#DejaVuSans-30\" x=\"83.789062\"/>\n",
       "       <use xlink:href=\"#DejaVuSans-2e\" x=\"147.412109\"/>\n",
       "       <use xlink:href=\"#DejaVuSans-35\" x=\"179.199219\"/>\n",
       "      </g>\n",
       "     </g>\n",
       "    </g>\n",
       "    <g id=\"xtick_2\">\n",
       "     <g id=\"line2d_2\">\n",
       "      <g>\n",
       "       <use xlink:href=\"#m27fd262208\" x=\"112.883437\" y=\"239.758125\" style=\"stroke: #000000; stroke-width: 0.8\"/>\n",
       "      </g>\n",
       "     </g>\n",
       "     <g id=\"text_2\">\n",
       "      <!-- 0.0 -->\n",
       "      <g transform=\"translate(104.931875 254.356562)scale(0.1 -0.1)\">\n",
       "       <use xlink:href=\"#DejaVuSans-30\"/>\n",
       "       <use xlink:href=\"#DejaVuSans-2e\" x=\"63.623047\"/>\n",
       "       <use xlink:href=\"#DejaVuSans-30\" x=\"95.410156\"/>\n",
       "      </g>\n",
       "     </g>\n",
       "    </g>\n",
       "    <g id=\"xtick_3\">\n",
       "     <g id=\"line2d_3\">\n",
       "      <g>\n",
       "       <use xlink:href=\"#m27fd262208\" x=\"167.243437\" y=\"239.758125\" style=\"stroke: #000000; stroke-width: 0.8\"/>\n",
       "      </g>\n",
       "     </g>\n",
       "     <g id=\"text_3\">\n",
       "      <!-- 0.5 -->\n",
       "      <g transform=\"translate(159.291875 254.356562)scale(0.1 -0.1)\">\n",
       "       <use xlink:href=\"#DejaVuSans-30\"/>\n",
       "       <use xlink:href=\"#DejaVuSans-2e\" x=\"63.623047\"/>\n",
       "       <use xlink:href=\"#DejaVuSans-35\" x=\"95.410156\"/>\n",
       "      </g>\n",
       "     </g>\n",
       "    </g>\n",
       "    <g id=\"xtick_4\">\n",
       "     <g id=\"line2d_4\">\n",
       "      <g>\n",
       "       <use xlink:href=\"#m27fd262208\" x=\"221.603437\" y=\"239.758125\" style=\"stroke: #000000; stroke-width: 0.8\"/>\n",
       "      </g>\n",
       "     </g>\n",
       "     <g id=\"text_4\">\n",
       "      <!-- 1.0 -->\n",
       "      <g transform=\"translate(213.651875 254.356562)scale(0.1 -0.1)\">\n",
       "       <defs>\n",
       "        <path id=\"DejaVuSans-31\" d=\"M 794 531 \n",
       "L 1825 531 \n",
       "L 1825 4091 \n",
       "L 703 3866 \n",
       "L 703 4441 \n",
       "L 1819 4666 \n",
       "L 2450 4666 \n",
       "L 2450 531 \n",
       "L 3481 531 \n",
       "L 3481 0 \n",
       "L 794 0 \n",
       "L 794 531 \n",
       "z\n",
       "\" transform=\"scale(0.015625)\"/>\n",
       "       </defs>\n",
       "       <use xlink:href=\"#DejaVuSans-31\"/>\n",
       "       <use xlink:href=\"#DejaVuSans-2e\" x=\"63.623047\"/>\n",
       "       <use xlink:href=\"#DejaVuSans-30\" x=\"95.410156\"/>\n",
       "      </g>\n",
       "     </g>\n",
       "    </g>\n",
       "    <g id=\"xtick_5\">\n",
       "     <g id=\"line2d_5\">\n",
       "      <g>\n",
       "       <use xlink:href=\"#m27fd262208\" x=\"275.963437\" y=\"239.758125\" style=\"stroke: #000000; stroke-width: 0.8\"/>\n",
       "      </g>\n",
       "     </g>\n",
       "     <g id=\"text_5\">\n",
       "      <!-- 1.5 -->\n",
       "      <g transform=\"translate(268.011875 254.356562)scale(0.1 -0.1)\">\n",
       "       <use xlink:href=\"#DejaVuSans-31\"/>\n",
       "       <use xlink:href=\"#DejaVuSans-2e\" x=\"63.623047\"/>\n",
       "       <use xlink:href=\"#DejaVuSans-35\" x=\"95.410156\"/>\n",
       "      </g>\n",
       "     </g>\n",
       "    </g>\n",
       "    <g id=\"text_6\">\n",
       "     <!-- $x_1$ -->\n",
       "     <g transform=\"translate(161.893438 268.034687)scale(0.1 -0.1)\">\n",
       "      <defs>\n",
       "       <path id=\"DejaVuSans-Oblique-78\" d=\"M 3841 3500 \n",
       "L 2234 1784 \n",
       "L 3219 0 \n",
       "L 2559 0 \n",
       "L 1819 1388 \n",
       "L 531 0 \n",
       "L -166 0 \n",
       "L 1556 1844 \n",
       "L 641 3500 \n",
       "L 1300 3500 \n",
       "L 1972 2234 \n",
       "L 3144 3500 \n",
       "L 3841 3500 \n",
       "z\n",
       "\" transform=\"scale(0.015625)\"/>\n",
       "      </defs>\n",
       "      <use xlink:href=\"#DejaVuSans-Oblique-78\" transform=\"translate(0 0.3125)\"/>\n",
       "      <use xlink:href=\"#DejaVuSans-31\" transform=\"translate(59.179688 -16.09375)scale(0.7)\"/>\n",
       "     </g>\n",
       "    </g>\n",
       "   </g>\n",
       "   <g id=\"matplotlib.axis_2\">\n",
       "    <g id=\"ytick_1\">\n",
       "     <g id=\"line2d_6\">\n",
       "      <defs>\n",
       "       <path id=\"m2dd5235043\" d=\"M 0 0 \n",
       "L -3.5 0 \n",
       "\" style=\"stroke: #000000; stroke-width: 0.8\"/>\n",
       "      </defs>\n",
       "      <g>\n",
       "       <use xlink:href=\"#m2dd5235043\" x=\"58.523438\" y=\"239.758125\" style=\"stroke: #000000; stroke-width: 0.8\"/>\n",
       "      </g>\n",
       "     </g>\n",
       "     <g id=\"text_7\">\n",
       "      <!-- −0.50 -->\n",
       "      <g transform=\"translate(20.878125 243.557344)scale(0.1 -0.1)\">\n",
       "       <use xlink:href=\"#DejaVuSans-2212\"/>\n",
       "       <use xlink:href=\"#DejaVuSans-30\" x=\"83.789062\"/>\n",
       "       <use xlink:href=\"#DejaVuSans-2e\" x=\"147.412109\"/>\n",
       "       <use xlink:href=\"#DejaVuSans-35\" x=\"179.199219\"/>\n",
       "       <use xlink:href=\"#DejaVuSans-30\" x=\"242.822266\"/>\n",
       "      </g>\n",
       "     </g>\n",
       "    </g>\n",
       "    <g id=\"ytick_2\">\n",
       "     <g id=\"line2d_7\">\n",
       "      <g>\n",
       "       <use xlink:href=\"#m2dd5235043\" x=\"58.523438\" y=\"212.578125\" style=\"stroke: #000000; stroke-width: 0.8\"/>\n",
       "      </g>\n",
       "     </g>\n",
       "     <g id=\"text_8\">\n",
       "      <!-- −0.25 -->\n",
       "      <g transform=\"translate(20.878125 216.377344)scale(0.1 -0.1)\">\n",
       "       <defs>\n",
       "        <path id=\"DejaVuSans-32\" d=\"M 1228 531 \n",
       "L 3431 531 \n",
       "L 3431 0 \n",
       "L 469 0 \n",
       "L 469 531 \n",
       "Q 828 903 1448 1529 \n",
       "Q 2069 2156 2228 2338 \n",
       "Q 2531 2678 2651 2914 \n",
       "Q 2772 3150 2772 3378 \n",
       "Q 2772 3750 2511 3984 \n",
       "Q 2250 4219 1831 4219 \n",
       "Q 1534 4219 1204 4116 \n",
       "Q 875 4013 500 3803 \n",
       "L 500 4441 \n",
       "Q 881 4594 1212 4672 \n",
       "Q 1544 4750 1819 4750 \n",
       "Q 2544 4750 2975 4387 \n",
       "Q 3406 4025 3406 3419 \n",
       "Q 3406 3131 3298 2873 \n",
       "Q 3191 2616 2906 2266 \n",
       "Q 2828 2175 2409 1742 \n",
       "Q 1991 1309 1228 531 \n",
       "z\n",
       "\" transform=\"scale(0.015625)\"/>\n",
       "       </defs>\n",
       "       <use xlink:href=\"#DejaVuSans-2212\"/>\n",
       "       <use xlink:href=\"#DejaVuSans-30\" x=\"83.789062\"/>\n",
       "       <use xlink:href=\"#DejaVuSans-2e\" x=\"147.412109\"/>\n",
       "       <use xlink:href=\"#DejaVuSans-32\" x=\"179.199219\"/>\n",
       "       <use xlink:href=\"#DejaVuSans-35\" x=\"242.822266\"/>\n",
       "      </g>\n",
       "     </g>\n",
       "    </g>\n",
       "    <g id=\"ytick_3\">\n",
       "     <g id=\"line2d_8\">\n",
       "      <g>\n",
       "       <use xlink:href=\"#m2dd5235043\" x=\"58.523438\" y=\"185.398125\" style=\"stroke: #000000; stroke-width: 0.8\"/>\n",
       "      </g>\n",
       "     </g>\n",
       "     <g id=\"text_9\">\n",
       "      <!-- 0.00 -->\n",
       "      <g transform=\"translate(29.257812 189.197344)scale(0.1 -0.1)\">\n",
       "       <use xlink:href=\"#DejaVuSans-30\"/>\n",
       "       <use xlink:href=\"#DejaVuSans-2e\" x=\"63.623047\"/>\n",
       "       <use xlink:href=\"#DejaVuSans-30\" x=\"95.410156\"/>\n",
       "       <use xlink:href=\"#DejaVuSans-30\" x=\"159.033203\"/>\n",
       "      </g>\n",
       "     </g>\n",
       "    </g>\n",
       "    <g id=\"ytick_4\">\n",
       "     <g id=\"line2d_9\">\n",
       "      <g>\n",
       "       <use xlink:href=\"#m2dd5235043\" x=\"58.523438\" y=\"158.218125\" style=\"stroke: #000000; stroke-width: 0.8\"/>\n",
       "      </g>\n",
       "     </g>\n",
       "     <g id=\"text_10\">\n",
       "      <!-- 0.25 -->\n",
       "      <g transform=\"translate(29.257812 162.017344)scale(0.1 -0.1)\">\n",
       "       <use xlink:href=\"#DejaVuSans-30\"/>\n",
       "       <use xlink:href=\"#DejaVuSans-2e\" x=\"63.623047\"/>\n",
       "       <use xlink:href=\"#DejaVuSans-32\" x=\"95.410156\"/>\n",
       "       <use xlink:href=\"#DejaVuSans-35\" x=\"159.033203\"/>\n",
       "      </g>\n",
       "     </g>\n",
       "    </g>\n",
       "    <g id=\"ytick_5\">\n",
       "     <g id=\"line2d_10\">\n",
       "      <g>\n",
       "       <use xlink:href=\"#m2dd5235043\" x=\"58.523438\" y=\"131.038125\" style=\"stroke: #000000; stroke-width: 0.8\"/>\n",
       "      </g>\n",
       "     </g>\n",
       "     <g id=\"text_11\">\n",
       "      <!-- 0.50 -->\n",
       "      <g transform=\"translate(29.257812 134.837344)scale(0.1 -0.1)\">\n",
       "       <use xlink:href=\"#DejaVuSans-30\"/>\n",
       "       <use xlink:href=\"#DejaVuSans-2e\" x=\"63.623047\"/>\n",
       "       <use xlink:href=\"#DejaVuSans-35\" x=\"95.410156\"/>\n",
       "       <use xlink:href=\"#DejaVuSans-30\" x=\"159.033203\"/>\n",
       "      </g>\n",
       "     </g>\n",
       "    </g>\n",
       "    <g id=\"ytick_6\">\n",
       "     <g id=\"line2d_11\">\n",
       "      <g>\n",
       "       <use xlink:href=\"#m2dd5235043\" x=\"58.523438\" y=\"103.858125\" style=\"stroke: #000000; stroke-width: 0.8\"/>\n",
       "      </g>\n",
       "     </g>\n",
       "     <g id=\"text_12\">\n",
       "      <!-- 0.75 -->\n",
       "      <g transform=\"translate(29.257812 107.657344)scale(0.1 -0.1)\">\n",
       "       <defs>\n",
       "        <path id=\"DejaVuSans-37\" d=\"M 525 4666 \n",
       "L 3525 4666 \n",
       "L 3525 4397 \n",
       "L 1831 0 \n",
       "L 1172 0 \n",
       "L 2766 4134 \n",
       "L 525 4134 \n",
       "L 525 4666 \n",
       "z\n",
       "\" transform=\"scale(0.015625)\"/>\n",
       "       </defs>\n",
       "       <use xlink:href=\"#DejaVuSans-30\"/>\n",
       "       <use xlink:href=\"#DejaVuSans-2e\" x=\"63.623047\"/>\n",
       "       <use xlink:href=\"#DejaVuSans-37\" x=\"95.410156\"/>\n",
       "       <use xlink:href=\"#DejaVuSans-35\" x=\"159.033203\"/>\n",
       "      </g>\n",
       "     </g>\n",
       "    </g>\n",
       "    <g id=\"ytick_7\">\n",
       "     <g id=\"line2d_12\">\n",
       "      <g>\n",
       "       <use xlink:href=\"#m2dd5235043\" x=\"58.523438\" y=\"76.678125\" style=\"stroke: #000000; stroke-width: 0.8\"/>\n",
       "      </g>\n",
       "     </g>\n",
       "     <g id=\"text_13\">\n",
       "      <!-- 1.00 -->\n",
       "      <g transform=\"translate(29.257812 80.477344)scale(0.1 -0.1)\">\n",
       "       <use xlink:href=\"#DejaVuSans-31\"/>\n",
       "       <use xlink:href=\"#DejaVuSans-2e\" x=\"63.623047\"/>\n",
       "       <use xlink:href=\"#DejaVuSans-30\" x=\"95.410156\"/>\n",
       "       <use xlink:href=\"#DejaVuSans-30\" x=\"159.033203\"/>\n",
       "      </g>\n",
       "     </g>\n",
       "    </g>\n",
       "    <g id=\"ytick_8\">\n",
       "     <g id=\"line2d_13\">\n",
       "      <g>\n",
       "       <use xlink:href=\"#m2dd5235043\" x=\"58.523438\" y=\"49.498125\" style=\"stroke: #000000; stroke-width: 0.8\"/>\n",
       "      </g>\n",
       "     </g>\n",
       "     <g id=\"text_14\">\n",
       "      <!-- 1.25 -->\n",
       "      <g transform=\"translate(29.257812 53.297344)scale(0.1 -0.1)\">\n",
       "       <use xlink:href=\"#DejaVuSans-31\"/>\n",
       "       <use xlink:href=\"#DejaVuSans-2e\" x=\"63.623047\"/>\n",
       "       <use xlink:href=\"#DejaVuSans-32\" x=\"95.410156\"/>\n",
       "       <use xlink:href=\"#DejaVuSans-35\" x=\"159.033203\"/>\n",
       "      </g>\n",
       "     </g>\n",
       "    </g>\n",
       "    <g id=\"ytick_9\">\n",
       "     <g id=\"line2d_14\">\n",
       "      <g>\n",
       "       <use xlink:href=\"#m2dd5235043\" x=\"58.523438\" y=\"22.318125\" style=\"stroke: #000000; stroke-width: 0.8\"/>\n",
       "      </g>\n",
       "     </g>\n",
       "     <g id=\"text_15\">\n",
       "      <!-- 1.50 -->\n",
       "      <g transform=\"translate(29.257812 26.117344)scale(0.1 -0.1)\">\n",
       "       <use xlink:href=\"#DejaVuSans-31\"/>\n",
       "       <use xlink:href=\"#DejaVuSans-2e\" x=\"63.623047\"/>\n",
       "       <use xlink:href=\"#DejaVuSans-35\" x=\"95.410156\"/>\n",
       "       <use xlink:href=\"#DejaVuSans-30\" x=\"159.033203\"/>\n",
       "      </g>\n",
       "     </g>\n",
       "    </g>\n",
       "    <g id=\"text_16\">\n",
       "     <!-- $x_2$ -->\n",
       "     <g transform=\"translate(14.798437 136.388125)rotate(-90)scale(0.1 -0.1)\">\n",
       "      <use xlink:href=\"#DejaVuSans-Oblique-78\" transform=\"translate(0 0.3125)\"/>\n",
       "      <use xlink:href=\"#DejaVuSans-32\" transform=\"translate(59.179688 -16.09375)scale(0.7)\"/>\n",
       "     </g>\n",
       "    </g>\n",
       "   </g>\n",
       "   <g id=\"patch_3\">\n",
       "    <path d=\"M 58.523438 239.758125 \n",
       "L 58.523438 22.318125 \n",
       "\" style=\"fill: none; stroke: #000000; stroke-width: 0.8; stroke-linejoin: miter; stroke-linecap: square\"/>\n",
       "   </g>\n",
       "   <g id=\"patch_4\">\n",
       "    <path d=\"M 275.963437 239.758125 \n",
       "L 275.963437 22.318125 \n",
       "\" style=\"fill: none; stroke: #000000; stroke-width: 0.8; stroke-linejoin: miter; stroke-linecap: square\"/>\n",
       "   </g>\n",
       "   <g id=\"patch_5\">\n",
       "    <path d=\"M 58.523438 239.758125 \n",
       "L 275.963437 239.758125 \n",
       "\" style=\"fill: none; stroke: #000000; stroke-width: 0.8; stroke-linejoin: miter; stroke-linecap: square\"/>\n",
       "   </g>\n",
       "   <g id=\"patch_6\">\n",
       "    <path d=\"M 58.523438 22.318125 \n",
       "L 275.963437 22.318125 \n",
       "\" style=\"fill: none; stroke: #000000; stroke-width: 0.8; stroke-linejoin: miter; stroke-linecap: square\"/>\n",
       "   </g>\n",
       "   <g id=\"text_17\">\n",
       "    <!-- Dataset samples -->\n",
       "    <g transform=\"translate(116.900625 16.318125)scale(0.12 -0.12)\">\n",
       "     <defs>\n",
       "      <path id=\"DejaVuSans-44\" d=\"M 1259 4147 \n",
       "L 1259 519 \n",
       "L 2022 519 \n",
       "Q 2988 519 3436 956 \n",
       "Q 3884 1394 3884 2338 \n",
       "Q 3884 3275 3436 3711 \n",
       "Q 2988 4147 2022 4147 \n",
       "L 1259 4147 \n",
       "z\n",
       "M 628 4666 \n",
       "L 1925 4666 \n",
       "Q 3281 4666 3915 4102 \n",
       "Q 4550 3538 4550 2338 \n",
       "Q 4550 1131 3912 565 \n",
       "Q 3275 0 1925 0 \n",
       "L 628 0 \n",
       "L 628 4666 \n",
       "z\n",
       "\" transform=\"scale(0.015625)\"/>\n",
       "      <path id=\"DejaVuSans-61\" d=\"M 2194 1759 \n",
       "Q 1497 1759 1228 1600 \n",
       "Q 959 1441 959 1056 \n",
       "Q 959 750 1161 570 \n",
       "Q 1363 391 1709 391 \n",
       "Q 2188 391 2477 730 \n",
       "Q 2766 1069 2766 1631 \n",
       "L 2766 1759 \n",
       "L 2194 1759 \n",
       "z\n",
       "M 3341 1997 \n",
       "L 3341 0 \n",
       "L 2766 0 \n",
       "L 2766 531 \n",
       "Q 2569 213 2275 61 \n",
       "Q 1981 -91 1556 -91 \n",
       "Q 1019 -91 701 211 \n",
       "Q 384 513 384 1019 \n",
       "Q 384 1609 779 1909 \n",
       "Q 1175 2209 1959 2209 \n",
       "L 2766 2209 \n",
       "L 2766 2266 \n",
       "Q 2766 2663 2505 2880 \n",
       "Q 2244 3097 1772 3097 \n",
       "Q 1472 3097 1187 3025 \n",
       "Q 903 2953 641 2809 \n",
       "L 641 3341 \n",
       "Q 956 3463 1253 3523 \n",
       "Q 1550 3584 1831 3584 \n",
       "Q 2591 3584 2966 3190 \n",
       "Q 3341 2797 3341 1997 \n",
       "z\n",
       "\" transform=\"scale(0.015625)\"/>\n",
       "      <path id=\"DejaVuSans-74\" d=\"M 1172 4494 \n",
       "L 1172 3500 \n",
       "L 2356 3500 \n",
       "L 2356 3053 \n",
       "L 1172 3053 \n",
       "L 1172 1153 \n",
       "Q 1172 725 1289 603 \n",
       "Q 1406 481 1766 481 \n",
       "L 2356 481 \n",
       "L 2356 0 \n",
       "L 1766 0 \n",
       "Q 1100 0 847 248 \n",
       "Q 594 497 594 1153 \n",
       "L 594 3053 \n",
       "L 172 3053 \n",
       "L 172 3500 \n",
       "L 594 3500 \n",
       "L 594 4494 \n",
       "L 1172 4494 \n",
       "z\n",
       "\" transform=\"scale(0.015625)\"/>\n",
       "      <path id=\"DejaVuSans-73\" d=\"M 2834 3397 \n",
       "L 2834 2853 \n",
       "Q 2591 2978 2328 3040 \n",
       "Q 2066 3103 1784 3103 \n",
       "Q 1356 3103 1142 2972 \n",
       "Q 928 2841 928 2578 \n",
       "Q 928 2378 1081 2264 \n",
       "Q 1234 2150 1697 2047 \n",
       "L 1894 2003 \n",
       "Q 2506 1872 2764 1633 \n",
       "Q 3022 1394 3022 966 \n",
       "Q 3022 478 2636 193 \n",
       "Q 2250 -91 1575 -91 \n",
       "Q 1294 -91 989 -36 \n",
       "Q 684 19 347 128 \n",
       "L 347 722 \n",
       "Q 666 556 975 473 \n",
       "Q 1284 391 1588 391 \n",
       "Q 1994 391 2212 530 \n",
       "Q 2431 669 2431 922 \n",
       "Q 2431 1156 2273 1281 \n",
       "Q 2116 1406 1581 1522 \n",
       "L 1381 1569 \n",
       "Q 847 1681 609 1914 \n",
       "Q 372 2147 372 2553 \n",
       "Q 372 3047 722 3315 \n",
       "Q 1072 3584 1716 3584 \n",
       "Q 2034 3584 2315 3537 \n",
       "Q 2597 3491 2834 3397 \n",
       "z\n",
       "\" transform=\"scale(0.015625)\"/>\n",
       "      <path id=\"DejaVuSans-65\" d=\"M 3597 1894 \n",
       "L 3597 1613 \n",
       "L 953 1613 \n",
       "Q 991 1019 1311 708 \n",
       "Q 1631 397 2203 397 \n",
       "Q 2534 397 2845 478 \n",
       "Q 3156 559 3463 722 \n",
       "L 3463 178 \n",
       "Q 3153 47 2828 -22 \n",
       "Q 2503 -91 2169 -91 \n",
       "Q 1331 -91 842 396 \n",
       "Q 353 884 353 1716 \n",
       "Q 353 2575 817 3079 \n",
       "Q 1281 3584 2069 3584 \n",
       "Q 2775 3584 3186 3129 \n",
       "Q 3597 2675 3597 1894 \n",
       "z\n",
       "M 3022 2063 \n",
       "Q 3016 2534 2758 2815 \n",
       "Q 2500 3097 2075 3097 \n",
       "Q 1594 3097 1305 2825 \n",
       "Q 1016 2553 972 2059 \n",
       "L 3022 2063 \n",
       "z\n",
       "\" transform=\"scale(0.015625)\"/>\n",
       "      <path id=\"DejaVuSans-20\" transform=\"scale(0.015625)\"/>\n",
       "      <path id=\"DejaVuSans-6d\" d=\"M 3328 2828 \n",
       "Q 3544 3216 3844 3400 \n",
       "Q 4144 3584 4550 3584 \n",
       "Q 5097 3584 5394 3201 \n",
       "Q 5691 2819 5691 2113 \n",
       "L 5691 0 \n",
       "L 5113 0 \n",
       "L 5113 2094 \n",
       "Q 5113 2597 4934 2840 \n",
       "Q 4756 3084 4391 3084 \n",
       "Q 3944 3084 3684 2787 \n",
       "Q 3425 2491 3425 1978 \n",
       "L 3425 0 \n",
       "L 2847 0 \n",
       "L 2847 2094 \n",
       "Q 2847 2600 2669 2842 \n",
       "Q 2491 3084 2119 3084 \n",
       "Q 1678 3084 1418 2786 \n",
       "Q 1159 2488 1159 1978 \n",
       "L 1159 0 \n",
       "L 581 0 \n",
       "L 581 3500 \n",
       "L 1159 3500 \n",
       "L 1159 2956 \n",
       "Q 1356 3278 1631 3431 \n",
       "Q 1906 3584 2284 3584 \n",
       "Q 2666 3584 2933 3390 \n",
       "Q 3200 3197 3328 2828 \n",
       "z\n",
       "\" transform=\"scale(0.015625)\"/>\n",
       "      <path id=\"DejaVuSans-70\" d=\"M 1159 525 \n",
       "L 1159 -1331 \n",
       "L 581 -1331 \n",
       "L 581 3500 \n",
       "L 1159 3500 \n",
       "L 1159 2969 \n",
       "Q 1341 3281 1617 3432 \n",
       "Q 1894 3584 2278 3584 \n",
       "Q 2916 3584 3314 3078 \n",
       "Q 3713 2572 3713 1747 \n",
       "Q 3713 922 3314 415 \n",
       "Q 2916 -91 2278 -91 \n",
       "Q 1894 -91 1617 61 \n",
       "Q 1341 213 1159 525 \n",
       "z\n",
       "M 3116 1747 \n",
       "Q 3116 2381 2855 2742 \n",
       "Q 2594 3103 2138 3103 \n",
       "Q 1681 3103 1420 2742 \n",
       "Q 1159 2381 1159 1747 \n",
       "Q 1159 1113 1420 752 \n",
       "Q 1681 391 2138 391 \n",
       "Q 2594 391 2855 752 \n",
       "Q 3116 1113 3116 1747 \n",
       "z\n",
       "\" transform=\"scale(0.015625)\"/>\n",
       "      <path id=\"DejaVuSans-6c\" d=\"M 603 4863 \n",
       "L 1178 4863 \n",
       "L 1178 0 \n",
       "L 603 0 \n",
       "L 603 4863 \n",
       "z\n",
       "\" transform=\"scale(0.015625)\"/>\n",
       "     </defs>\n",
       "     <use xlink:href=\"#DejaVuSans-44\"/>\n",
       "     <use xlink:href=\"#DejaVuSans-61\" x=\"77.001953\"/>\n",
       "     <use xlink:href=\"#DejaVuSans-74\" x=\"138.28125\"/>\n",
       "     <use xlink:href=\"#DejaVuSans-61\" x=\"177.490234\"/>\n",
       "     <use xlink:href=\"#DejaVuSans-73\" x=\"238.769531\"/>\n",
       "     <use xlink:href=\"#DejaVuSans-65\" x=\"290.869141\"/>\n",
       "     <use xlink:href=\"#DejaVuSans-74\" x=\"352.392578\"/>\n",
       "     <use xlink:href=\"#DejaVuSans-20\" x=\"391.601562\"/>\n",
       "     <use xlink:href=\"#DejaVuSans-73\" x=\"423.388672\"/>\n",
       "     <use xlink:href=\"#DejaVuSans-61\" x=\"475.488281\"/>\n",
       "     <use xlink:href=\"#DejaVuSans-6d\" x=\"536.767578\"/>\n",
       "     <use xlink:href=\"#DejaVuSans-70\" x=\"634.179688\"/>\n",
       "     <use xlink:href=\"#DejaVuSans-6c\" x=\"697.65625\"/>\n",
       "     <use xlink:href=\"#DejaVuSans-65\" x=\"725.439453\"/>\n",
       "     <use xlink:href=\"#DejaVuSans-73\" x=\"786.962891\"/>\n",
       "    </g>\n",
       "   </g>\n",
       "   <g id=\"legend_1\">\n",
       "    <g id=\"patch_7\">\n",
       "     <path d=\"M 65.523438 59.674375 \n",
       "L 133.371875 59.674375 \n",
       "Q 135.371875 59.674375 135.371875 57.674375 \n",
       "L 135.371875 29.318125 \n",
       "Q 135.371875 27.318125 133.371875 27.318125 \n",
       "L 65.523438 27.318125 \n",
       "Q 63.523438 27.318125 63.523438 29.318125 \n",
       "L 63.523438 57.674375 \n",
       "Q 63.523438 59.674375 65.523438 59.674375 \n",
       "z\n",
       "\" style=\"fill: #ffffff; opacity: 0.8; stroke: #cccccc; stroke-linejoin: miter\"/>\n",
       "    </g>\n",
       "    <g id=\"PathCollection_3\">\n",
       "     <g>\n",
       "      <use xlink:href=\"#ma434a1aa9b\" x=\"77.523438\" y=\"36.291562\" style=\"fill: #1f77b4; stroke: #333333\"/>\n",
       "     </g>\n",
       "    </g>\n",
       "    <g id=\"text_18\">\n",
       "     <!-- Class 0 -->\n",
       "     <g transform=\"translate(95.523438 38.916562)scale(0.1 -0.1)\">\n",
       "      <defs>\n",
       "       <path id=\"DejaVuSans-43\" d=\"M 4122 4306 \n",
       "L 4122 3641 \n",
       "Q 3803 3938 3442 4084 \n",
       "Q 3081 4231 2675 4231 \n",
       "Q 1875 4231 1450 3742 \n",
       "Q 1025 3253 1025 2328 \n",
       "Q 1025 1406 1450 917 \n",
       "Q 1875 428 2675 428 \n",
       "Q 3081 428 3442 575 \n",
       "Q 3803 722 4122 1019 \n",
       "L 4122 359 \n",
       "Q 3791 134 3420 21 \n",
       "Q 3050 -91 2638 -91 \n",
       "Q 1578 -91 968 557 \n",
       "Q 359 1206 359 2328 \n",
       "Q 359 3453 968 4101 \n",
       "Q 1578 4750 2638 4750 \n",
       "Q 3056 4750 3426 4639 \n",
       "Q 3797 4528 4122 4306 \n",
       "z\n",
       "\" transform=\"scale(0.015625)\"/>\n",
       "      </defs>\n",
       "      <use xlink:href=\"#DejaVuSans-43\"/>\n",
       "      <use xlink:href=\"#DejaVuSans-6c\" x=\"69.824219\"/>\n",
       "      <use xlink:href=\"#DejaVuSans-61\" x=\"97.607422\"/>\n",
       "      <use xlink:href=\"#DejaVuSans-73\" x=\"158.886719\"/>\n",
       "      <use xlink:href=\"#DejaVuSans-73\" x=\"210.986328\"/>\n",
       "      <use xlink:href=\"#DejaVuSans-20\" x=\"263.085938\"/>\n",
       "      <use xlink:href=\"#DejaVuSans-30\" x=\"294.873047\"/>\n",
       "     </g>\n",
       "    </g>\n",
       "    <g id=\"PathCollection_4\">\n",
       "     <g>\n",
       "      <use xlink:href=\"#mc5f29f6089\" x=\"77.523438\" y=\"50.969687\" style=\"fill: #ff7f0e; stroke: #333333\"/>\n",
       "     </g>\n",
       "    </g>\n",
       "    <g id=\"text_19\">\n",
       "     <!-- Class 1 -->\n",
       "     <g transform=\"translate(95.523438 53.594687)scale(0.1 -0.1)\">\n",
       "      <use xlink:href=\"#DejaVuSans-43\"/>\n",
       "      <use xlink:href=\"#DejaVuSans-6c\" x=\"69.824219\"/>\n",
       "      <use xlink:href=\"#DejaVuSans-61\" x=\"97.607422\"/>\n",
       "      <use xlink:href=\"#DejaVuSans-73\" x=\"158.886719\"/>\n",
       "      <use xlink:href=\"#DejaVuSans-73\" x=\"210.986328\"/>\n",
       "      <use xlink:href=\"#DejaVuSans-20\" x=\"263.085938\"/>\n",
       "      <use xlink:href=\"#DejaVuSans-31\" x=\"294.873047\"/>\n",
       "     </g>\n",
       "    </g>\n",
       "   </g>\n",
       "  </g>\n",
       " </g>\n",
       " <defs>\n",
       "  <clipPath id=\"p5e1411335d\">\n",
       "   <rect x=\"58.523438\" y=\"22.318125\" width=\"217.44\" height=\"217.44\"/>\n",
       "  </clipPath>\n",
       " </defs>\n",
       "</svg>\n"
      ],
      "text/plain": [
       "<Figure size 288x288 with 1 Axes>"
      ]
     },
     "metadata": {
      "needs_background": "light"
     },
     "output_type": "display_data"
    }
   ],
   "source": [
    "@torch.no_grad()  # Decorator, same effect as \"with torch.no_grad(): ...\" over the whole function.\n",
    "def visualize_classification(model, data, label):\n",
    "    if isinstance(data, torch.Tensor):\n",
    "        data = data.cpu().numpy()\n",
    "    if isinstance(label, torch.Tensor):\n",
    "        label = label.cpu().numpy()\n",
    "    data_0 = data[label == 0]\n",
    "    data_1 = data[label == 1]\n",
    "\n",
    "    plt.figure(figsize=(4, 4))\n",
    "    plt.scatter(data_0[:, 0], data_0[:, 1], edgecolor=\"#333\", label=\"Class 0\")\n",
    "    plt.scatter(data_1[:, 0], data_1[:, 1], edgecolor=\"#333\", label=\"Class 1\")\n",
    "    plt.title(\"Dataset samples\")\n",
    "    plt.ylabel(r\"$x_2$\")\n",
    "    plt.xlabel(r\"$x_1$\")\n",
    "    plt.legend()\n",
    "\n",
    "    # Let's make use of a lot of operations we have learned above\n",
    "    model.to(device)\n",
    "    c0 = torch.Tensor(to_rgba(\"C0\")).to(device)\n",
    "    c1 = torch.Tensor(to_rgba(\"C1\")).to(device)\n",
    "    x1 = torch.arange(-0.5, 1.5, step=0.01, device=device)\n",
    "    x2 = torch.arange(-0.5, 1.5, step=0.01, device=device)\n",
    "    xx1, xx2 = torch.meshgrid(x1, x2)  # Meshgrid function as in numpy\n",
    "    model_inputs = torch.stack([xx1, xx2], dim=-1)\n",
    "    preds = model(model_inputs)\n",
    "    preds = torch.sigmoid(preds)\n",
    "    # Specifying \"None\" in a dimension creates a new one\n",
    "    output_image = (1 - preds) * c0[None, None] + preds * c1[None, None]\n",
    "    output_image = (\n",
    "        output_image.cpu().numpy()\n",
    "    )  # Convert to numpy array. This only works for tensors on CPU, hence first push to CPU\n",
    "    plt.imshow(output_image, origin=\"lower\", extent=(-0.5, 1.5, -0.5, 1.5))\n",
    "    plt.grid(False)\n",
    "\n",
    "\n",
    "visualize_classification(model, dataset.data, dataset.label)\n",
    "plt.show()"
   ]
  },
  {
   "cell_type": "markdown",
   "id": "34a5111d",
   "metadata": {
    "id": "34a5111d",
    "papermill": {
     "duration": 0.21845,
     "end_time": "2021-12-04T15:54:19.694395",
     "exception": false,
     "start_time": "2021-12-04T15:54:19.475945",
     "status": "completed"
    },
    "tags": []
   },
   "source": [
    "The decision boundaries might not look exactly as in the figure in the preamble of this section which can be caused by running it on CPU or a different GPU architecture.\n",
    "Nevertheless, the result on the accuracy metric should be the approximately the same."
   ]
  },
  {
   "cell_type": "markdown",
   "id": "a501a3ba",
   "metadata": {
    "id": "a501a3ba",
    "papermill": {
     "duration": 0.219567,
     "end_time": "2021-12-04T15:54:20.134648",
     "exception": false,
     "start_time": "2021-12-04T15:54:19.915081",
     "status": "completed"
    },
    "tags": []
   },
   "source": [
    "## Additional features we didn't get to discuss yet\n",
    "\n",
    "Finally, you are all set to start with your own PyTorch project!\n",
    "In summary, we have looked at how we can build neural networks in PyTorch, and train and test them on data.\n",
    "However, there is still much more to PyTorch we haven't discussed yet.\n",
    "In the comming series of Jupyter notebooks, we will discover more and more functionalities of PyTorch, so that you also get familiar to PyTorch concepts beyond the basics.\n",
    "If you are already interested in learning more of PyTorch, we recommend the official [tutorial website](https://pytorch.org/tutorials/) that contains many tutorials on various topics.\n",
    "Especially logging with Tensorboard ([tutorial\n",
    "here](https://pytorch.org/tutorials/intermediate/tensorboard_tutorial.html))\n",
    "is a good practice that we will explore from Tutorial 5 on."
   ]
  },
  {
   "cell_type": "markdown",
   "id": "96f1e6ba",
   "metadata": {
    "id": "96f1e6ba",
    "papermill": {
     "duration": 0.227432,
     "end_time": "2021-12-04T15:54:20.580697",
     "exception": false,
     "start_time": "2021-12-04T15:54:20.353265",
     "status": "completed"
    },
    "tags": []
   },
   "source": [
    "## Congratulations - Time to Join the Community!\n",
    "\n",
    "Congratulations on completing this notebook tutorial! If you enjoyed this and would like to join the Lightning\n",
    "movement, you can do so in the following ways!\n",
    "\n",
    "### Star [Lightning](https://github.com/PyTorchLightning/pytorch-lightning) on GitHub\n",
    "The easiest way to help our community is just by starring the GitHub repos! This helps raise awareness of the cool\n",
    "tools we're building.\n",
    "\n",
    "### Join our [Slack](https://join.slack.com/t/pytorch-lightning/shared_invite/zt-pw5v393p-qRaDgEk24~EjiZNBpSQFgQ)!\n",
    "The best way to keep up to date on the latest advancements is to join our community! Make sure to introduce yourself\n",
    "and share your interests in `#general` channel\n",
    "\n",
    "\n",
    "### Contributions !\n",
    "The best way to contribute to our community is to become a code contributor! At any time you can go to\n",
    "[Lightning](https://github.com/PyTorchLightning/pytorch-lightning) or [Bolt](https://github.com/PyTorchLightning/lightning-bolts)\n",
    "GitHub Issues page and filter for \"good first issue\".\n",
    "\n",
    "* [Lightning good first issue](https://github.com/PyTorchLightning/pytorch-lightning/issues?q=is%3Aopen+is%3Aissue+label%3A%22good+first+issue%22)\n",
    "* [Bolt good first issue](https://github.com/PyTorchLightning/lightning-bolts/issues?q=is%3Aopen+is%3Aissue+label%3A%22good+first+issue%22)\n",
    "* You can also contribute your own notebooks with useful examples !\n",
    "\n",
    "### Great thanks from the entire Pytorch Lightning Team for your interest !\n",
    "\n",
    "[![Pytorch Lightning](data:image/png;base64,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){height=\"60px\" width=\"240px\"}](https://pytorchlightning.ai)"
   ]
  },
  {
   "cell_type": "code",
   "execution_count": null,
   "id": "8d23b1de",
   "metadata": {},
   "outputs": [],
   "source": []
  }
 ],
 "metadata": {
  "colab": {
   "name": "01-introduction-to-pytorch.ipynb",
   "provenance": []
  },
  "jupytext": {
   "cell_metadata_filter": "colab,colab_type,id,-all",
   "formats": "ipynb,py:percent",
   "main_language": "python"
  },
  "kernelspec": {
   "display_name": "Python 3 (ipykernel)",
   "language": "python",
   "name": "python3"
  },
  "language_info": {
   "codemirror_mode": {
    "name": "ipython",
    "version": 3
   },
   "file_extension": ".py",
   "mimetype": "text/x-python",
   "name": "python",
   "nbconvert_exporter": "python",
   "pygments_lexer": "ipython3",
   "version": "3.9.7"
  },
  "papermill": {
   "default_parameters": {},
   "duration": 60.734817,
   "end_time": "2021-12-04T15:54:21.407766",
   "environment_variables": {},
   "exception": null,
   "input_path": "course_UvA-DL/01-introduction-to-pytorch/Introduction_to_PyTorch.ipynb",
   "output_path": ".notebooks/course_UvA-DL/01-introduction-to-pytorch.ipynb",
   "parameters": {},
   "start_time": "2021-12-04T15:53:20.672949",
   "version": "2.3.3"
  }
 },
 "nbformat": 4,
 "nbformat_minor": 5
}
